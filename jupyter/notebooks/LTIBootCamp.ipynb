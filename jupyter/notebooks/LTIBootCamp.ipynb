{
 "cells": [
  {
   "cell_type": "markdown",
   "metadata": {},
   "source": [
    "<img src=\"assets/bootcamp.png\">\n",
    "\n",
    "# **LTI&trade; Advantage** bootcamp notebook for Tool\n",
    "\n",
    "Ping me if you have any question or feedback: claude.vervoort@gmail.com\n",
    "\n",
    "This bootcamp code is available on: https://github.com/claudevervoort-perso/ltibootcamp, if you want to run it on your local laptop/network.\n",
    "\n",
    "\n",
    "## Introduction\n",
    "\n",
    "The notebook shows how to interact with the LTI Advantage ecosystem from a learning tool implementer viewpoint. It interacts with an actual test server acting as an LTI Platform simumlator to support this notebook.\n",
    "\n",
    "If you want a refreshed on what is LTI and LTI Advantage, you can check the 9 minutes video here or on [youtube](https://www.youtube.com/watch?v=f_6pWiQpg5s).\n"
   ]
  },
  {
   "cell_type": "code",
   "execution_count": 6,
   "metadata": {},
   "outputs": [
    {
     "data": {
      "text/html": [
       "\n",
       "        <iframe\n",
       "            width=\"560\"\n",
       "            height=\"315\"\n",
       "            src=\"https://www.youtube.com/embed/f_6pWiQpg5s\"\n",
       "            frameborder=\"0\"\n",
       "            allowfullscreen\n",
       "        ></iframe>\n",
       "        "
      ],
      "text/plain": [
       "<IPython.lib.display.IFrame at 0x7f25ed1f83c8>"
      ]
     },
     "metadata": {},
     "output_type": "display_data"
    }
   ],
   "source": [
    "from IPython.display import display, Markdown, HTML, Javascript, IFrame\n",
    "\n",
    "display(IFrame(src='https://www.youtube.com/embed/f_6pWiQpg5s', width=560, height=315))"
   ]
  },
  {
   "cell_type": "markdown",
   "metadata": {},
   "source": [
    "## Limitation\n",
    "\n",
    "<img src=\"assets/bootcamp_arch.png\" width=\"60%\">\n",
    "\n",
    "The test tool platform cannot launch into the bootcamp. So we will initiate the LTI launches directly rather than having those triggered by a call from the platform on a 3rd party initiated login end point."
   ]
  },
  {
   "cell_type": "markdown",
   "metadata": {},
   "source": [
    "# Setup\n",
    "\n",
    "## Libraries and utilities\n",
    "\n",
    "Here we just import the libraries that will be needed in this notebook, define some utility functions and constants."
   ]
  },
  {
   "cell_type": "code",
   "execution_count": 1,
   "metadata": {},
   "outputs": [],
   "source": [
    "import requests\n",
    "import json\n",
    "import jwt\n",
    "import base64\n",
    "import re\n",
    "from random import randint\n",
    "from time import time, sleep\n",
    "from datetime import datetime, timedelta\n",
    "from cryptography.hazmat.primitives.asymmetric.rsa import RSAPublicNumbers\n",
    "from cryptography.hazmat.primitives.asymmetric import rsa\n",
    "from cryptography.hazmat.backends import default_backend\n",
    "from cryptography.hazmat.primitives import serialization\n",
    "from cryptography.hazmat.primitives.serialization import Encoding, PublicFormat\n",
    "\n",
    "def decode_int(b64value):\n",
    "    return int.from_bytes(base64.urlsafe_b64decode(b64value), byteorder='big')\n",
    "\n",
    "# for concise code, return full claim \n",
    "def fc(claim, s=None):\n",
    "    suffix = ('-'+s) if s else ''\n",
    "    return 'https://purl.imsglobal.org/spec/lti{0}/claim/{1}'.format(suffix, claim)\n",
    "\n",
    "def scope(scope, s=None):\n",
    "    suffix = ('-'+s) if s else ''\n",
    "    return 'https://purl.imsglobal.org/spec/lti{0}/scope/{1}'.format(suffix, scope)\n",
    "    \n",
    "def md(mdt):\n",
    "    display(Markdown(mdt))\n",
    "    \n",
    "def mdjson(j):\n",
    "    md(\"```{0}```\".format(j))\n",
    "    \n",
    "md_buffer = ''\n",
    "\n",
    "def mdb(mdt=None):\n",
    "    global md_buffer\n",
    "    if mdt:\n",
    "        md_buffer = md_buffer + '\\n' + mdt\n",
    "    else:\n",
    "        md(md_buffer)\n",
    "        md_buffer = ''\n",
    "        \n",
    "# In LTI (and OIDC flows) End user's browser gets redirected from \n",
    "# the platform to the tool (or vice versa) using Autopost forms\n",
    "# i.e pages that add a form and submits it right away.\n",
    "# Since we cannot redirect the full notebook, those interactions\n",
    "# happen in IFrames.\n",
    "def autopost_iframe(name, url, params):\n",
    "    inputs = ''\n",
    "    for key in params.keys():\n",
    "        input = \"\"\"$('<input>').attr({{\n",
    "                    type: 'hidden',\n",
    "                    name: '{name}',\n",
    "                    value: '{value}'\n",
    "                }}).appendTo(ltiForm);\n",
    "                \"\"\".format(name=key, value=params[key])\n",
    "        inputs = inputs + input\n",
    "        autosubmit_js = \"\"\"\n",
    "                var ltiForm = $('<form>');                \n",
    "                ltiForm.attr('action', '{url}');\n",
    "                ltiForm.attr('method', 'POST');\n",
    "                ltiForm.attr('target', '{name}');\n",
    "                {inputs}\n",
    "                $('#{name}').before(ltiForm);\n",
    "                ltiForm.submit();\n",
    "                ltiForm.remove();\n",
    "                \"\"\"\n",
    "\n",
    "    autosubmit_js = autosubmit_js.format(name=name, url=url, inputs=inputs)\n",
    "\n",
    "    #md(autosubmit_js)\n",
    "    display(HTML('<iframe id=\"{name}\" name=\"{name}\" style=\"height: 300px; width:100%\"></iframe>'.format(name=name)))\n",
    "    display(Javascript(data=autosubmit_js, \n",
    "                   lib=\"https://code.jquery.com/jquery-3.3.1.min.js\"))\n",
    "\n"
   ]
  },
  {
   "cell_type": "markdown",
   "metadata": {},
   "source": [
    "## LTI Platform url"
   ]
  },
  {
   "cell_type": "code",
   "execution_count": 10,
   "metadata": {},
   "outputs": [
    {
     "ename": "SSLError",
     "evalue": "HTTPSConnectionPool(host='ltiplatform.theedtech.dev', port=443): Max retries exceeded with url: /ping (Caused by SSLError(SSLError(\"bad handshake: Error([('SSL routines', 'tls_process_server_certificate', 'certificate verify failed')],)\",),))",
     "output_type": "error",
     "traceback": [
      "\u001b[0;31m---------------------------------------------------------------------------\u001b[0m",
      "\u001b[0;31mError\u001b[0m                                     Traceback (most recent call last)",
      "\u001b[0;32m~/py3envs/jupyter/lib/python3.6/site-packages/urllib3/contrib/pyopenssl.py\u001b[0m in \u001b[0;36mwrap_socket\u001b[0;34m(self, sock, server_side, do_handshake_on_connect, suppress_ragged_eofs, server_hostname)\u001b[0m\n\u001b[1;32m    455\u001b[0m             \u001b[0;32mtry\u001b[0m\u001b[0;34m:\u001b[0m\u001b[0;34m\u001b[0m\u001b[0;34m\u001b[0m\u001b[0m\n\u001b[0;32m--> 456\u001b[0;31m                 \u001b[0mcnx\u001b[0m\u001b[0;34m.\u001b[0m\u001b[0mdo_handshake\u001b[0m\u001b[0;34m(\u001b[0m\u001b[0;34m)\u001b[0m\u001b[0;34m\u001b[0m\u001b[0;34m\u001b[0m\u001b[0m\n\u001b[0m\u001b[1;32m    457\u001b[0m             \u001b[0;32mexcept\u001b[0m \u001b[0mOpenSSL\u001b[0m\u001b[0;34m.\u001b[0m\u001b[0mSSL\u001b[0m\u001b[0;34m.\u001b[0m\u001b[0mWantReadError\u001b[0m\u001b[0;34m:\u001b[0m\u001b[0;34m\u001b[0m\u001b[0;34m\u001b[0m\u001b[0m\n",
      "\u001b[0;32m~/py3envs/jupyter/lib/python3.6/site-packages/OpenSSL/SSL.py\u001b[0m in \u001b[0;36mdo_handshake\u001b[0;34m(self)\u001b[0m\n\u001b[1;32m   1914\u001b[0m         \u001b[0mresult\u001b[0m \u001b[0;34m=\u001b[0m \u001b[0m_lib\u001b[0m\u001b[0;34m.\u001b[0m\u001b[0mSSL_do_handshake\u001b[0m\u001b[0;34m(\u001b[0m\u001b[0mself\u001b[0m\u001b[0;34m.\u001b[0m\u001b[0m_ssl\u001b[0m\u001b[0;34m)\u001b[0m\u001b[0;34m\u001b[0m\u001b[0;34m\u001b[0m\u001b[0m\n\u001b[0;32m-> 1915\u001b[0;31m         \u001b[0mself\u001b[0m\u001b[0;34m.\u001b[0m\u001b[0m_raise_ssl_error\u001b[0m\u001b[0;34m(\u001b[0m\u001b[0mself\u001b[0m\u001b[0;34m.\u001b[0m\u001b[0m_ssl\u001b[0m\u001b[0;34m,\u001b[0m \u001b[0mresult\u001b[0m\u001b[0;34m)\u001b[0m\u001b[0;34m\u001b[0m\u001b[0;34m\u001b[0m\u001b[0m\n\u001b[0m\u001b[1;32m   1916\u001b[0m \u001b[0;34m\u001b[0m\u001b[0m\n",
      "\u001b[0;32m~/py3envs/jupyter/lib/python3.6/site-packages/OpenSSL/SSL.py\u001b[0m in \u001b[0;36m_raise_ssl_error\u001b[0;34m(self, ssl, result)\u001b[0m\n\u001b[1;32m   1646\u001b[0m         \u001b[0;32melse\u001b[0m\u001b[0;34m:\u001b[0m\u001b[0;34m\u001b[0m\u001b[0;34m\u001b[0m\u001b[0m\n\u001b[0;32m-> 1647\u001b[0;31m             \u001b[0m_raise_current_error\u001b[0m\u001b[0;34m(\u001b[0m\u001b[0;34m)\u001b[0m\u001b[0;34m\u001b[0m\u001b[0;34m\u001b[0m\u001b[0m\n\u001b[0m\u001b[1;32m   1648\u001b[0m \u001b[0;34m\u001b[0m\u001b[0m\n",
      "\u001b[0;32m~/py3envs/jupyter/lib/python3.6/site-packages/OpenSSL/_util.py\u001b[0m in \u001b[0;36mexception_from_error_queue\u001b[0;34m(exception_type)\u001b[0m\n\u001b[1;32m     53\u001b[0m \u001b[0;34m\u001b[0m\u001b[0m\n\u001b[0;32m---> 54\u001b[0;31m     \u001b[0;32mraise\u001b[0m \u001b[0mexception_type\u001b[0m\u001b[0;34m(\u001b[0m\u001b[0merrors\u001b[0m\u001b[0;34m)\u001b[0m\u001b[0;34m\u001b[0m\u001b[0;34m\u001b[0m\u001b[0m\n\u001b[0m\u001b[1;32m     55\u001b[0m \u001b[0;34m\u001b[0m\u001b[0m\n",
      "\u001b[0;31mError\u001b[0m: [('SSL routines', 'tls_process_server_certificate', 'certificate verify failed')]",
      "\nDuring handling of the above exception, another exception occurred:\n",
      "\u001b[0;31mSSLError\u001b[0m                                  Traceback (most recent call last)",
      "\u001b[0;32m~/py3envs/jupyter/lib/python3.6/site-packages/urllib3/connectionpool.py\u001b[0m in \u001b[0;36murlopen\u001b[0;34m(self, method, url, body, headers, retries, redirect, assert_same_host, timeout, pool_timeout, release_conn, chunked, body_pos, **response_kw)\u001b[0m\n\u001b[1;32m    599\u001b[0m                                                   \u001b[0mbody\u001b[0m\u001b[0;34m=\u001b[0m\u001b[0mbody\u001b[0m\u001b[0;34m,\u001b[0m \u001b[0mheaders\u001b[0m\u001b[0;34m=\u001b[0m\u001b[0mheaders\u001b[0m\u001b[0;34m,\u001b[0m\u001b[0;34m\u001b[0m\u001b[0;34m\u001b[0m\u001b[0m\n\u001b[0;32m--> 600\u001b[0;31m                                                   chunked=chunked)\n\u001b[0m\u001b[1;32m    601\u001b[0m \u001b[0;34m\u001b[0m\u001b[0m\n",
      "\u001b[0;32m~/py3envs/jupyter/lib/python3.6/site-packages/urllib3/connectionpool.py\u001b[0m in \u001b[0;36m_make_request\u001b[0;34m(self, conn, method, url, timeout, chunked, **httplib_request_kw)\u001b[0m\n\u001b[1;32m    342\u001b[0m         \u001b[0;32mtry\u001b[0m\u001b[0;34m:\u001b[0m\u001b[0;34m\u001b[0m\u001b[0;34m\u001b[0m\u001b[0m\n\u001b[0;32m--> 343\u001b[0;31m             \u001b[0mself\u001b[0m\u001b[0;34m.\u001b[0m\u001b[0m_validate_conn\u001b[0m\u001b[0;34m(\u001b[0m\u001b[0mconn\u001b[0m\u001b[0;34m)\u001b[0m\u001b[0;34m\u001b[0m\u001b[0;34m\u001b[0m\u001b[0m\n\u001b[0m\u001b[1;32m    344\u001b[0m         \u001b[0;32mexcept\u001b[0m \u001b[0;34m(\u001b[0m\u001b[0mSocketTimeout\u001b[0m\u001b[0;34m,\u001b[0m \u001b[0mBaseSSLError\u001b[0m\u001b[0;34m)\u001b[0m \u001b[0;32mas\u001b[0m \u001b[0me\u001b[0m\u001b[0;34m:\u001b[0m\u001b[0;34m\u001b[0m\u001b[0;34m\u001b[0m\u001b[0m\n",
      "\u001b[0;32m~/py3envs/jupyter/lib/python3.6/site-packages/urllib3/connectionpool.py\u001b[0m in \u001b[0;36m_validate_conn\u001b[0;34m(self, conn)\u001b[0m\n\u001b[1;32m    838\u001b[0m         \u001b[0;32mif\u001b[0m \u001b[0;32mnot\u001b[0m \u001b[0mgetattr\u001b[0m\u001b[0;34m(\u001b[0m\u001b[0mconn\u001b[0m\u001b[0;34m,\u001b[0m \u001b[0;34m'sock'\u001b[0m\u001b[0;34m,\u001b[0m \u001b[0;32mNone\u001b[0m\u001b[0;34m)\u001b[0m\u001b[0;34m:\u001b[0m  \u001b[0;31m# AppEngine might not have  `.sock`\u001b[0m\u001b[0;34m\u001b[0m\u001b[0;34m\u001b[0m\u001b[0m\n\u001b[0;32m--> 839\u001b[0;31m             \u001b[0mconn\u001b[0m\u001b[0;34m.\u001b[0m\u001b[0mconnect\u001b[0m\u001b[0;34m(\u001b[0m\u001b[0;34m)\u001b[0m\u001b[0;34m\u001b[0m\u001b[0;34m\u001b[0m\u001b[0m\n\u001b[0m\u001b[1;32m    840\u001b[0m \u001b[0;34m\u001b[0m\u001b[0m\n",
      "\u001b[0;32m~/py3envs/jupyter/lib/python3.6/site-packages/urllib3/connection.py\u001b[0m in \u001b[0;36mconnect\u001b[0;34m(self)\u001b[0m\n\u001b[1;32m    343\u001b[0m             \u001b[0mserver_hostname\u001b[0m\u001b[0;34m=\u001b[0m\u001b[0mserver_hostname\u001b[0m\u001b[0;34m,\u001b[0m\u001b[0;34m\u001b[0m\u001b[0;34m\u001b[0m\u001b[0m\n\u001b[0;32m--> 344\u001b[0;31m             ssl_context=context)\n\u001b[0m\u001b[1;32m    345\u001b[0m \u001b[0;34m\u001b[0m\u001b[0m\n",
      "\u001b[0;32m~/py3envs/jupyter/lib/python3.6/site-packages/urllib3/util/ssl_.py\u001b[0m in \u001b[0;36mssl_wrap_socket\u001b[0;34m(sock, keyfile, certfile, cert_reqs, ca_certs, server_hostname, ssl_version, ciphers, ssl_context, ca_cert_dir)\u001b[0m\n\u001b[1;32m    344\u001b[0m         \u001b[0;32mif\u001b[0m \u001b[0mHAS_SNI\u001b[0m \u001b[0;32mand\u001b[0m \u001b[0mserver_hostname\u001b[0m \u001b[0;32mis\u001b[0m \u001b[0;32mnot\u001b[0m \u001b[0;32mNone\u001b[0m\u001b[0;34m:\u001b[0m\u001b[0;34m\u001b[0m\u001b[0;34m\u001b[0m\u001b[0m\n\u001b[0;32m--> 345\u001b[0;31m             \u001b[0;32mreturn\u001b[0m \u001b[0mcontext\u001b[0m\u001b[0;34m.\u001b[0m\u001b[0mwrap_socket\u001b[0m\u001b[0;34m(\u001b[0m\u001b[0msock\u001b[0m\u001b[0;34m,\u001b[0m \u001b[0mserver_hostname\u001b[0m\u001b[0;34m=\u001b[0m\u001b[0mserver_hostname\u001b[0m\u001b[0;34m)\u001b[0m\u001b[0;34m\u001b[0m\u001b[0;34m\u001b[0m\u001b[0m\n\u001b[0m\u001b[1;32m    346\u001b[0m \u001b[0;34m\u001b[0m\u001b[0m\n",
      "\u001b[0;32m~/py3envs/jupyter/lib/python3.6/site-packages/urllib3/contrib/pyopenssl.py\u001b[0m in \u001b[0;36mwrap_socket\u001b[0;34m(self, sock, server_side, do_handshake_on_connect, suppress_ragged_eofs, server_hostname)\u001b[0m\n\u001b[1;32m    461\u001b[0m             \u001b[0;32mexcept\u001b[0m \u001b[0mOpenSSL\u001b[0m\u001b[0;34m.\u001b[0m\u001b[0mSSL\u001b[0m\u001b[0;34m.\u001b[0m\u001b[0mError\u001b[0m \u001b[0;32mas\u001b[0m \u001b[0me\u001b[0m\u001b[0;34m:\u001b[0m\u001b[0;34m\u001b[0m\u001b[0;34m\u001b[0m\u001b[0m\n\u001b[0;32m--> 462\u001b[0;31m                 \u001b[0;32mraise\u001b[0m \u001b[0mssl\u001b[0m\u001b[0;34m.\u001b[0m\u001b[0mSSLError\u001b[0m\u001b[0;34m(\u001b[0m\u001b[0;34m'bad handshake: %r'\u001b[0m \u001b[0;34m%\u001b[0m \u001b[0me\u001b[0m\u001b[0;34m)\u001b[0m\u001b[0;34m\u001b[0m\u001b[0;34m\u001b[0m\u001b[0m\n\u001b[0m\u001b[1;32m    463\u001b[0m             \u001b[0;32mbreak\u001b[0m\u001b[0;34m\u001b[0m\u001b[0;34m\u001b[0m\u001b[0m\n",
      "\u001b[0;31mSSLError\u001b[0m: (\"bad handshake: Error([('SSL routines', 'tls_process_server_certificate', 'certificate verify failed')],)\",)",
      "\nDuring handling of the above exception, another exception occurred:\n",
      "\u001b[0;31mMaxRetryError\u001b[0m                             Traceback (most recent call last)",
      "\u001b[0;32m~/py3envs/jupyter/lib/python3.6/site-packages/requests/adapters.py\u001b[0m in \u001b[0;36msend\u001b[0;34m(self, request, stream, timeout, verify, cert, proxies)\u001b[0m\n\u001b[1;32m    448\u001b[0m                     \u001b[0mretries\u001b[0m\u001b[0;34m=\u001b[0m\u001b[0mself\u001b[0m\u001b[0;34m.\u001b[0m\u001b[0mmax_retries\u001b[0m\u001b[0;34m,\u001b[0m\u001b[0;34m\u001b[0m\u001b[0;34m\u001b[0m\u001b[0m\n\u001b[0;32m--> 449\u001b[0;31m                     \u001b[0mtimeout\u001b[0m\u001b[0;34m=\u001b[0m\u001b[0mtimeout\u001b[0m\u001b[0;34m\u001b[0m\u001b[0;34m\u001b[0m\u001b[0m\n\u001b[0m\u001b[1;32m    450\u001b[0m                 )\n",
      "\u001b[0;32m~/py3envs/jupyter/lib/python3.6/site-packages/urllib3/connectionpool.py\u001b[0m in \u001b[0;36murlopen\u001b[0;34m(self, method, url, body, headers, retries, redirect, assert_same_host, timeout, pool_timeout, release_conn, chunked, body_pos, **response_kw)\u001b[0m\n\u001b[1;32m    637\u001b[0m             retries = retries.increment(method, url, error=e, _pool=self,\n\u001b[0;32m--> 638\u001b[0;31m                                         _stacktrace=sys.exc_info()[2])\n\u001b[0m\u001b[1;32m    639\u001b[0m             \u001b[0mretries\u001b[0m\u001b[0;34m.\u001b[0m\u001b[0msleep\u001b[0m\u001b[0;34m(\u001b[0m\u001b[0;34m)\u001b[0m\u001b[0;34m\u001b[0m\u001b[0;34m\u001b[0m\u001b[0m\n",
      "\u001b[0;32m~/py3envs/jupyter/lib/python3.6/site-packages/urllib3/util/retry.py\u001b[0m in \u001b[0;36mincrement\u001b[0;34m(self, method, url, response, error, _pool, _stacktrace)\u001b[0m\n\u001b[1;32m    398\u001b[0m         \u001b[0;32mif\u001b[0m \u001b[0mnew_retry\u001b[0m\u001b[0;34m.\u001b[0m\u001b[0mis_exhausted\u001b[0m\u001b[0;34m(\u001b[0m\u001b[0;34m)\u001b[0m\u001b[0;34m:\u001b[0m\u001b[0;34m\u001b[0m\u001b[0;34m\u001b[0m\u001b[0m\n\u001b[0;32m--> 399\u001b[0;31m             \u001b[0;32mraise\u001b[0m \u001b[0mMaxRetryError\u001b[0m\u001b[0;34m(\u001b[0m\u001b[0m_pool\u001b[0m\u001b[0;34m,\u001b[0m \u001b[0murl\u001b[0m\u001b[0;34m,\u001b[0m \u001b[0merror\u001b[0m \u001b[0;32mor\u001b[0m \u001b[0mResponseError\u001b[0m\u001b[0;34m(\u001b[0m\u001b[0mcause\u001b[0m\u001b[0;34m)\u001b[0m\u001b[0;34m)\u001b[0m\u001b[0;34m\u001b[0m\u001b[0;34m\u001b[0m\u001b[0m\n\u001b[0m\u001b[1;32m    400\u001b[0m \u001b[0;34m\u001b[0m\u001b[0m\n",
      "\u001b[0;31mMaxRetryError\u001b[0m: HTTPSConnectionPool(host='ltiplatform.theedtech.dev', port=443): Max retries exceeded with url: /ping (Caused by SSLError(SSLError(\"bad handshake: Error([('SSL routines', 'tls_process_server_certificate', 'certificate verify failed')],)\",),))",
      "\nDuring handling of the above exception, another exception occurred:\n",
      "\u001b[0;31mSSLError\u001b[0m                                  Traceback (most recent call last)",
      "\u001b[0;32m<ipython-input-10-03d880115d21>\u001b[0m in \u001b[0;36m<module>\u001b[0;34m\u001b[0m\n\u001b[1;32m      4\u001b[0m \u001b[0mplatform_url\u001b[0m\u001b[0;34m=\u001b[0m\u001b[0;34m'https://ltiplatform.theedtech.dev'\u001b[0m\u001b[0;34m\u001b[0m\u001b[0;34m\u001b[0m\u001b[0m\n\u001b[1;32m      5\u001b[0m \u001b[0;34m\u001b[0m\u001b[0m\n\u001b[0;32m----> 6\u001b[0;31m \u001b[0mr\u001b[0m \u001b[0;34m=\u001b[0m \u001b[0mrequests\u001b[0m\u001b[0;34m.\u001b[0m\u001b[0mget\u001b[0m\u001b[0;34m(\u001b[0m\u001b[0mplatform_url\u001b[0m \u001b[0;34m+\u001b[0m \u001b[0;34m'/ping'\u001b[0m\u001b[0;34m)\u001b[0m\u001b[0;34m\u001b[0m\u001b[0;34m\u001b[0m\u001b[0m\n\u001b[0m\u001b[1;32m      7\u001b[0m \u001b[0;32mif\u001b[0m \u001b[0mr\u001b[0m\u001b[0;34m.\u001b[0m\u001b[0mtext\u001b[0m\u001b[0;34m==\u001b[0m\u001b[0;34m'pong!'\u001b[0m\u001b[0;34m:\u001b[0m\u001b[0;34m\u001b[0m\u001b[0;34m\u001b[0m\u001b[0m\n\u001b[1;32m      8\u001b[0m     \u001b[0mmd\u001b[0m\u001b[0;34m(\u001b[0m\u001b[0;34m'Platform url set and verified'\u001b[0m\u001b[0;34m)\u001b[0m\u001b[0;34m\u001b[0m\u001b[0;34m\u001b[0m\u001b[0m\n",
      "\u001b[0;32m~/py3envs/jupyter/lib/python3.6/site-packages/requests/api.py\u001b[0m in \u001b[0;36mget\u001b[0;34m(url, params, **kwargs)\u001b[0m\n\u001b[1;32m     73\u001b[0m \u001b[0;34m\u001b[0m\u001b[0m\n\u001b[1;32m     74\u001b[0m     \u001b[0mkwargs\u001b[0m\u001b[0;34m.\u001b[0m\u001b[0msetdefault\u001b[0m\u001b[0;34m(\u001b[0m\u001b[0;34m'allow_redirects'\u001b[0m\u001b[0;34m,\u001b[0m \u001b[0;32mTrue\u001b[0m\u001b[0;34m)\u001b[0m\u001b[0;34m\u001b[0m\u001b[0;34m\u001b[0m\u001b[0m\n\u001b[0;32m---> 75\u001b[0;31m     \u001b[0;32mreturn\u001b[0m \u001b[0mrequest\u001b[0m\u001b[0;34m(\u001b[0m\u001b[0;34m'get'\u001b[0m\u001b[0;34m,\u001b[0m \u001b[0murl\u001b[0m\u001b[0;34m,\u001b[0m \u001b[0mparams\u001b[0m\u001b[0;34m=\u001b[0m\u001b[0mparams\u001b[0m\u001b[0;34m,\u001b[0m \u001b[0;34m**\u001b[0m\u001b[0mkwargs\u001b[0m\u001b[0;34m)\u001b[0m\u001b[0;34m\u001b[0m\u001b[0;34m\u001b[0m\u001b[0m\n\u001b[0m\u001b[1;32m     76\u001b[0m \u001b[0;34m\u001b[0m\u001b[0m\n\u001b[1;32m     77\u001b[0m \u001b[0;34m\u001b[0m\u001b[0m\n",
      "\u001b[0;32m~/py3envs/jupyter/lib/python3.6/site-packages/requests/api.py\u001b[0m in \u001b[0;36mrequest\u001b[0;34m(method, url, **kwargs)\u001b[0m\n\u001b[1;32m     58\u001b[0m     \u001b[0;31m# cases, and look like a memory leak in others.\u001b[0m\u001b[0;34m\u001b[0m\u001b[0;34m\u001b[0m\u001b[0;34m\u001b[0m\u001b[0m\n\u001b[1;32m     59\u001b[0m     \u001b[0;32mwith\u001b[0m \u001b[0msessions\u001b[0m\u001b[0;34m.\u001b[0m\u001b[0mSession\u001b[0m\u001b[0;34m(\u001b[0m\u001b[0;34m)\u001b[0m \u001b[0;32mas\u001b[0m \u001b[0msession\u001b[0m\u001b[0;34m:\u001b[0m\u001b[0;34m\u001b[0m\u001b[0;34m\u001b[0m\u001b[0m\n\u001b[0;32m---> 60\u001b[0;31m         \u001b[0;32mreturn\u001b[0m \u001b[0msession\u001b[0m\u001b[0;34m.\u001b[0m\u001b[0mrequest\u001b[0m\u001b[0;34m(\u001b[0m\u001b[0mmethod\u001b[0m\u001b[0;34m=\u001b[0m\u001b[0mmethod\u001b[0m\u001b[0;34m,\u001b[0m \u001b[0murl\u001b[0m\u001b[0;34m=\u001b[0m\u001b[0murl\u001b[0m\u001b[0;34m,\u001b[0m \u001b[0;34m**\u001b[0m\u001b[0mkwargs\u001b[0m\u001b[0;34m)\u001b[0m\u001b[0;34m\u001b[0m\u001b[0;34m\u001b[0m\u001b[0m\n\u001b[0m\u001b[1;32m     61\u001b[0m \u001b[0;34m\u001b[0m\u001b[0m\n\u001b[1;32m     62\u001b[0m \u001b[0;34m\u001b[0m\u001b[0m\n",
      "\u001b[0;32m~/py3envs/jupyter/lib/python3.6/site-packages/requests/sessions.py\u001b[0m in \u001b[0;36mrequest\u001b[0;34m(self, method, url, params, data, headers, cookies, files, auth, timeout, allow_redirects, proxies, hooks, stream, verify, cert, json)\u001b[0m\n\u001b[1;32m    531\u001b[0m         }\n\u001b[1;32m    532\u001b[0m         \u001b[0msend_kwargs\u001b[0m\u001b[0;34m.\u001b[0m\u001b[0mupdate\u001b[0m\u001b[0;34m(\u001b[0m\u001b[0msettings\u001b[0m\u001b[0;34m)\u001b[0m\u001b[0;34m\u001b[0m\u001b[0;34m\u001b[0m\u001b[0m\n\u001b[0;32m--> 533\u001b[0;31m         \u001b[0mresp\u001b[0m \u001b[0;34m=\u001b[0m \u001b[0mself\u001b[0m\u001b[0;34m.\u001b[0m\u001b[0msend\u001b[0m\u001b[0;34m(\u001b[0m\u001b[0mprep\u001b[0m\u001b[0;34m,\u001b[0m \u001b[0;34m**\u001b[0m\u001b[0msend_kwargs\u001b[0m\u001b[0;34m)\u001b[0m\u001b[0;34m\u001b[0m\u001b[0;34m\u001b[0m\u001b[0m\n\u001b[0m\u001b[1;32m    534\u001b[0m \u001b[0;34m\u001b[0m\u001b[0m\n\u001b[1;32m    535\u001b[0m         \u001b[0;32mreturn\u001b[0m \u001b[0mresp\u001b[0m\u001b[0;34m\u001b[0m\u001b[0;34m\u001b[0m\u001b[0m\n",
      "\u001b[0;32m~/py3envs/jupyter/lib/python3.6/site-packages/requests/sessions.py\u001b[0m in \u001b[0;36msend\u001b[0;34m(self, request, **kwargs)\u001b[0m\n\u001b[1;32m    644\u001b[0m \u001b[0;34m\u001b[0m\u001b[0m\n\u001b[1;32m    645\u001b[0m         \u001b[0;31m# Send the request\u001b[0m\u001b[0;34m\u001b[0m\u001b[0;34m\u001b[0m\u001b[0;34m\u001b[0m\u001b[0m\n\u001b[0;32m--> 646\u001b[0;31m         \u001b[0mr\u001b[0m \u001b[0;34m=\u001b[0m \u001b[0madapter\u001b[0m\u001b[0;34m.\u001b[0m\u001b[0msend\u001b[0m\u001b[0;34m(\u001b[0m\u001b[0mrequest\u001b[0m\u001b[0;34m,\u001b[0m \u001b[0;34m**\u001b[0m\u001b[0mkwargs\u001b[0m\u001b[0;34m)\u001b[0m\u001b[0;34m\u001b[0m\u001b[0;34m\u001b[0m\u001b[0m\n\u001b[0m\u001b[1;32m    647\u001b[0m \u001b[0;34m\u001b[0m\u001b[0m\n\u001b[1;32m    648\u001b[0m         \u001b[0;31m# Total elapsed time of the request (approximately)\u001b[0m\u001b[0;34m\u001b[0m\u001b[0;34m\u001b[0m\u001b[0;34m\u001b[0m\u001b[0m\n",
      "\u001b[0;32m~/py3envs/jupyter/lib/python3.6/site-packages/requests/adapters.py\u001b[0m in \u001b[0;36msend\u001b[0;34m(self, request, stream, timeout, verify, cert, proxies)\u001b[0m\n\u001b[1;32m    512\u001b[0m             \u001b[0;32mif\u001b[0m \u001b[0misinstance\u001b[0m\u001b[0;34m(\u001b[0m\u001b[0me\u001b[0m\u001b[0;34m.\u001b[0m\u001b[0mreason\u001b[0m\u001b[0;34m,\u001b[0m \u001b[0m_SSLError\u001b[0m\u001b[0;34m)\u001b[0m\u001b[0;34m:\u001b[0m\u001b[0;34m\u001b[0m\u001b[0;34m\u001b[0m\u001b[0m\n\u001b[1;32m    513\u001b[0m                 \u001b[0;31m# This branch is for urllib3 v1.22 and later.\u001b[0m\u001b[0;34m\u001b[0m\u001b[0;34m\u001b[0m\u001b[0;34m\u001b[0m\u001b[0m\n\u001b[0;32m--> 514\u001b[0;31m                 \u001b[0;32mraise\u001b[0m \u001b[0mSSLError\u001b[0m\u001b[0;34m(\u001b[0m\u001b[0me\u001b[0m\u001b[0;34m,\u001b[0m \u001b[0mrequest\u001b[0m\u001b[0;34m=\u001b[0m\u001b[0mrequest\u001b[0m\u001b[0;34m)\u001b[0m\u001b[0;34m\u001b[0m\u001b[0;34m\u001b[0m\u001b[0m\n\u001b[0m\u001b[1;32m    515\u001b[0m \u001b[0;34m\u001b[0m\u001b[0m\n\u001b[1;32m    516\u001b[0m             \u001b[0;32mraise\u001b[0m \u001b[0mConnectionError\u001b[0m\u001b[0;34m(\u001b[0m\u001b[0me\u001b[0m\u001b[0;34m,\u001b[0m \u001b[0mrequest\u001b[0m\u001b[0;34m=\u001b[0m\u001b[0mrequest\u001b[0m\u001b[0;34m)\u001b[0m\u001b[0;34m\u001b[0m\u001b[0;34m\u001b[0m\u001b[0m\n",
      "\u001b[0;31mSSLError\u001b[0m: HTTPSConnectionPool(host='ltiplatform.theedtech.dev', port=443): Max retries exceeded with url: /ping (Caused by SSLError(SSLError(\"bad handshake: Error([('SSL routines', 'tls_process_server_certificate', 'certificate verify failed')],)\",),))"
     ]
    }
   ],
   "source": [
    "# This notebook queries an actual tool platform test server. It needs its location\n",
    "# if you run the server locally you can use\n",
    "# platform_url='http://localhost:5000'\n",
    "platform_url='https://ltiplatform.theedtech.dev'\n",
    "\n",
    "r = requests.get(platform_url + '/ping')\n",
    "if r.text=='pong!':\n",
    "    md('Platform url set and verified')\n",
    "else:\n",
    "    md('Check platform url')"
   ]
  },
  {
   "cell_type": "markdown",
   "metadata": {},
   "source": [
    "# Call back to this notebook\n",
    "\n",
    "The platform needs to send LTI launches data to this notebook. It is started with an extension to receive that data and display it. This is checking the URL is correct and the extension set."
   ]
  },
  {
   "cell_type": "code",
   "execution_count": 7,
   "metadata": {},
   "outputs": [
    {
     "data": {
      "application/javascript": [
       "var kernel = IPython.notebook.kernel\n",
       "var host = window.location.href.split('/notebooks')[0]\n",
       "kernel.execute(\"notebook_url='\"+host+\"'\")\n"
      ],
      "text/plain": [
       "<IPython.core.display.Javascript object>"
      ]
     },
     "metadata": {},
     "output_type": "display_data"
    }
   ],
   "source": [
    " %%javascript\n",
    "var kernel = IPython.notebook.kernel\n",
    "var host = window.location.href.split('/notebooks')[0]\n",
    "kernel.execute(\"notebook_url='\"+host+\"'\")\n"
   ]
  },
  {
   "cell_type": "code",
   "execution_count": 11,
   "metadata": {},
   "outputs": [
    {
     "data": {
      "text/markdown": [
       "Notebook url set and verified"
      ],
      "text/plain": [
       "<IPython.core.display.Markdown object>"
      ]
     },
     "metadata": {},
     "output_type": "display_data"
    }
   ],
   "source": [
    "r = requests.get(notebook_url + '/ping')\n",
    "if r.text=='pong!':\n",
    "    md('Notebook url set and verified')\n",
    "else:\n",
    "    md('Check notebook url, possibly set it manually. Check Jupyter was started with extension.')"
   ]
  },
  {
   "cell_type": "markdown",
   "metadata": {},
   "source": [
    "# Registering a new tool\n",
    "\n",
    "Trust in LTi 1.3 is based on Public/Private keys. See [Trust in LTI Advantage](https://youtu.be/bWMVneE7vqI)."
   ]
  },
  {
   "cell_type": "code",
   "execution_count": 12,
   "metadata": {},
   "outputs": [
    {
     "data": {
      "text/html": [
       "\n",
       "        <iframe\n",
       "            width=\"560\"\n",
       "            height=\"315\"\n",
       "            src=\"https://www.youtube.com/embed/bWMVneE7vqI\"\n",
       "            frameborder=\"0\"\n",
       "            allowfullscreen\n",
       "        ></iframe>\n",
       "        "
      ],
      "text/plain": [
       "<IPython.lib.display.IFrame at 0x7fa0201a0e80>"
      ]
     },
     "metadata": {},
     "output_type": "display_data"
    }
   ],
   "source": [
    "display(IFrame(width=560, height=315, src='https://www.youtube.com/embed/bWMVneE7vqI'))"
   ]
  },
  {
   "cell_type": "markdown",
   "metadata": {},
   "source": [
    "\n",
    "\n",
    "## Deploying tool and establishing keys\n",
    "\n",
    "### get the tool deployment info to use in this notebook\n",
    "\n",
    "First we need to get a new tool deployment from the server for this notebook instance to use.\n",
    "Each tool must have a `client_id` and a private key that will be used to interact with the platform services and send messages back to the platform. The `client_id` is used to for security purposes. A trust may be shared across multiple deployments of the same tool in a platform, so a `deployment_id` is also communicated to identify the actual deployment of that tool.\n",
    "\n",
    "It also needs the keyset URL that exposes the platform public keys needed to validate the incoming messages.\n",
    "\n",
    "While this information is required for each tool, how it is obtained by the tool is NOT currently part of the LTI specifications.\n",
    "\n",
    "<img src=\"assets/security.png\" width=\"70%\">"
   ]
  },
  {
   "cell_type": "markdown",
   "metadata": {},
   "source": [
    "#### Compute a Private/Public key pair for this notebook"
   ]
  },
  {
   "cell_type": "code",
   "execution_count": 8,
   "metadata": {},
   "outputs": [
    {
     "data": {
      "text/markdown": [
       "\n",
       "Private key asserts the **identity** of the tool. It should be stored securely and \n",
       "ideally it should not be possible for a human to even see it, even less share it!\n",
       "However the public key can be shared around, here is the public in the common\n",
       "PEM format that identifies this notebook instance:"
      ],
      "text/plain": [
       "<IPython.core.display.Markdown object>"
      ]
     },
     "metadata": {},
     "output_type": "display_data"
    },
    {
     "data": {
      "text/markdown": [
       "```-----BEGIN PUBLIC KEY-----\n",
       "MIIBIjANBgkqhkiG9w0BAQEFAAOCAQ8AMIIBCgKCAQEAsSR71w2wgxUc3rc4OVGm\n",
       "32/H1IXpJ36cMQYZm1//6UBs+xq//3a1SUumFiJUEt2DvGOuQlnCaK/NhwWdPpRv\n",
       "Ix3c8sBJde4I1h23nfh9Whhx86XuNKhkJSudsat2axnA7GmMKgDsL+HoHALtxn7u\n",
       "hoTaZrbqnZc/5dEqfFztJu7+4TjX1qnCzVEZ+ePqm2LQeWGptShsqsKNgFdhfEg1\n",
       "wwvSpprta8kB4+vpKpm5b+PQ39IwEXHbS1flMlokNlw3HbvTashpTb6Chg9MTGo2\n",
       "JQDPE/ACfXR28fUNxvO6ZONpvhBcvPGsd00yH4WflSDZvinRQM/ICHbM0PU+vHOL\n",
       "hQIDAQAB\n",
       "-----END PUBLIC KEY-----\n",
       "```"
      ],
      "text/plain": [
       "<IPython.core.display.Markdown object>"
      ]
     },
     "metadata": {},
     "output_type": "display_data"
    }
   ],
   "source": [
    "notebook_private_key = rsa.generate_private_key(\n",
    "    public_exponent=65537,\n",
    "    key_size=2048,\n",
    "    backend=default_backend()\n",
    ")\n",
    "\n",
    "notebook_public_key = notebook_private_key.public_key()\n",
    "\n",
    "public_key_pem = notebook_public_key.public_bytes(\n",
    "    encoding=serialization.Encoding.PEM,\n",
    "    format=serialization.PublicFormat.SubjectPublicKeyInfo)\n",
    "\n",
    "\n",
    "mdb(\"Private key asserts the **identity** of the tool. It should be stored securely and \")\n",
    "mdb(\"ideally it should not be possible for a human to even see it, even less share it!\")\n",
    "mdb(\"However the public key can be shared around, here is the public in the common\")\n",
    "mdb(\"PEM format that identifies this notebook instance:\")\n",
    "mdb()\n",
    "mdjson(public_key_pem.decode('utf-8'))"
   ]
  },
  {
   "cell_type": "markdown",
   "metadata": {},
   "source": [
    "#### Redirect URI\n",
    "\n",
    "We need to register the Redirect URI to where the OpenId Connect response can be returned. While this notebook only register a single `redirect_uri` it is common for tools to register more than one as platforms are discouraged to allow pattern matching for those (i.e. a platform should always check for an exact match)\n",
    "\n",
    "This URL is specific to this notebook instance which is extended with a handler to display the actual authentication response from where you can copy the actual token value."
   ]
  },
  {
   "cell_type": "code",
   "execution_count": 18,
   "metadata": {},
   "outputs": [
    {
     "data": {
      "text/markdown": [
       "redirect URI is http://localhost:8888/auth"
      ],
      "text/plain": [
       "<IPython.core.display.Markdown object>"
      ]
     },
     "metadata": {},
     "output_type": "display_data"
    }
   ],
   "source": [
    "redirect_uri = \"{0}/auth\".format(notebook_url)\n",
    "\n",
    "md(\"redirect URI is \"+redirect_uri)"
   ]
  },
  {
   "cell_type": "code",
   "execution_count": 19,
   "metadata": {
    "scrolled": false
   },
   "outputs": [
    {
     "name": "stderr",
     "output_type": "stream",
     "text": [
      "/home/claude/py3envs/jupyter/lib/python3.6/site-packages/urllib3/connectionpool.py:847: InsecureRequestWarning: Unverified HTTPS request is being made. Adding certificate verification is strongly advised. See: https://urllib3.readthedocs.io/en/latest/advanced-usage.html#ssl-warnings\n",
      "  InsecureRequestWarning)\n"
     ]
    },
    {
     "data": {
      "text/markdown": [
       "### Tool registration information"
      ],
      "text/plain": [
       "<IPython.core.display.Markdown object>"
      ]
     },
     "metadata": {},
     "output_type": "display_data"
    },
    {
     "data": {
      "text/markdown": [
       "Here is the tool information generated for this notebook. It is stored in ```tool_info``` variable."
      ],
      "text/plain": [
       "<IPython.core.display.Markdown object>"
      ]
     },
     "metadata": {},
     "output_type": "display_data"
    },
    {
     "data": {
      "text/markdown": [
       "```{\n",
       "    \"accesstoken_endpoint\": \"http://ltiplatform.theedtech.dev/auth/token\",\n",
       "    \"client_id\": \"1\",\n",
       "    \"keyset_url\": \"http://ltiplatform.theedtech.dev/.well-known/jwks.json\",\n",
       "    \"oidc_auth_endpoint\": \"http://ltiplatform.theedtech.dev/auth\"\n",
       "}```"
      ],
      "text/plain": [
       "<IPython.core.display.Markdown object>"
      ]
     },
     "metadata": {},
     "output_type": "display_data"
    }
   ],
   "source": [
    "registration_data = {\n",
    "    'public_key_pem':public_key_pem,\n",
    "    'redirect_uris': redirect_uri #comma separated list of redirect_uris\n",
    "}\n",
    "\n",
    "r = requests.post(platform_url + '/newtool', data=registration_data, verify=False)\n",
    "tool_info = json.loads(r.text)\n",
    "\n",
    "md('### Tool registration information')\n",
    "md('Here is the tool information generated for this notebook. It is stored in ```tool_info``` variable.')\n",
    "mdjson(json.dumps(tool_info, indent=4))"
   ]
  },
  {
   "cell_type": "markdown",
   "metadata": {},
   "source": [
    "### Getting the public keys from the platform\n",
    "\n",
    "In order to validate the various messages we will receive from the platform, we need to get the key sets. We'll also transform the keys to the `PEM` format that is used by the `jwt` module to decode the messages.\n",
    "\n",
    "The test platform exposes its keys in a keyset format at a well-know location (.well-known/jwks.json). Other platform might just communicate the keyset url as part of the tool deployment information."
   ]
  },
  {
   "cell_type": "code",
   "execution_count": 20,
   "metadata": {
    "scrolled": true
   },
   "outputs": [
    {
     "data": {
      "text/markdown": [
       "#### Platform keyset"
      ],
      "text/plain": [
       "<IPython.core.display.Markdown object>"
      ]
     },
     "metadata": {},
     "output_type": "display_data"
    },
    {
     "data": {
      "text/markdown": [
       "```{\n",
       "    \"keys\": [\n",
       "        {\n",
       "            \"alg\": \"RS256\",\n",
       "            \"e\": \"AQAB\",\n",
       "            \"kid\": \"1557603581_0\",\n",
       "            \"kty\": \"RSA\",\n",
       "            \"n\": \"xnWllQaA71H3cJE1Neyetj3AxB--KStP0rcE1CwHF6ZBlX8EaqdpwdaScroTpoK6nd17hw-lHPTu3D76E0FkhuJGxrofDap2JCRwFrn9Fuuouhjk7DtIXQgfdZnS2UaJb30hg-9brUHLLmcOsEjdzvFDn9kDlTdKTT_yZx_Rb9HgfbM8NH3kMkbEAkzhUKiYeSKCv45cWRErx1zl91gtZCvOcHU65JXWSm3ChkMEHg2pZ2LgsEFP0hz5JCaOgGEN67kNgzIcAk4iITJ7dql_Olx6voJcbQgcpBt_A4oVaFwvS8B2CMP2zV0TixnVRHmSyVuVxVrnx-v0WwZqxUIO1w==\",\n",
       "            \"use\": \"sig\"\n",
       "        },\n",
       "        {\n",
       "            \"alg\": \"RS256\",\n",
       "            \"e\": \"AQAB\",\n",
       "            \"kid\": \"1557603581_1\",\n",
       "            \"kty\": \"RSA\",\n",
       "            \"n\": \"lzbXcJJhhxjuo1JPBDTZPIS0gh2jFA2pA3eY_BLXeaAWLdpFZL1F7THiflYrIlI92phfcffWY70LjDh1Pk_R-gIL2xUrQg_yW4H9zs5DANWhrRevwcDKtSUfivFu52_W8W7Nmdj_ObncQWdCXll7JasRUqHYB9UL1Tst_CoVsh-KhOsmmVbmYtL6FP2yfjUtsxD4Pbpxlf6zzYIuAXAaUbH8kC8V6Pn60WjkVcTYZ7AFXkMmg-ub_lhZvucLEK87mVoE6tcDWV6uukAdvM84PaK2tIiMPriqNumJflxDyE-J132UjcUvHuV7aQraXsTpQuF_sHDzPD4j3PTU5Pm2HQ==\",\n",
       "            \"use\": \"sig\"\n",
       "        },\n",
       "        {\n",
       "            \"alg\": \"RS256\",\n",
       "            \"e\": \"AQAB\",\n",
       "            \"kid\": \"1557603581_2\",\n",
       "            \"kty\": \"RSA\",\n",
       "            \"n\": \"p3VGnGHGhHyMnJpF0T6_AQ4UrFKEq86MHewmdIkMQ25MZFe9rkyKP36UzyodJR5KcRk4qlbOWk4OWIaYldk4HD3_fzvAqoeP01tiu9_V-WjbZlLX8joz7Vp6nScQmHriWtMyk4tL8lvTHiINHzBl3Fi28YsejJzAanJFMe8xSeQaCf9NxlmJBHdOU8Ih5W0XB1jtPlvQippKuY6wZ0cCuvfSbkEIHzHZQOBd_zh2JKkza5bMiEMGR48Gp_by4qTAGQqhWUCFa6zIeCrXLNgNtjIdS8HQZ5bMNcK-Gm14dSn3QYhqrnHDnJNOACAlMq8tBJpVKe_5ppPia1JH_eY-bw==\",\n",
       "            \"use\": \"sig\"\n",
       "        },\n",
       "        {\n",
       "            \"alg\": \"RS256\",\n",
       "            \"e\": \"AQAB\",\n",
       "            \"kid\": \"1557603581_3\",\n",
       "            \"kty\": \"RSA\",\n",
       "            \"n\": \"1s_qs-WciZWTtW1Zh2i8l7RW9-SO_uhW-wYKImwCnaVti97KmbdKEctv2qML7q6qBAKhabmghESbCZUYCacLKmFE1SFtYhsH3InCuaYB3V3lOgSlGfgD8vAzjbXpeYE3gmMqSn3Z-_pXUAuY7Z6QpGJWxzXOnnDZoDpHYK1O6wPiFr9x2F2V4cRyWcfmNOOOOLYQWoguipg-rtBUwHKTgFb3vVNSVY54hz5_Jk_WfUpXHznVoFnL9ozxSMYnpGhIchdh-e_shf2N2JBkFE09C7LeUnj6vsc4vWwqqf4J_SGMBdNEYD4q3s0wDp-O4DsJ03h_G9dP_O3n6_0snTCZ-w==\",\n",
       "            \"use\": \"sig\"\n",
       "        }\n",
       "    ]\n",
       "}```"
      ],
      "text/plain": [
       "<IPython.core.display.Markdown object>"
      ]
     },
     "metadata": {},
     "output_type": "display_data"
    }
   ],
   "source": [
    "keyset = json.loads(requests.get(tool_info['keyset_url']).text)\n",
    "\n",
    "md('#### Platform keyset')\n",
    "mdjson(json.dumps(keyset, indent=4))\n",
    "\n",
    "platform_keys = {}\n",
    "\n",
    "# let's transform as a map for ease of use, and just the PEM because this is what is used by JWT lib\n",
    "for key in keyset['keys']:\n",
    "    public_key = RSAPublicNumbers(decode_int(key['e']), decode_int(key['n'])).public_key(default_backend())\n",
    "    pem = public_key.public_bytes(Encoding.PEM, PublicFormat.SubjectPublicKeyInfo)\n",
    "    platform_keys[key['kid']] = pem\n",
    "    \n"
   ]
  },
  {
   "cell_type": "markdown",
   "metadata": {},
   "source": [
    "# LTI Launches and OpenId Connect \n",
    "\n",
    "LTI Launches are now done in 2 steps: \n",
    "\n",
    "1. a pre-flight indicating to the tool a launch is intended to happen. The tool indicates where that launch data should be sent (`redirect_uri`) and also mark the browser that will make this request to avoid cross-site request forgery, which the LTI 1.1 family is susceptible to. \n",
    "2. Then the learning platform issues the lti launch payload in the form on an `id_token` back to the tool. The tool can correlate that request with the browser marker to make sure the launch is happening from a browser that requested it.\n",
    "If all that sounds vaguely familiar, it's no accident: the LTI Launch is now following the 3rd Party initiated login from OpenId Connect.\n",
    "\n",
    "This is summarized in this diagram. Note that this notebook cannt be launched from the platform, so we simulate the 1st leg in the launches below.\n",
    "\n",
    "<img src=\"assets/ltioidcflow.png\" width=\"70%\">\n",
    "\n",
    "You can also check the [LTI Launch and OIDC video](https://youtu.be/g3y4vwtP6vQ)."
   ]
  },
  {
   "cell_type": "code",
   "execution_count": 13,
   "metadata": {},
   "outputs": [
    {
     "data": {
      "text/html": [
       "\n",
       "        <iframe\n",
       "            width=\"560\"\n",
       "            height=\"315\"\n",
       "            src=\"https://www.youtube.com/embed/g3y4vwtP6vQ\"\n",
       "            frameborder=\"0\"\n",
       "            allowfullscreen\n",
       "        ></iframe>\n",
       "        "
      ],
      "text/plain": [
       "<IPython.lib.display.IFrame at 0x7fa020112128>"
      ]
     },
     "metadata": {},
     "output_type": "display_data"
    }
   ],
   "source": [
    "display(IFrame(width=560, height=315, src='https://www.youtube.com/embed/g3y4vwtP6vQ'))\n"
   ]
  },
  {
   "cell_type": "markdown",
   "metadata": {},
   "source": [
    "# Deep Linking - Creating a Link\n",
    "This section will use the deep linking specification to create a Resource Link to the platform. That resource link will be gradable and used in the following sections of that notebook.\n",
    "\n",
    "[Deep Linking](https://www.imsglobal.org/specs/lticiv1p0) is a **UI flow**, it is an important piece that is sometimes missed on 1st reading. The user is redirected from the platform to the tool to pick or create one or multiple piece of content (often, LTI links), and the the tool redirects the UI back to the tool with the actual selection (or an empty payload if nothing was picked or created).\n",
    "\n",
    "So there are 2 messages:\n",
    "\n",
    "1. `LtiDeepLinkingRequest` from the platform to the tool to start the picking/create session. This is a typical platform launch that contains the context and the user information, and what kind of content items may be created in this flow (for example, this flow might indicate it only wants LTI links).\n",
    "1. `LtiDeepLinkingResponse` from the tool back to the plaform using the `content_item_return_url` provided in the request.\n",
    "\n",
    "Once a tool is added to a course, usually the first launch from the platform will be a Deep Linking request.\n",
    "\n",
    "<img src=\"assets/deeplinking.png\" width=\"60%\">"
   ]
  },
  {
   "cell_type": "markdown",
   "metadata": {},
   "source": [
    "### Setup: Getting a Deep Linking Request\n",
    "\n",
    "This notebook is not actually launched by the platform, so it is not getting the initiate login request that usually  bootstraps the LTI message flow. Instead we will just pretend we got that request and the 2 parameters it contains, and just build those locally.\n",
    "\n",
    "We also compute a `state` and a `nonce` we will pass along that will serve as the Cross-Site Scripting protection (XSRF). They  must be tied to the end user's browser session. The use of `state` is optional, `nonce` is required. `state` will be passed back as separate parameter while `nonce` will be included in the token. `nonce` should not be re-used in subsequent requests as they uniquely identfy an authentication request."
   ]
  },
  {
   "cell_type": "code",
   "execution_count": 21,
   "metadata": {},
   "outputs": [],
   "source": [
    "# Prentending this is what we received from the Platform to initiate the deep linking flow\n",
    "init_login_request = {\n",
    "    'iss': platform_url,\n",
    "    'login_hint': 'instructor', #value is opaque to tool, ex: tie to end user's platform's session\n",
    "    'lti_message_hint': 'deeplink', #value is opaque to tool, optional\n",
    "    'target_link_uri': 'https://ltibc.dummy/deeplink' #actual URL to launch at the end of the auth flow\n",
    "}\n",
    "\n",
    "# client_id and deployment_id may also be included in the init_login_request, which may be handy to route\n",
    "# to the right redirect_uri\n",
    "\n",
    "orig_state = 'XSRF_session_bound_value_{r}'.format(r=randint(0, 100000))\n",
    "\n",
    "# Using the same value for the nonce\n",
    "nonce = orig_state"
   ]
  },
  {
   "cell_type": "markdown",
   "metadata": {},
   "source": [
    "Now that we have the platform's request data and a `state` we can send an auth request, the response will contain the `state` back and the `id_token` which, in addition to carrying the user's identity, contains the information such as course and user's role required to show the proper UI that will allow the user to either pick or create resources to add the course.\n",
    "\n",
    "The launch flow involves a request from the browser to the platform, which bounces back to the tool. To allow this in this notebook, the actual interaction takes place in an IFrame.\n",
    "\n",
    "First we create the auth request URL by appending the required parameters to the auth URL provided by us during registration:\n"
   ]
  },
  {
   "cell_type": "code",
   "execution_count": 22,
   "metadata": {},
   "outputs": [
    {
     "data": {
      "text/html": [
       "<iframe id=\"deeplinking\" name=\"deeplinking\" style=\"height: 300px; width:100%\"></iframe>"
      ],
      "text/plain": [
       "<IPython.core.display.HTML object>"
      ]
     },
     "metadata": {},
     "output_type": "display_data"
    },
    {
     "data": {
      "application/javascript": [
       "new Promise(function(resolve, reject) {\n",
       "\tvar script = document.createElement(\"script\");\n",
       "\tscript.onload = resolve;\n",
       "\tscript.onerror = reject;\n",
       "\tscript.src = \"https://code.jquery.com/jquery-3.3.1.min.js\";\n",
       "\tdocument.head.appendChild(script);\n",
       "}).then(() => {\n",
       "\n",
       "                var ltiForm = $('<form>');                \n",
       "                ltiForm.attr('action', 'http://ltiplatform.theedtech.dev/auth');\n",
       "                ltiForm.attr('method', 'POST');\n",
       "                ltiForm.attr('target', 'deeplinking');\n",
       "                $('<input>').attr({\n",
       "                    type: 'hidden',\n",
       "                    name: 'scope',\n",
       "                    value: 'open_id'\n",
       "                }).appendTo(ltiForm);\n",
       "                $('<input>').attr({\n",
       "                    type: 'hidden',\n",
       "                    name: 'response_type',\n",
       "                    value: 'id_token'\n",
       "                }).appendTo(ltiForm);\n",
       "                $('<input>').attr({\n",
       "                    type: 'hidden',\n",
       "                    name: 'client_id',\n",
       "                    value: '1'\n",
       "                }).appendTo(ltiForm);\n",
       "                $('<input>').attr({\n",
       "                    type: 'hidden',\n",
       "                    name: 'login_hint',\n",
       "                    value: 'instructor'\n",
       "                }).appendTo(ltiForm);\n",
       "                $('<input>').attr({\n",
       "                    type: 'hidden',\n",
       "                    name: 'lti_message_hint',\n",
       "                    value: 'deeplink'\n",
       "                }).appendTo(ltiForm);\n",
       "                $('<input>').attr({\n",
       "                    type: 'hidden',\n",
       "                    name: 'response_mode',\n",
       "                    value: 'form_post'\n",
       "                }).appendTo(ltiForm);\n",
       "                $('<input>').attr({\n",
       "                    type: 'hidden',\n",
       "                    name: 'nonce',\n",
       "                    value: 'XSRF_session_bound_value_33164'\n",
       "                }).appendTo(ltiForm);\n",
       "                $('<input>').attr({\n",
       "                    type: 'hidden',\n",
       "                    name: 'state',\n",
       "                    value: 'XSRF_session_bound_value_33164'\n",
       "                }).appendTo(ltiForm);\n",
       "                $('<input>').attr({\n",
       "                    type: 'hidden',\n",
       "                    name: 'redirect_uri',\n",
       "                    value: 'http://localhost:8888/auth'\n",
       "                }).appendTo(ltiForm);\n",
       "                \n",
       "                $('#deeplinking').before(ltiForm);\n",
       "                ltiForm.submit();\n",
       "                ltiForm.remove();\n",
       "                \n",
       "});"
      ],
      "text/plain": [
       "<IPython.core.display.Javascript object>"
      ]
     },
     "metadata": {},
     "output_type": "display_data"
    }
   ],
   "source": [
    "auth_request_params = {\n",
    "    'scope': 'open_id', #we only use the flow for OIDC, not to get an access token\n",
    "    'response_type': 'id_token',\n",
    "    'client_id': tool_info['client_id'],\n",
    "    'login_hint': init_login_request['login_hint'],\n",
    "    'lti_message_hint': init_login_request['lti_message_hint'],\n",
    "    'response_mode': 'form_post', # with LTI we expect the user to already have a session in the platform\n",
    "    'nonce': nonce, #a nonce compared to state should fail if replayed\n",
    "    'state': orig_state, #state is optional\n",
    "    'redirect_uri': redirect_uri\n",
    "}\n",
    "\n",
    "autopost_iframe('deeplinking', tool_info['oidc_auth_endpoint'], auth_request_params)"
   ]
  },
  {
   "cell_type": "code",
   "execution_count": 23,
   "metadata": {},
   "outputs": [],
   "source": [
    "# Set the id_token variable here\n",
    "# id_token='xxxx'\n",
    "\n",
    "id_token='eyJraWQiOiIxNTU3NjAzNTgxXzMiLCJ0eXAiOiJKV1QiLCJhbGciOiJSUzI1NiJ9.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.CzUd3yOW_AyJIQKegf1tOKAPv1gm_DfsoNXoSj28Vf47U-BX1KXQIjXooQcygswvimi60PQlHzf5PmKpe9yqzYCU9joVig8cTZm_DuNI7Wl35n1haeP_ufM3NDB6b3MoLD969DgwkaEU-FZeiOlahyDNynVCHE9FjQ-cdLYTJTHuEhXXMpjaxgXlRUK3RI43-b7TmLfQIfc-fuLhpbEnJPsK2kOrfUgUYEEQySidcJLN11eQbwY6IVBGJ5Vg9P3Gnt64nTol1HOQoZn0wLoff3mG_9itlaTbFTia824Z0XjHEBiN0RrYzP53RSNKdCauVs8pM7BJaa1qgdP8YybEDg'"
   ]
  },
  {
   "cell_type": "markdown",
   "metadata": {},
   "source": [
    "### Task 1: Verify the JWT is properly signed\n",
    "\n",
    "The first thing before to display to the user the picker/authoring interface to create the link is to validate this request is properly signed. This is done by decoding the JWT using public key from the platform.\n"
   ]
  },
  {
   "cell_type": "code",
   "execution_count": 24,
   "metadata": {},
   "outputs": [
    {
     "data": {
      "text/markdown": [
       "This request is signed with key: 1557603581_3"
      ],
      "text/plain": [
       "<IPython.core.display.Markdown object>"
      ]
     },
     "metadata": {},
     "output_type": "display_data"
    },
    {
     "data": {
      "text/markdown": [
       "#### Message properly signed! Decoded ContentItemSelectionRequest message:"
      ],
      "text/plain": [
       "<IPython.core.display.Markdown object>"
      ]
     },
     "metadata": {},
     "output_type": "display_data"
    },
    {
     "data": {
      "text/markdown": [
       "```json\n",
       "{\n",
       "    \"name\": \"Terell Suz\",\n",
       "    \"exp\": 1557606120,\n",
       "    \"family_name\": \"Suz\",\n",
       "    \"https://purl.imsglobal.org/spec/lti/claim/deployment_id\": \"deployment_1\",\n",
       "    \"https://purl.imsglobal.org/spec/lti/claim/lti1p1\": {\n",
       "        \"oauth_consumer_key\": \"e2573-371879\",\n",
       "        \"oauth_consumer_key_sign\": \"9aiNjiAAbTX5Pi9CzaurgeNMkIts9OWB7zz1BAASHQU=\"\n",
       "    },\n",
       "    \"nonce\": \"XSRF_session_bound_value_33164\",\n",
       "    \"https://purl.imsglobal.org/spec/lti/claim/launch_presentation\": {\n",
       "        \"return_url\": \"http://ltiplatform.theedtech.dev/tool/ff4e8bc6-7428-11e9-8f90-fa163e6be669/dlr\",\n",
       "        \"document_target\": \"iframe\"\n",
       "    },\n",
       "    \"https://purl.imsglobal.org/spec/lti/claim/roles\": [\n",
       "        \"http://purl.imsglobal.org/vocab/lis/v2/membership#Instructor\"\n",
       "    ],\n",
       "    \"sub\": \"LTIBCU_7\",\n",
       "    \"https://purl.imsglobal.org/spec/lti/claim/message_type\": \"LTIDeepLinkingRequest\",\n",
       "    \"iss\": \"http://ltiplatform.theedtech.dev\",\n",
       "    \"https://purl.imsglobal.org/spec/lti/claim/context\": {\n",
       "        \"id\": \"ff4e8bc6-7428-11e9-8f90-fa163e6be669\",\n",
       "        \"label\": \"LTI Bootcamp Course\",\n",
       "        \"type\": [\n",
       "            \"CourseSection\"\n",
       "        ],\n",
       "        \"title\": \"LTI Bootcamp Course\"\n",
       "    },\n",
       "    \"https://purl.imsglobal.org/spec/lti-nrps/claim/namesroleservice\": {\n",
       "        \"context_memberships_url\": \"http://ltiplatform.theedtech.dev/ff4e8bc6-7428-11e9-8f90-fa163e6be669/memberships\"\n",
       "    },\n",
       "    \"email\": \"Terell.Suz@example.com\",\n",
       "    \"aud\": \"1\",\n",
       "    \"https://purl.imsglobal.org/spec/lti-dl/claim/deep_linking_settings\": {\n",
       "        \"accept_presentation_document_targets\": [\n",
       "            \"iframe\",\n",
       "            \"window\"\n",
       "        ],\n",
       "        \"auto_create\": true,\n",
       "        \"data\": \"op=321&v=44\",\n",
       "        \"accept_types\": [\n",
       "            \"ltiLink\"\n",
       "        ],\n",
       "        \"accept_multiple\": true\n",
       "    },\n",
       "    \"https://purl.imsglobal.org/spec/lti-ags/claim/endpoint\": {\n",
       "        \"lineitems\": \"http://ltiplatform.theedtech.dev/ff4e8bc6-7428-11e9-8f90-fa163e6be669/lineitems\",\n",
       "        \"scope\": [\n",
       "            \"https://purl.imsglobal.org/spec/lti-ags/scope/lineitem\",\n",
       "            \"https://purl.imsglobal.org/spec/lti-ags/scope/score\",\n",
       "            \"https://purl.imsglobal.org/spec/lti-ags/scope/result.readonly\"\n",
       "        ]\n",
       "    },\n",
       "    \"iat\": 1557605520,\n",
       "    \"given_name\": \"Terell\",\n",
       "    \"https://purl.imsglobal.org/spec/lti/claim/tool_platform\": {\n",
       "        \"name\": \"LTI Bootcamp Platform\",\n",
       "        \"guid\": \"ltibc_at_1557603582\"\n",
       "    },\n",
       "    \"https://purl.imsglobal.org/spec/lti/claim/version\": \"1.3.0\"\n",
       "}```"
      ],
      "text/plain": [
       "<IPython.core.display.Markdown object>"
      ]
     },
     "metadata": {},
     "output_type": "display_data"
    },
    {
     "data": {
      "text/markdown": [
       "Nonce match, the response is intended for this notebook"
      ],
      "text/plain": [
       "<IPython.core.display.Markdown object>"
      ]
     },
     "metadata": {},
     "output_type": "display_data"
    }
   ],
   "source": [
    "# Let's get the kid so we can get the proper public key\n",
    "\n",
    "# should check ISS first to lookup keyset\n",
    "\n",
    "encoded_jwt = id_token\n",
    "jwt_headers = jwt.get_unverified_header(encoded_jwt)\n",
    "\n",
    "md('This request is signed with key: {0}'.format(jwt_headers['kid']))\n",
    "content_item_message = jwt.decode(encoded_jwt, \n",
    "                                  platform_keys[jwt_headers['kid']], \n",
    "                                  jwt_headers['alg'],\n",
    "                                  audience = tool_info['client_id'])\n",
    "\n",
    "md('#### Message properly signed! Decoded ContentItemSelectionRequest message:')\n",
    "md('```json\\n'+ json.dumps(content_item_message, indent=4)+'```')\n",
    "\n",
    "if content_item_message['nonce']==nonce:\n",
    "    md('Nonce match, the response is intended for this notebook' )\n",
    "else:\n",
    "    md('Nonce mismatch, this id_token was not requested by this notebook')\n",
    "    \n"
   ]
  },
  {
   "cell_type": "markdown",
   "metadata": {},
   "source": [
    "### Task 2: extract the information needed to render the selector/authoring UI\n",
    "\n",
    "If this is the first launch for the user or the course, as a tool you may prompt the user for setup information, including account linking or course setup. Ultimately the user will see the authoring or picking interface that will allow her to create or select the content items to be added to the course.\n",
    "\n",
    "Some key attributes of the `ContentItemSelectionRequest` will drive the experience:"
   ]
  },
  {
   "cell_type": "code",
   "execution_count": 25,
   "metadata": {},
   "outputs": [
    {
     "data": {
      "text/markdown": [
       "\n",
       "1. What is the current course id? ff4e8bc6-7428-11e9-8f90-fa163e6be669\n",
       "1. What is the current user id? LTIBCU_7\n",
       "1. Is this user an instructor? True\n",
       "1. What kind of content item can be created? ['ltiLink']\n",
       "1. Can I return more than one items to be added? True\n",
       "1. Will the user be prompted before to actually save the items? False\n",
       "1. Where should I redirect the browser too when done? http://ltiplatform.theedtech.dev/tool/ff4e8bc6-7428-11e9-8f90-fa163e6be669/dlr\n",
       "1. Is there any data I must pass back to platform when I return? True"
      ],
      "text/plain": [
       "<IPython.core.display.Markdown object>"
      ]
     },
     "metadata": {},
     "output_type": "display_data"
    }
   ],
   "source": [
    "# fc(claim) prefix the claim with http://imsglobal.org/lti/\n",
    "mdb('1. What is the current course id? {0}'.format(content_item_message[fc('context')]['id']))\n",
    "mdb('1. What is the current user id? {0}'.format(content_item_message['sub']))\n",
    "is_instructor = len(list(filter(lambda x: 'instructor' in x.lower(), content_item_message[fc('roles')])))>0\n",
    "mdb('1. Is this user an instructor? {0}'.format(is_instructor))\n",
    "deep_linking_claim = content_item_message[fc('deep_linking_settings', 'dl')]\n",
    "mdb('1. What kind of content item can be created? {0}'.format(deep_linking_claim['accept_types']))\n",
    "mdb('1. Can I return more than one items to be added? {0}'.format(deep_linking_claim['accept_multiple']))\n",
    "mdb('1. Will the user be prompted before to actually save the items? {0}'.format(not deep_linking_claim['auto_create']))\n",
    "deep_linking_return_url = content_item_message[fc('launch_presentation')]['return_url']\n",
    "mdb('1. Where should I redirect the browser too when done? {0}'.format(deep_linking_return_url))\n",
    "mdb('1. Is there any data I must pass back to platform when I return? {0}'.format('data' in deep_linking_claim))\n",
    "mdb()"
   ]
  },
  {
   "cell_type": "markdown",
   "metadata": {},
   "source": [
    "### Task 3: building the response token\n",
    "\n",
    "After the end of the interaction, so user is sent back to the platform throught a browser redirection using an HTTP POST containing the JWT `ContentItemResponse` message. In this case, we will return 2 LTI links, one being graded (since the request supports multiple content items).\n",
    "\n",
    "Here we're creating the actual response token."
   ]
  },
  {
   "cell_type": "code",
   "execution_count": 26,
   "metadata": {},
   "outputs": [],
   "source": [
    "## First let's create our 2 content items\n",
    "## Note that the URLs are phony as for now there is now way to launch in the notebook anyway...\n",
    "simple_link =  {\n",
    "      \"type\": \"ltilink\",\n",
    "      \"url\": \"https://lti.bootcamp/item111\",\n",
    "      \"window\": {\n",
    "        \"targetName\": \"bootcamp-win\"\n",
    "      },\n",
    "      \"iframe\": {\n",
    "        \"height\": 890\n",
    "      },\n",
    "      \"title\": \"A simple content item\",\n",
    "      \"text\": \"Some long text\",\n",
    "      \"icon\": {\n",
    "        \"url\": \"http://lti.example.com/image.jpg\",\n",
    "        \"width\": 100,\n",
    "        \"height\": 100\n",
    "      },\n",
    "      \"custom\": {\n",
    "        \"lab\": \"sim4e\"\n",
    "      }\n",
    "}\n",
    "\n",
    "assignment_link =  {\n",
    "      \"type\": \"ltilink\",\n",
    "      \"title\": \"An assignment\",\n",
    "      \"url\": \"https://lti.bootcamp/assignment1\",\n",
    "      \"text\": \"Chemical lab sim\",\n",
    "      \"window\": {\n",
    "        \"targetName\": \"examplePublisherContent\"\n",
    "      },\n",
    "      \"iframe\": {\n",
    "        \"height\": 890\n",
    "      },\n",
    "      \"icon\": {\n",
    "        \"url\": \"http://lti.example.com/image.jpg\",\n",
    "        \"width\": 100,\n",
    "        \"height\": 100\n",
    "      },\n",
    "      \"custom\": {\n",
    "        \"lab\": \"sim3a\",\n",
    "        \"level\": \"easy\"\n",
    "      },\n",
    "      \"lineItem\": {\n",
    "        \"scoreMaximum\": 34,\n",
    "        \"label\": \"Chemical lab sim\",\n",
    "        \"resourceId\": \"sim3a\",\n",
    "        \"tag\": \"final_grade\"\n",
    "      }\n",
    "}\n",
    "\n",
    "now = int(time())\n",
    "\n",
    "deep_linking_response = {\n",
    "    \"iss\": tool_info['client_id'],\n",
    "    \"aud\": content_item_message['iss'],\n",
    "    \"exp\": now + 60,\n",
    "    \"iat\": now,\n",
    "    fc('message_type'): \"DeepLinkingResponse\",\n",
    "    fc('version'): \"1.3.0\",\n",
    "    fc('content_items', 'dl'): [\n",
    "        simple_link, assignment_link\n",
    "    ]\n",
    "    \n",
    "}"
   ]
  },
  {
   "cell_type": "markdown",
   "metadata": {},
   "source": [
    "### Task 4: build the signed JWT"
   ]
  },
  {
   "cell_type": "code",
   "execution_count": 27,
   "metadata": {},
   "outputs": [
    {
     "name": "stdout",
     "output_type": "stream",
     "text": [
      "eyJ0eXAiOiJKV1QiLCJhbGciOiJSUzI1NiJ9.eyJpc3MiOiIxIiwiYXVkIjoiaHR0cDovL2x0aXBsYXRmb3JtLnRoZWVkdGVjaC5kZXYiLCJleHAiOjE1NTc2MDU2MjQsImlhdCI6MTU1NzYwNTU2NCwiaHR0cHM6Ly9wdXJsLmltc2dsb2JhbC5vcmcvc3BlYy9sdGkvY2xhaW0vbWVzc2FnZV90eXBlIjoiRGVlcExpbmtpbmdSZXNwb25zZSIsImh0dHBzOi8vcHVybC5pbXNnbG9iYWwub3JnL3NwZWMvbHRpL2NsYWltL3ZlcnNpb24iOiIxLjMuMCIsImh0dHBzOi8vcHVybC5pbXNnbG9iYWwub3JnL3NwZWMvbHRpLWRsL2NsYWltL2NvbnRlbnRfaXRlbXMiOlt7InR5cGUiOiJsdGlsaW5rIiwidXJsIjoiaHR0cHM6Ly9sdGkuYm9vdGNhbXAvaXRlbTExMSIsIndpbmRvdyI6eyJ0YXJnZXROYW1lIjoiYm9vdGNhbXAtd2luIn0sImlmcmFtZSI6eyJoZWlnaHQiOjg5MH0sInRpdGxlIjoiQSBzaW1wbGUgY29udGVudCBpdGVtIiwidGV4dCI6IlNvbWUgbG9uZyB0ZXh0IiwiaWNvbiI6eyJ1cmwiOiJodHRwOi8vbHRpLmV4YW1wbGUuY29tL2ltYWdlLmpwZyIsIndpZHRoIjoxMDAsImhlaWdodCI6MTAwfSwiY3VzdG9tIjp7ImxhYiI6InNpbTRlIn19LHsidHlwZSI6Imx0aWxpbmsiLCJ0aXRsZSI6IkFuIGFzc2lnbm1lbnQiLCJ1cmwiOiJodHRwczovL2x0aS5ib290Y2FtcC9hc3NpZ25tZW50MSIsInRleHQiOiJDaGVtaWNhbCBsYWIgc2ltIiwid2luZG93Ijp7InRhcmdldE5hbWUiOiJleGFtcGxlUHVibGlzaGVyQ29udGVudCJ9LCJpZnJhbWUiOnsiaGVpZ2h0Ijo4OTB9LCJpY29uIjp7InVybCI6Imh0dHA6Ly9sdGkuZXhhbXBsZS5jb20vaW1hZ2UuanBnIiwid2lkdGgiOjEwMCwiaGVpZ2h0IjoxMDB9LCJjdXN0b20iOnsibGFiIjoic2ltM2EiLCJsZXZlbCI6ImVhc3kifSwibGluZUl0ZW0iOnsic2NvcmVNYXhpbXVtIjozNCwibGFiZWwiOiJDaGVtaWNhbCBsYWIgc2ltIiwicmVzb3VyY2VJZCI6InNpbTNhIiwidGFnIjoiZmluYWxfZ3JhZGUifX1dfQ.sQbj3vEpNQm5qm-eifBKU30FNlQ5rJGYKrEwbBYMZ_jaPNxokr21CuWM8ATb5BfTsr2nXQ1uRhJCSeekknxGfDrJHoPJv3uYERUkQBpXbZejpSZ3fjUO4FSFInQ3vEQ7SiAnycxcV-1Iuyodf149yZU0oCsC8YGPea3G4TEwqcqx1JM1oJE_PR1t8_WDUUgyDAYBZq_UDD2vj_il7fnTBkm8IlBq2JZvF7ft2dU9rv3KQRH-2iekJWV9WzcKwXHIAFkLd6cOGaMCNSowpxtiEUNi8YbJrq-rZiXh9PxoD_rZJJ4YoBRYm483OFyj_iIoX0rMEH41vT35D7D6Mha4AA\n"
     ]
    }
   ],
   "source": [
    "deep_linking_response_token = jwt.encode(deep_linking_response, notebook_private_key, 'RS256').decode()\n",
    "\n",
    "print(deep_linking_response_token)"
   ]
  },
  {
   "cell_type": "markdown",
   "metadata": {},
   "source": [
    "### Task 5: redirect the user back to the platform with the content item selection\n",
    "\n",
    "Now that we the response token, let's do the actual HTML POST redirection to the platform. Note that because the platform supports `autocreate` there will be no prompt. The 2 items will be added directly to the course.\n"
   ]
  },
  {
   "cell_type": "code",
   "execution_count": 28,
   "metadata": {},
   "outputs": [
    {
     "data": {
      "text/html": [
       "<iframe id=\"deeplinking_frame\" name=\"deeplinking_frame\" style=\"height: 300px; width:100%\"></iframe>"
      ],
      "text/plain": [
       "<IPython.core.display.HTML object>"
      ]
     },
     "metadata": {},
     "output_type": "display_data"
    },
    {
     "data": {
      "application/javascript": [
       "new Promise(function(resolve, reject) {\n",
       "\tvar script = document.createElement(\"script\");\n",
       "\tscript.onload = resolve;\n",
       "\tscript.onerror = reject;\n",
       "\tscript.src = \"https://code.jquery.com/jquery-3.3.1.min.js\";\n",
       "\tdocument.head.appendChild(script);\n",
       "}).then(() => {\n",
       "\n",
       "                var ltiForm = $('<form>');                \n",
       "                ltiForm.attr('action', 'http://ltiplatform.theedtech.dev/tool/ff4e8bc6-7428-11e9-8f90-fa163e6be669/dlr');\n",
       "                ltiForm.attr('method', 'POST');\n",
       "                ltiForm.attr('target', 'deeplinking_frame');\n",
       "                $('<input>').attr({\n",
       "                    type: 'hidden',\n",
       "                    name: 'jws_token',\n",
       "                    value: 'eyJ0eXAiOiJKV1QiLCJhbGciOiJSUzI1NiJ9.eyJpc3MiOiIxIiwiYXVkIjoiaHR0cDovL2x0aXBsYXRmb3JtLnRoZWVkdGVjaC5kZXYiLCJleHAiOjE1NTc2MDU2MjQsImlhdCI6MTU1NzYwNTU2NCwiaHR0cHM6Ly9wdXJsLmltc2dsb2JhbC5vcmcvc3BlYy9sdGkvY2xhaW0vbWVzc2FnZV90eXBlIjoiRGVlcExpbmtpbmdSZXNwb25zZSIsImh0dHBzOi8vcHVybC5pbXNnbG9iYWwub3JnL3NwZWMvbHRpL2NsYWltL3ZlcnNpb24iOiIxLjMuMCIsImh0dHBzOi8vcHVybC5pbXNnbG9iYWwub3JnL3NwZWMvbHRpLWRsL2NsYWltL2NvbnRlbnRfaXRlbXMiOlt7InR5cGUiOiJsdGlsaW5rIiwidXJsIjoiaHR0cHM6Ly9sdGkuYm9vdGNhbXAvaXRlbTExMSIsIndpbmRvdyI6eyJ0YXJnZXROYW1lIjoiYm9vdGNhbXAtd2luIn0sImlmcmFtZSI6eyJoZWlnaHQiOjg5MH0sInRpdGxlIjoiQSBzaW1wbGUgY29udGVudCBpdGVtIiwidGV4dCI6IlNvbWUgbG9uZyB0ZXh0IiwiaWNvbiI6eyJ1cmwiOiJodHRwOi8vbHRpLmV4YW1wbGUuY29tL2ltYWdlLmpwZyIsIndpZHRoIjoxMDAsImhlaWdodCI6MTAwfSwiY3VzdG9tIjp7ImxhYiI6InNpbTRlIn19LHsidHlwZSI6Imx0aWxpbmsiLCJ0aXRsZSI6IkFuIGFzc2lnbm1lbnQiLCJ1cmwiOiJodHRwczovL2x0aS5ib290Y2FtcC9hc3NpZ25tZW50MSIsInRleHQiOiJDaGVtaWNhbCBsYWIgc2ltIiwid2luZG93Ijp7InRhcmdldE5hbWUiOiJleGFtcGxlUHVibGlzaGVyQ29udGVudCJ9LCJpZnJhbWUiOnsiaGVpZ2h0Ijo4OTB9LCJpY29uIjp7InVybCI6Imh0dHA6Ly9sdGkuZXhhbXBsZS5jb20vaW1hZ2UuanBnIiwid2lkdGgiOjEwMCwiaGVpZ2h0IjoxMDB9LCJjdXN0b20iOnsibGFiIjoic2ltM2EiLCJsZXZlbCI6ImVhc3kifSwibGluZUl0ZW0iOnsic2NvcmVNYXhpbXVtIjozNCwibGFiZWwiOiJDaGVtaWNhbCBsYWIgc2ltIiwicmVzb3VyY2VJZCI6InNpbTNhIiwidGFnIjoiZmluYWxfZ3JhZGUifX1dfQ.sQbj3vEpNQm5qm-eifBKU30FNlQ5rJGYKrEwbBYMZ_jaPNxokr21CuWM8ATb5BfTsr2nXQ1uRhJCSeekknxGfDrJHoPJv3uYERUkQBpXbZejpSZ3fjUO4FSFInQ3vEQ7SiAnycxcV-1Iuyodf149yZU0oCsC8YGPea3G4TEwqcqx1JM1oJE_PR1t8_WDUUgyDAYBZq_UDD2vj_il7fnTBkm8IlBq2JZvF7ft2dU9rv3KQRH-2iekJWV9WzcKwXHIAFkLd6cOGaMCNSowpxtiEUNi8YbJrq-rZiXh9PxoD_rZJJ4YoBRYm483OFyj_iIoX0rMEH41vT35D7D6Mha4AA'\n",
       "                }).appendTo(ltiForm);\n",
       "                $('#deeplinking_frame').before(ltiForm);\n",
       "                ltiForm.submit();\n",
       "                ltiForm.remove();\n",
       "                \n",
       "});"
      ],
      "text/plain": [
       "<IPython.core.display.Javascript object>"
      ]
     },
     "metadata": {},
     "output_type": "display_data"
    }
   ],
   "source": [
    "\n",
    "autosubmit_js = \"\"\"\n",
    "                var ltiForm = $('<form>');                \n",
    "                ltiForm.attr('action', '{url}');\n",
    "                ltiForm.attr('method', 'POST');\n",
    "                ltiForm.attr('target', 'deeplinking_frame');\n",
    "                $('<input>').attr({{\n",
    "                    type: 'hidden',\n",
    "                    name: 'jws_token',\n",
    "                    value: '{token}'\n",
    "                }}).appendTo(ltiForm);\n",
    "                $('#deeplinking_frame').before(ltiForm);\n",
    "                ltiForm.submit();\n",
    "                ltiForm.remove();\n",
    "                \"\"\"\n",
    "\n",
    "autosubmit_js = autosubmit_js.format(url=deep_linking_return_url, token=deep_linking_response_token)\n",
    "\n",
    "display(HTML('<iframe id=\"deeplinking_frame\" name=\"deeplinking_frame\" style=\"height: 300px; width:100%\"></iframe>'))\n",
    "display(Javascript(data=autosubmit_js, \n",
    "                   lib=\"https://code.jquery.com/jquery-3.3.1.min.js\"))"
   ]
  },
  {
   "cell_type": "markdown",
   "metadata": {},
   "source": [
    "## Student Resource Link launch\n",
    "\n",
    "Now that we have created resource links, let's handle a student launch from one of them. We're going to use a resource link with a **coupled** line item, so that we can use it to send a score back to the platform.\n",
    "\n",
    "### Setup\n",
    "\n",
    "The first thing we need, as with deep linking, is to get from the test platform the launch token which an actual tool would get in an actual HTML Form Post."
   ]
  },
  {
   "cell_type": "code",
   "execution_count": 48,
   "metadata": {},
   "outputs": [
    {
     "data": {
      "text/html": [
       "<iframe id=\"resourcelink\" name=\"resourcelink\" style=\"height: 300px; width:100%\"></iframe>"
      ],
      "text/plain": [
       "<IPython.core.display.HTML object>"
      ]
     },
     "metadata": {},
     "output_type": "display_data"
    },
    {
     "data": {
      "application/javascript": [
       "$.getScript(\"https://code.jquery.com/jquery-3.3.1.min.js\", function () {\n",
       "\n",
       "                var ltiForm = $('<form>');                \n",
       "                ltiForm.attr('action', 'http://localhost:5000/auth');\n",
       "                ltiForm.attr('method', 'POST');\n",
       "                ltiForm.attr('target', 'resourcelink');\n",
       "                $('<input>').attr({\n",
       "                    type: 'hidden',\n",
       "                    name: 'scope',\n",
       "                    value: 'open_id'\n",
       "                }).appendTo(ltiForm);\n",
       "                $('<input>').attr({\n",
       "                    type: 'hidden',\n",
       "                    name: 'response_type',\n",
       "                    value: 'id_token'\n",
       "                }).appendTo(ltiForm);\n",
       "                $('<input>').attr({\n",
       "                    type: 'hidden',\n",
       "                    name: 'client_id',\n",
       "                    value: '0'\n",
       "                }).appendTo(ltiForm);\n",
       "                $('<input>').attr({\n",
       "                    type: 'hidden',\n",
       "                    name: 'login_hint',\n",
       "                    value: 'student'\n",
       "                }).appendTo(ltiForm);\n",
       "                $('<input>').attr({\n",
       "                    type: 'hidden',\n",
       "                    name: 'lti_message_hint',\n",
       "                    value: 'bbb9abec-40f3-11e9-b6a6-024283bd1de6rlidd74a7af9-40f3-11e9-b6a6-024283bd1de6'\n",
       "                }).appendTo(ltiForm);\n",
       "                $('<input>').attr({\n",
       "                    type: 'hidden',\n",
       "                    name: 'response_mode',\n",
       "                    value: 'form_post'\n",
       "                }).appendTo(ltiForm);\n",
       "                $('<input>').attr({\n",
       "                    type: 'hidden',\n",
       "                    name: 'nonce',\n",
       "                    value: 'XSRF_session_bound_value_62816'\n",
       "                }).appendTo(ltiForm);\n",
       "                $('<input>').attr({\n",
       "                    type: 'hidden',\n",
       "                    name: 'state',\n",
       "                    value: 'XSRF_session_bound_value_62816'\n",
       "                }).appendTo(ltiForm);\n",
       "                $('<input>').attr({\n",
       "                    type: 'hidden',\n",
       "                    name: 'redirect_uri',\n",
       "                    value: 'http://localhost:8888/auth'\n",
       "                }).appendTo(ltiForm);\n",
       "                \n",
       "                $('#resourcelink').before(ltiForm);\n",
       "                ltiForm.submit();\n",
       "                ltiForm.remove();\n",
       "                });\n"
      ],
      "text/plain": [
       "<IPython.core.display.Javascript object>"
      ]
     },
     "metadata": {},
     "output_type": "display_data"
    }
   ],
   "source": [
    "# all messages are sent the same way, the Learning Platform indicates it wants to start an auth flow;\n",
    "# login_hint, lti_message_hint if used are black box to the tool and must be passed untouched in the\n",
    "# auth request\n",
    "\n",
    "# in our case though we will build here the lti_message_hint needed by the Platform\n",
    "\n",
    "context_id= content_item_message[fc('context')]['id']\n",
    "\n",
    "# we want to launch in the assignment\n",
    "# select the assignment id from the ones displayed in the course platform in the IFrame above\n",
    "resource_link_id='d74a7af9-40f3-11e9-b6a6-024283bd1de6' \n",
    "\n",
    "message_hint = '{0}rlid{1}'.format(context_id, resource_link_id)\n",
    "\n",
    "init_login_request = {\n",
    "    'iss': platform_url,\n",
    "    'login_hint': 'student', #value is opaque to tool, ex: tie to end user's platform's session\n",
    "    'lti_message_hint': message_hint,\n",
    "    'target_link_uri': 'https://lti.bootcamp/assignment1' #actual URL to launch at the end of the flow, would be the url provided in LtiResourceLink payload if provided\n",
    "}\n",
    "\n",
    "orig_state = 'XSRF_session_bound_value_{r}'.format(r=randint(0, 100000))\n",
    "\n",
    "# Using the same value for the nonce\n",
    "nonce = orig_state\n",
    "\n",
    "auth_request_params = {\n",
    "    'scope': 'open_id', #we only use the flow for OIDC, not to get an access token\n",
    "    'response_type': 'id_token',\n",
    "    'client_id': tool_info['client_id'],\n",
    "    'login_hint': init_login_request['login_hint'],\n",
    "    'lti_message_hint': init_login_request['lti_message_hint'],\n",
    "    'response_mode': 'form_post', # with LTI we expect the user to already have a session in the platform\n",
    "    'nonce': nonce, #a nonce compared to state should fail if replayed\n",
    "    'state': orig_state, #state is optional\n",
    "    'redirect_uri': redirect_uri\n",
    "}\n",
    "\n",
    "autopost_iframe('resourcelink', tool_info['oidc_auth_endpoint'], auth_request_params)"
   ]
  },
  {
   "cell_type": "markdown",
   "metadata": {},
   "source": [
    "### Task 1: Decode the launch\n",
    "\n",
    "Now, same as with the Deep Linking request, we decode the token:"
   ]
  },
  {
   "cell_type": "code",
   "execution_count": 49,
   "metadata": {
    "scrolled": true
   },
   "outputs": [
    {
     "data": {
      "text/markdown": [
       "```json\n",
       "{\n",
       "    \"nonce\": \"XSRF_session_bound_value_62816\",\n",
       "    \"iat\": 1551976409,\n",
       "    \"exp\": 1551977009,\n",
       "    \"iss\": \"http://localhost:5000\",\n",
       "    \"aud\": \"0\",\n",
       "    \"https://purl.imsglobal.org/spec/lti/claim/deployment_id\": \"deployment_0\",\n",
       "    \"https://purl.imsglobal.org/spec/lti/claim/message_type\": \"LTIResourceLinkLaunch\",\n",
       "    \"https://purl.imsglobal.org/spec/lti/claim/version\": \"1.3.0\",\n",
       "    \"https://purl.imsglobal.org/spec/lti/claim/launch_presentation\": {\n",
       "        \"document_target\": \"iframe\",\n",
       "        \"return_url\": \"http://localhost:5000http://localhost:5000/\"\n",
       "    },\n",
       "    \"sub\": \"LTIBCU_10\",\n",
       "    \"given_name\": \"Ebba\",\n",
       "    \"family_name\": \"Elisa\",\n",
       "    \"name\": \"Ebba Elisa\",\n",
       "    \"email\": \"Ebba.Elisa@example.com\",\n",
       "    \"https://purl.imsglobal.org/spec/lti/claim/roles\": [\n",
       "        \"http://purl.imsglobal.org/vocab/lis/v2/membership#Learner\"\n",
       "    ],\n",
       "    \"https://purl.imsglobal.org/spec/lti/claim/context\": {\n",
       "        \"id\": \"bbb9abec-40f3-11e9-b6a6-024283bd1de6\",\n",
       "        \"label\": \"LTI Bootcamp Course\",\n",
       "        \"title\": \"LTI Bootcamp Course\",\n",
       "        \"type\": [\n",
       "            \"CourseSection\"\n",
       "        ]\n",
       "    },\n",
       "    \"https://purl.imsglobal.org/spec/lti/claim/resource_link\": {\n",
       "        \"id\": \"d74a7af9-40f3-11e9-b6a6-024283bd1de6\",\n",
       "        \"title\": \"An assignment\"\n",
       "    },\n",
       "    \"https://purl.imsglobal.org/spec/lti/claim/custom\": {\n",
       "        \"lab\": \"sim3a\",\n",
       "        \"level\": \"easy\"\n",
       "    },\n",
       "    \"https://purl.imsglobal.org/spec/lti-ags/claim/endpoint\": {\n",
       "        \"scope\": [\n",
       "            \"https://purl.imsglobal.org/spec/lti-ags/scope/lineitem\",\n",
       "            \"https://purl.imsglobal.org/spec/lti-ags/scope/score\",\n",
       "            \"https://purl.imsglobal.org/spec/lti-ags/scope/result.readonly\"\n",
       "        ],\n",
       "        \"lineitems\": \"http://localhost:5000/bbb9abec-40f3-11e9-b6a6-024283bd1de6/lineitems\",\n",
       "        \"lineitem\": \"http://localhost:5000/bbb9abec-40f3-11e9-b6a6-024283bd1de6/lineitems/1/lineitem\"\n",
       "    },\n",
       "    \"https://purl.imsglobal.org/spec/lti-nrps/claim/namesroleservice\": {\n",
       "        \"context_memberships_url\": \"http://localhost:5000/bbb9abec-40f3-11e9-b6a6-024283bd1de6/memberships\"\n",
       "    },\n",
       "    \"https://purl.imsglobal.org/spec/lti/claim/tool_platform\": {\n",
       "        \"name\": \"LTI Bootcamp Platform\",\n",
       "        \"guid\": \"ltibc_at_1551975105\"\n",
       "    }\n",
       "}```"
      ],
      "text/plain": [
       "<IPython.core.display.Markdown object>"
      ]
     },
     "metadata": {},
     "output_type": "display_data"
    }
   ],
   "source": [
    "# paste token here id_token = ''\n",
    "id_token='eyJ0eXAiOiJKV1QiLCJhbGciOiJSUzI1NiIsImtpZCI6IjE1NTE5NzUxMDNfMSJ9.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.a5Ebs-gi4SL2jPMoByWKzchImZHumf_7s3_h8iht5hWNz4ZtbV1FzW4PaNoF_lucgA4mFKwwQykLjpgSazXfn4VBTcKHjJmqoZSIXH5CtO0OCUTn2Qem0jJv7vdta4cQAN661FlnkR5fH103QRqd4vLa3Ny0ltn25V2YEb35HLEVR26_NiF6TdI1FSxDnqQrRGI8jlXt8obJ_sKFYkFTWWw70jD0-O_dU_gPYbVorETLDYYvr9naIRolwXDoNN11ozaGCv4H56G2_m4-ycEmnGKfAlVQId8VGJAPSerS0hKAVU3P2uTIP5X1eW5E3oop3P1ZFq9l99ZSRH-_JE_8ZA'\n",
    "jwt_headers = jwt.get_unverified_header(id_token)\n",
    "\n",
    "student_launch = jwt.decode(id_token, \n",
    "                            platform_keys[jwt_headers['kid']], \n",
    "                            jwt_headers['alg'],\n",
    "                            audience = tool_info['client_id'])\n",
    "\n",
    "md('```json\\n'+ json.dumps(student_launch, indent=4)+'```')"
   ]
  },
  {
   "cell_type": "markdown",
   "metadata": {},
   "source": [
    "### Task 2: extract information to show the correct activity\n",
    "\n",
    "The launch gives information about the user, her role, the course, but also which actual resource we want to launch into."
   ]
  },
  {
   "cell_type": "code",
   "execution_count": 50,
   "metadata": {},
   "outputs": [
    {
     "data": {
      "text/markdown": [
       "\n",
       "1. Is this a resource link launch? True\n",
       "1. What is the id of the resource link that is launched? d74a7af9-40f3-11e9-b6a6-024283bd1de6\n",
       "1. What is the name of the resource that is launched? An assignment\n",
       "1. What is the current course id? bbb9abec-40f3-11e9-b6a6-024283bd1de6\n",
       "1. What is the current user id? LTIBCU_10\n",
       "1. Is this user a student? True\n",
       "1. Where should I redirect the browser too when done? http://localhost:5000http://localhost:5000/\n",
       "1. Which lab should be displayed? sim3a\n",
       "1. Is there a gradebook column for this resource? True"
      ],
      "text/plain": [
       "<IPython.core.display.Markdown object>"
      ]
     },
     "metadata": {},
     "output_type": "display_data"
    }
   ],
   "source": [
    "# fc(claim) prefix the claim with http://imsglobal.org/lti/\n",
    "mdb('1. Is this a resource link launch? {0}'.format(student_launch[fc('message_type')] == 'LTIResourceLinkLaunch'))\n",
    "mdb('1. What is the id of the resource link that is launched? {0}'.format(student_launch[fc('resource_link')]['id']))\n",
    "mdb('1. What is the name of the resource that is launched? {0}'.format(student_launch[fc('resource_link')]['title']))\n",
    "mdb('1. What is the current course id? {0}'.format(student_launch[fc('context')]['id']))\n",
    "mdb('1. What is the current user id? {0}'.format(student_launch['sub']))\n",
    "is_learner = len(list(filter(lambda x: 'learner' in x.lower(), student_launch[fc('roles')])))>0\n",
    "mdb('1. Is this user a student? {0}'.format(is_learner))\n",
    "return_url = student_launch[fc('launch_presentation')]['return_url']\n",
    "mdb('1. Where should I redirect the browser too when done? {0}'.format(return_url))\n",
    "mdb('1. Which lab should be displayed? {0}'.format(student_launch[fc('custom')]['lab']))\n",
    "ags_claim = student_launch[fc('endpoint', 'ags')]\n",
    "mdb('1. Is there a gradebook column for this resource? {0}'.format('lineitem' in ags_claim))\n",
    "mdb()\n"
   ]
  },
  {
   "cell_type": "markdown",
   "metadata": {},
   "source": [
    "## Assignment and Grade Services: Posting a grade to a coupled line item\n",
    "\n",
    "Now that the student has launched into a grading activity, eventually she will complete it. Let's assume this is an autograded quiz. At the end of the interaction, we're going to send a score.\n",
    "\n",
    "<img src=\"assets/ags.png\" width=\"60%\">\n",
    "\n",
    "The line item (gradebook column) was created declaratively by the platform when the resource link was created (at the end of the deep linking flow). The line item and the resource link are **coupled**. Due to this explicit relationship, the platform passes us directly the associated line item URL, which we will use to send scores. "
   ]
  },
  {
   "cell_type": "markdown",
   "metadata": {},
   "source": [
    "### Task 1: Get an access token\n",
    "\n",
    "To be able to send a grade, or call any service on that matter, we must first get an access token. This is done by using a JWT based client grant flow [RFC-7523](https://tools.ietf.org/html/rfc7523).\n",
    "\n",
    "Here we will re-use the token for the rest of the notebook, so we don't specify scope. If you intend to use the token only for a given operation, it is a good practice to scope it accordingly.\n",
    "\n",
    "The grant type is [client_credentials](https://tools.ietf.org/html/rfc6749#section-1.3.4) as the trust is established between the tool and the platform. The current user and context are not considered.\n"
   ]
  },
  {
   "cell_type": "code",
   "execution_count": 56,
   "metadata": {},
   "outputs": [],
   "source": [
    "## Let's define auth functions we can re-use for other calls\n",
    "\n",
    "private_key_pem = notebook_private_key.private_bytes(\n",
    "    encoding=serialization.Encoding.PEM,\n",
    "    format=serialization.PrivateFormat.TraditionalOpenSSL,\n",
    "    encryption_algorithm=serialization.NoEncryption())\n",
    "\n",
    "\n",
    "def get_token(scope):\n",
    "    display(scope)\n",
    "    token_endpoint = tool_info['accesstoken_endpoint']\n",
    "\n",
    "    now = int(time())\n",
    "\n",
    "    assertion = {\n",
    "        \"iss\": tool_info['client_id'],\n",
    "        \"aud\": token_endpoint,\n",
    "        \"exp\": now + 60,\n",
    "        \"iat\": now,\n",
    "        \"jti\": \"{0}-{1}\".format(tool_info['client_id'], now)\n",
    "    }\n",
    "\n",
    "    assertion_jwt = jwt.encode(assertion, private_key_pem, 'RS256').decode()\n",
    "\n",
    "    return json.loads(requests.post(token_endpoint, data = {\n",
    "        'client_assertion': assertion_jwt,\n",
    "        'grant_type': 'client_credentials',\n",
    "        'scope': scope,\n",
    "        'client_assertion_type': 'urn:ietf:params:oauth:client-assertion-type:jwt-bearer'\n",
    "    }).text)\n",
    "\n",
    "# We'll also need to create a proper header, so let's also create a function for that\n",
    "def add_authorization(headers, access_token):\n",
    "    b64token = base64.b64encode(access_token.encode('utf-8')).decode()\n",
    "    headers.update({'Authorization': 'Bearer {0}'.format(b64token)})\n",
    "\n",
    "    \n"
   ]
  },
  {
   "cell_type": "code",
   "execution_count": 57,
   "metadata": {},
   "outputs": [
    {
     "data": {
      "text/plain": [
       "'https://purl.imsglobal.org/spec/lti-ags/scope/result.readonly https://purl.imsglobal.org/spec/lti-ags/scope/score'"
      ]
     },
     "metadata": {},
     "output_type": "display_data"
    },
    {
     "data": {
      "text/markdown": [
       "#### Access token:"
      ],
      "text/plain": [
       "<IPython.core.display.Markdown object>"
      ]
     },
     "metadata": {},
     "output_type": "display_data"
    },
    {
     "data": {
      "text/markdown": [
       "```json\n",
       "{\n",
       "    \"access_token\": \"tk0d24b990-40f9-11e9-b6a6-024283bd1de6\",\n",
       "    \"expires_in\": 3600,\n",
       "    \"token_type\": \"Bearer\"\n",
       "}```"
      ],
      "text/plain": [
       "<IPython.core.display.Markdown object>"
      ]
     },
     "metadata": {},
     "output_type": "display_data"
    }
   ],
   "source": [
    "token_info = get_token('{0} {1}'.format(scope('result.readonly', s='ags'), scope('score', s='ags')))\n",
    "md('#### Access token:')\n",
    "md('```json\\n'+ json.dumps(token_info, indent=4)+'```')"
   ]
  },
  {
   "cell_type": "markdown",
   "metadata": {},
   "source": [
    "### Task 2: Publish a score"
   ]
  },
  {
   "cell_type": "code",
   "execution_count": 58,
   "metadata": {
    "scrolled": true
   },
   "outputs": [
    {
     "data": {
      "text/markdown": [
       "The score was processed successfully be the back-end"
      ],
      "text/plain": [
       "<IPython.core.display.Markdown object>"
      ]
     },
     "metadata": {},
     "output_type": "display_data"
    }
   ],
   "source": [
    "# Scores in the subpath scores from lineitem.\n",
    "def append_to_path(path, subpath):\n",
    "    p = re.compile('lineitem($|\\?|#)')\n",
    "    return p.sub('lineitem/{0}\\\\1'.format(subpath), path)\n",
    "\n",
    "scores_url = append_to_path(ags_claim['lineitem'], 'scores')\n",
    "\n",
    "score = {\n",
    "    'userId': student_launch['sub'],\n",
    "    'scoreGiven': 9,\n",
    "    'scoreMaximum': 10,\n",
    "    'activityProgress': 'Completed',\n",
    "    'gradingProgress': 'FullyGraded',\n",
    "    'timestamp': datetime.utcnow().isoformat()\n",
    "}\n",
    "\n",
    "headers = {'Content-Type': 'application/vnd.ims.lis.v1.score+json'}\n",
    "add_authorization(headers, token_info['access_token'])\n",
    "\n",
    "r = requests.post(scores_url.encode(), headers=headers, data=json.dumps(score), verify=False)\n",
    "\n",
    "# let's check it was OK\n",
    "r.raise_for_status()\n",
    "\n",
    "md('The score was processed successfully be the back-end')\n",
    "\n",
    "\n"
   ]
  },
  {
   "cell_type": "markdown",
   "metadata": {},
   "source": [
    "### Task 3: get the results\n",
    "\n",
    "Let's not get the results to see our operation did actually succeed"
   ]
  },
  {
   "cell_type": "code",
   "execution_count": 59,
   "metadata": {},
   "outputs": [
    {
     "data": {
      "text/markdown": [
       "#### Current results for item"
      ],
      "text/plain": [
       "<IPython.core.display.Markdown object>"
      ]
     },
     "metadata": {},
     "output_type": "display_data"
    },
    {
     "data": {
      "text/markdown": [
       "```json\n",
       "[\n",
       "    {\n",
       "        \"resultMaximum\": 34,\n",
       "        \"resultScore\": 30.6,\n",
       "        \"userId\": \"LTIBCU_10\"\n",
       "    }\n",
       "]```"
      ],
      "text/plain": [
       "<IPython.core.display.Markdown object>"
      ]
     },
     "metadata": {},
     "output_type": "display_data"
    }
   ],
   "source": [
    "results_url = append_to_path(ags_claim['lineitem'], 'results')\n",
    "\n",
    "headers = {'Content-Type': 'application/vnd.ims.lis.v2.resultcontainer+json'}\n",
    "add_authorization(headers, token_info['access_token'])\n",
    "\n",
    "r = requests.get(results_url.encode(), headers=headers)\n",
    "\n",
    "# let's check it was OK\n",
    "r.raise_for_status()\n",
    "\n",
    "md('#### Current results for item')\n",
    "md('```json\\n'+ json.dumps(r.json(), indent=4)+'```')\n",
    "\n"
   ]
  },
  {
   "cell_type": "markdown",
   "metadata": {},
   "source": [
    "### Task 4: marking a score as needing grading\n",
    "Assignment and Grade services allow for more than just passing grade. Let's say we just want to mark a submission was done, and the instructor requires to manually grade the essay. In which case, we can post a Score indicating the status of the activity is completed, and the grading needs manual intervention using the `activityProgress` and `gradingProgress` attributes."
   ]
  },
  {
   "cell_type": "code",
   "execution_count": 60,
   "metadata": {},
   "outputs": [
    {
     "data": {
      "text/markdown": [
       "The score was processed successfully be the back-end"
      ],
      "text/plain": [
       "<IPython.core.display.Markdown object>"
      ]
     },
     "metadata": {},
     "output_type": "display_data"
    }
   ],
   "source": [
    "score = {\n",
    "    'userId': student_launch['sub'],\n",
    "    'activityProgress': 'Completed',\n",
    "    'gradingProgress': 'PendingManual',\n",
    "    'timestamp': datetime.utcnow().isoformat()\n",
    "}\n",
    "\n",
    "headers = {'Content-Type': 'application/vnd.ims.lis.v1.score+json'}\n",
    "add_authorization(headers, token_info['access_token'])\n",
    "\n",
    "r = requests.post(scores_url.encode(), headers=headers, data=json.dumps(score))\n",
    "\n",
    "# let's check it was OK\n",
    "r.raise_for_status()\n",
    "\n",
    "md('The score was processed successfully be the back-end')\n"
   ]
  },
  {
   "cell_type": "markdown",
   "metadata": {},
   "source": [
    "We can see it now in the platform gradebook:"
   ]
  },
  {
   "cell_type": "code",
   "execution_count": 61,
   "metadata": {},
   "outputs": [
    {
     "data": {
      "text/html": [
       "<iframe src=\"http://localhost:5000/course/bbb9abec-40f3-11e9-b6a6-024283bd1de6/gradebook\" style=\"height: 300px; width:100%\"></iframe>"
      ],
      "text/plain": [
       "<IPython.core.display.HTML object>"
      ]
     },
     "metadata": {},
     "output_type": "display_data"
    }
   ],
   "source": [
    "platform_gradebook_url = '{0}/course/{1}/gradebook'.format(platform_url, student_launch[fc('context')]['id'])\n",
    "display(HTML('<iframe src=\"{0}\" style=\"height: 300px; width:100%\"></iframe>'.format(platform_gradebook_url)))"
   ]
  },
  {
   "cell_type": "markdown",
   "metadata": {},
   "source": [
    "## Assignment and Grade Services - Uncoupled\n",
    "\n",
    "The assignment and grade services support an alternate way to create line items: rather than having the platform creates a line item when it creates a link, a tool may use the API to create standalone line items, i.e. uncoupled from any lti link (the API may optionaly include an ltiLinkId to tie the one or many line items to a single resource link, although platforms will often treat this association as weaker than a declarative flow).\n",
    "\n",
    "Let's use the API to add a new line item, send some scores to it, then delete it.\n"
   ]
  },
  {
   "cell_type": "markdown",
   "metadata": {},
   "source": [
    "### Task 1: get a properly scoped token\n",
    "\n",
    "Same as before, we just need to now ask also for the scope to allow line item management."
   ]
  },
  {
   "cell_type": "code",
   "execution_count": 62,
   "metadata": {},
   "outputs": [
    {
     "data": {
      "text/plain": [
       "'https://purl.imsglobal.org/spec/lti-ags/scope/lineitem https://purl.imsglobal.org/spec/lti-ags/scope/score https://purl.imsglobal.org/spec/lti-ags/scope/result.readonly'"
      ]
     },
     "metadata": {},
     "output_type": "display_data"
    },
    {
     "data": {
      "text/markdown": [
       "#### Access token with all assignment and grade services scopes:"
      ],
      "text/plain": [
       "<IPython.core.display.Markdown object>"
      ]
     },
     "metadata": {},
     "output_type": "display_data"
    },
    {
     "data": {
      "text/markdown": [
       "```json\n",
       "{\n",
       "    \"access_token\": \"tk20985036-40f9-11e9-b6a6-024283bd1de6\",\n",
       "    \"expires_in\": 3600,\n",
       "    \"token_type\": \"Bearer\"\n",
       "}```"
      ],
      "text/plain": [
       "<IPython.core.display.Markdown object>"
      ]
     },
     "metadata": {},
     "output_type": "display_data"
    }
   ],
   "source": [
    "token_info = get_token(' '.join([scope('lineitem', s='ags'), scope('score', s='ags'), scope('result.readonly', 'ags')]))\n",
    "\n",
    "md('#### Access token with all assignment and grade services scopes:')\n",
    "md('```json\\n'+ json.dumps(token_info, indent=4)+'```')"
   ]
  },
  {
   "cell_type": "markdown",
   "metadata": {},
   "source": [
    "### Task 2: create a new line item and post score\n",
    "\n",
    "The `lineitems` is the URL representating all the line items in the current context bound to our tool. We can do a GET to see all the existing items, and a POST to add a new one. Let's start by adding one:"
   ]
  },
  {
   "cell_type": "code",
   "execution_count": 63,
   "metadata": {},
   "outputs": [
    {
     "data": {
      "text/markdown": [
       "#### Successfully added line item:"
      ],
      "text/plain": [
       "<IPython.core.display.Markdown object>"
      ]
     },
     "metadata": {},
     "output_type": "display_data"
    },
    {
     "data": {
      "text/markdown": [
       "```json\n",
       "{\n",
       "    \"id\": \"http://localhost:5000/bbb9abec-40f3-11e9-b6a6-024283bd1de6/lineitems/2/lineitem\",\n",
       "    \"label\": \"Participation in Bootcamp\",\n",
       "    \"resourceId\": \"bootcamp\",\n",
       "    \"scoreMaximum\": 25,\n",
       "    \"tag\": \"participation\"\n",
       "}```"
      ],
      "text/plain": [
       "<IPython.core.display.Markdown object>"
      ]
     },
     "metadata": {},
     "output_type": "display_data"
    }
   ],
   "source": [
    "# note the specific mediatype\n",
    "headers = {'Content-Type': 'application/vnd.ims.lis.v2.lineitem+json'}\n",
    "add_authorization(headers, token_info['access_token'])\n",
    "\n",
    "lineitem = {\n",
    "    \"resourceId\": \"bootcamp\",\n",
    "    \"tag\": \"participation\",\n",
    "    \"label\": \"Participation in Bootcamp\",\n",
    "    \"scoreMaximum\": 25\n",
    "}\n",
    "\n",
    "r = requests.post(ags_claim['lineitems'], headers=headers, data=json.dumps(lineitem), verify=False)\n",
    "\n",
    "r.raise_for_status()\n",
    "\n",
    "uncoupled_item = r.json();\n",
    "\n",
    "md('#### Successfully added line item:')\n",
    "md('```json\\n'+ json.dumps(uncoupled_item, indent=4)+'```')\n",
    "\n"
   ]
  },
  {
   "cell_type": "code",
   "execution_count": 64,
   "metadata": {},
   "outputs": [
    {
     "data": {
      "text/markdown": [
       "#### Current line items for this tool in the context"
      ],
      "text/plain": [
       "<IPython.core.display.Markdown object>"
      ]
     },
     "metadata": {},
     "output_type": "display_data"
    },
    {
     "data": {
      "text/markdown": [
       "```json\n",
       "[\n",
       "    {\n",
       "        \"id\": \"http://localhost:5000/bbb9abec-40f3-11e9-b6a6-024283bd1de6/lineitems/1/lineitem\",\n",
       "        \"label\": \"Chemical lab sim\",\n",
       "        \"ltiLinkId\": \"d74a7af9-40f3-11e9-b6a6-024283bd1de6\",\n",
       "        \"resourceId\": \"sim3a\",\n",
       "        \"scoreMaximum\": 34,\n",
       "        \"tag\": \"final_grade\"\n",
       "    },\n",
       "    {\n",
       "        \"id\": \"http://localhost:5000/bbb9abec-40f3-11e9-b6a6-024283bd1de6/lineitems/2/lineitem\",\n",
       "        \"label\": \"Participation in Bootcamp\",\n",
       "        \"resourceId\": \"bootcamp\",\n",
       "        \"scoreMaximum\": 25,\n",
       "        \"tag\": \"participation\"\n",
       "    }\n",
       "]```"
      ],
      "text/plain": [
       "<IPython.core.display.Markdown object>"
      ]
     },
     "metadata": {},
     "output_type": "display_data"
    }
   ],
   "source": [
    "r = requests.get(ags_claim['lineitems'], headers=headers, verify=False)\n",
    "\n",
    "# let's check it was OK\n",
    "r.raise_for_status()\n",
    "\n",
    "md('#### Current line items for this tool in the context')\n",
    "md('```json\\n'+ json.dumps(r.json(), indent=4)+'```')"
   ]
  },
  {
   "cell_type": "markdown",
   "metadata": {},
   "source": [
    "Sending the score to the uncoupled line item is the same as with the coupled one, the id being the line item URL."
   ]
  },
  {
   "cell_type": "code",
   "execution_count": 65,
   "metadata": {},
   "outputs": [
    {
     "data": {
      "text/markdown": [
       "The score was processed successfully be the back-end"
      ],
      "text/plain": [
       "<IPython.core.display.Markdown object>"
      ]
     },
     "metadata": {},
     "output_type": "display_data"
    }
   ],
   "source": [
    "scores_url = append_to_path(uncoupled_item['id'], 'scores')\n",
    "\n",
    "score = {\n",
    "    'userId': student_launch['sub'],\n",
    "    'scoreGiven': 10,\n",
    "    'scoreMaximum': 10,\n",
    "    'activityProgress': 'Completed',\n",
    "    'gradingProgress': 'FullyGraded',\n",
    "    'timestamp': datetime.utcnow().isoformat()\n",
    "}\n",
    "\n",
    "headers = {'Content-Type': 'application/vnd.ims.lis.v1.score+json'}\n",
    "add_authorization(headers, token_info['access_token'])\n",
    "\n",
    "r = requests.post(scores_url.encode(), headers=headers, data=json.dumps(score), verify=False)\n",
    "\n",
    "# let's check it was OK\n",
    "r.raise_for_status()\n",
    "\n",
    "md('The score was processed successfully be the back-end')\n"
   ]
  },
  {
   "cell_type": "markdown",
   "metadata": {},
   "source": [
    "### Task 3: Updating the line item\n",
    "\n",
    "Update is done by PUTting the updated definition to the line item  URL (id)."
   ]
  },
  {
   "cell_type": "code",
   "execution_count": 66,
   "metadata": {},
   "outputs": [
    {
     "data": {
      "text/markdown": [
       "#### Successfully updated line item:"
      ],
      "text/plain": [
       "<IPython.core.display.Markdown object>"
      ]
     },
     "metadata": {},
     "output_type": "display_data"
    },
    {
     "data": {
      "text/markdown": [
       "```json\n",
       "{\n",
       "    \"id\": \"http://localhost:5000/bbb9abec-40f3-11e9-b6a6-024283bd1de6/lineitems/2/lineitem\",\n",
       "    \"label\": \"Participation (uncoupled)\",\n",
       "    \"scoreMaximum\": 30,\n",
       "    \"tag\": \"participation\"\n",
       "}```"
      ],
      "text/plain": [
       "<IPython.core.display.Markdown object>"
      ]
     },
     "metadata": {},
     "output_type": "display_data"
    }
   ],
   "source": [
    "# note the specific mediatype\n",
    "headers = {'Content-Type': 'application/vnd.ims.lis.v2.lineitem+json'}\n",
    "add_authorization(headers, token_info['access_token'])\n",
    "\n",
    "lineitem = {\n",
    "    \"resourceId\": \"bootcamp\",\n",
    "    \"tag\": \"participation\",\n",
    "    \"label\": \"Participation (uncoupled)\",\n",
    "    \"scoreMaximum\": 30\n",
    "}\n",
    "\n",
    "r = requests.put(uncoupled_item['id'], headers=headers, data=json.dumps(lineitem), verify=False)\n",
    "                           \n",
    "r.raise_for_status()\n",
    "\n",
    "uncoupled_item = r.json();\n",
    "\n",
    "md('#### Successfully updated line item:')\n",
    "md('```json\\n'+ json.dumps(uncoupled_item, indent=4)+'```')\n"
   ]
  },
  {
   "cell_type": "markdown",
   "metadata": {},
   "source": [
    "You can also scroll back up where the platform UI is displayed and check in the gradebook to see the item is present (and scores have been rescaled)."
   ]
  },
  {
   "cell_type": "markdown",
   "metadata": {},
   "source": [
    "### Task 4: Delete the uncoupled line item\n",
    "\n",
    "Deleting is just issuing a DELETE command the line item URL."
   ]
  },
  {
   "cell_type": "code",
   "execution_count": 67,
   "metadata": {},
   "outputs": [
    {
     "data": {
      "text/markdown": [
       "#### Successfully deleted line item"
      ],
      "text/plain": [
       "<IPython.core.display.Markdown object>"
      ]
     },
     "metadata": {},
     "output_type": "display_data"
    }
   ],
   "source": [
    "# no content type, it's a delete\n",
    "headers = {}\n",
    "add_authorization(headers, token_info['access_token'])\n",
    "\n",
    "r = requests.delete(uncoupled_item['id'], headers=headers, verify=False)\n",
    "                           \n",
    "r.raise_for_status()\n",
    "\n",
    "md('#### Successfully deleted line item')\n"
   ]
  },
  {
   "cell_type": "markdown",
   "metadata": {},
   "source": [
    "## Names and Role Provisioning Service\n",
    "\n",
    "Or more simply, membership service, lets you get the roster of the course.\n",
    "\n",
    "<img src=\"assets/membership.png\" width=\"60%\">\n",
    "\n",
    "This service does not allow any modification of the course roster. At a minimum, the platform will apply the same privacy restrictions that applies to actual launches.\n",
    "\n",
    "### Task 1: Get the full course roster\n",
    "\n",
    "The Assignment and Grade Service endpoint is communicated in the LTI message under the claim `https://purl.imsglobal.org/lti/claim/arps`. The scope to request is `https://purl.imsglobal.org/lti/scope/nrps`.\n",
    "\n"
   ]
  },
  {
   "cell_type": "code",
   "execution_count": 68,
   "metadata": {},
   "outputs": [
    {
     "data": {
      "text/plain": [
       "'https://purl.imsglobal.org/spec/lti-nrps/scope/contextmembership.readonly'"
      ]
     },
     "metadata": {},
     "output_type": "display_data"
    },
    {
     "data": {
      "text/markdown": [
       "#### Successfully retrieved course roster:"
      ],
      "text/plain": [
       "<IPython.core.display.Markdown object>"
      ]
     },
     "metadata": {},
     "output_type": "display_data"
    },
    {
     "data": {
      "text/markdown": [
       "```json\n",
       "{\n",
       "    \"@context\": [\n",
       "        \"http://purl.imsglobal.org/ctx/lis/v2/MembershipContainer\",\n",
       "        {\n",
       "            \"lism\": \"http://purl.imsglobal.org/vocab/lis/v2/membership#\",\n",
       "            \"liss\": \"http://purl.imsglobal.org/vocab/lis/v2/status#\"\n",
       "        }\n",
       "    ],\n",
       "    \"@id\": \"http://localhost:5000/bbb9abec-40f3-11e9-b6a6-024283bd1de6/memberships\",\n",
       "    \"@type\": \"Page\",\n",
       "    \"differences\": \"http://localhost:5000/bbb9abec-40f3-11e9-b6a6-024283bd1de6/memberships?since=1551977445\",\n",
       "    \"pageOf\": {\n",
       "        \"@type\": \"LISMembershipContainer\",\n",
       "        \"membershipSubject\": {\n",
       "            \"@type\": \"Context\",\n",
       "            \"contextId\": \"bbb9abec-40f3-11e9-b6a6-024283bd1de6\",\n",
       "            \"membership\": [\n",
       "                {\n",
       "                    \"member\": {\n",
       "                        \"@type\": \"LISPerson\",\n",
       "                        \"email\": \"Fleurette.Michel@example.com\",\n",
       "                        \"familyName\": \"Michel\",\n",
       "                        \"givenName\": \"Fleurette\",\n",
       "                        \"name\": \"Fleurette Michel\",\n",
       "                        \"sourcedId\": \"b3d662a0-40f3-11e9-b6a6-024283bd1de6\",\n",
       "                        \"userId\": \"LTIBCU_2\"\n",
       "                    },\n",
       "                    \"role\": [\n",
       "                        \"http://purl.imsglobal.org/vocab/lis/v2/membership#Instructor\"\n",
       "                    ],\n",
       "                    \"status\": \"liss:Active\"\n",
       "                },\n",
       "                {\n",
       "                    \"member\": {\n",
       "                        \"@type\": \"LISPerson\",\n",
       "                        \"email\": \"Kara.Thrace@example.com\",\n",
       "                        \"familyName\": \"Thrace\",\n",
       "                        \"givenName\": \"Kara\",\n",
       "                        \"name\": \"Kara Thrace\",\n",
       "                        \"sourcedId\": \"b3d662ab-40f3-11e9-b6a6-024283bd1de6\",\n",
       "                        \"userId\": \"LTIBCU_13\"\n",
       "                    },\n",
       "                    \"role\": [\n",
       "                        \"http://purl.imsglobal.org/vocab/lis/v2/membership/instructor#TeachingAssistant\"\n",
       "                    ],\n",
       "                    \"status\": \"liss:Active\"\n",
       "                },\n",
       "                {\n",
       "                    \"member\": {\n",
       "                        \"@type\": \"LISPerson\",\n",
       "                        \"email\": \"Lucia.Colette@example.com\",\n",
       "                        \"familyName\": \"Colette\",\n",
       "                        \"givenName\": \"Lucia\",\n",
       "                        \"name\": \"Lucia Colette\",\n",
       "                        \"sourcedId\": \"b3d662a2-40f3-11e9-b6a6-024283bd1de6\",\n",
       "                        \"userId\": \"LTIBCU_4\"\n",
       "                    },\n",
       "                    \"role\": [\n",
       "                        \"http://purl.imsglobal.org/vocab/lis/v2/membership#Learner\"\n",
       "                    ],\n",
       "                    \"status\": \"liss:Active\"\n",
       "                },\n",
       "                {\n",
       "                    \"member\": {\n",
       "                        \"@type\": \"LISPerson\",\n",
       "                        \"email\": \"Sander.Donald@example.com\",\n",
       "                        \"familyName\": \"Donald\",\n",
       "                        \"givenName\": \"Sander\",\n",
       "                        \"name\": \"Sander Donald\",\n",
       "                        \"sourcedId\": \"b3d662a4-40f3-11e9-b6a6-024283bd1de6\",\n",
       "                        \"userId\": \"LTIBCU_6\"\n",
       "                    },\n",
       "                    \"role\": [\n",
       "                        \"http://purl.imsglobal.org/vocab/lis/v2/membership#Learner\"\n",
       "                    ],\n",
       "                    \"status\": \"liss:Active\"\n",
       "                },\n",
       "                {\n",
       "                    \"member\": {\n",
       "                        \"@type\": \"LISPerson\",\n",
       "                        \"email\": \"Horatio.Maya@example.com\",\n",
       "                        \"familyName\": \"Maya\",\n",
       "                        \"givenName\": \"Horatio\",\n",
       "                        \"name\": \"Horatio Maya\",\n",
       "                        \"sourcedId\": \"b3d662a7-40f3-11e9-b6a6-024283bd1de6\",\n",
       "                        \"userId\": \"LTIBCU_9\"\n",
       "                    },\n",
       "                    \"role\": [\n",
       "                        \"http://purl.imsglobal.org/vocab/lis/v2/membership#Learner\"\n",
       "                    ],\n",
       "                    \"status\": \"liss:Active\"\n",
       "                },\n",
       "                {\n",
       "                    \"member\": {\n",
       "                        \"@type\": \"LISPerson\",\n",
       "                        \"email\": \"Colby.Rona@example.com\",\n",
       "                        \"familyName\": \"Rona\",\n",
       "                        \"givenName\": \"Colby\",\n",
       "                        \"name\": \"Colby Rona\",\n",
       "                        \"sourcedId\": \"b3d662a3-40f3-11e9-b6a6-024283bd1de6\",\n",
       "                        \"userId\": \"LTIBCU_5\"\n",
       "                    },\n",
       "                    \"role\": [\n",
       "                        \"http://purl.imsglobal.org/vocab/lis/v2/membership#Learner\"\n",
       "                    ],\n",
       "                    \"status\": \"liss:Active\"\n",
       "                },\n",
       "                {\n",
       "                    \"member\": {\n",
       "                        \"@type\": \"LISPerson\",\n",
       "                        \"email\": \"William.Adama@example.com\",\n",
       "                        \"familyName\": \"Adama\",\n",
       "                        \"givenName\": \"William\",\n",
       "                        \"name\": \"William Adama\",\n",
       "                        \"sourcedId\": \"b3d662ac-40f3-11e9-b6a6-024283bd1de6\",\n",
       "                        \"userId\": \"LTIBCU_14\"\n",
       "                    },\n",
       "                    \"role\": [\n",
       "                        \"http://purl.imsglobal.org/vocab/lis/v2/membership#Learner\"\n",
       "                    ],\n",
       "                    \"status\": \"liss:Active\"\n",
       "                },\n",
       "                {\n",
       "                    \"member\": {\n",
       "                        \"@type\": \"LISPerson\",\n",
       "                        \"email\": \"Shouta.Akio@example.com\",\n",
       "                        \"familyName\": \"Akio\",\n",
       "                        \"givenName\": \"Shouta\",\n",
       "                        \"name\": \"Shouta Akio\",\n",
       "                        \"sourcedId\": \"b3d662b1-40f3-11e9-b6a6-024283bd1de6\",\n",
       "                        \"userId\": \"LTIBCU_19\"\n",
       "                    },\n",
       "                    \"role\": [\n",
       "                        \"http://purl.imsglobal.org/vocab/lis/v2/membership#Learner\"\n",
       "                    ],\n",
       "                    \"status\": \"liss:Active\"\n",
       "                },\n",
       "                {\n",
       "                    \"member\": {\n",
       "                        \"@type\": \"LISPerson\",\n",
       "                        \"email\": \"Christal.Conch\\u00far@example.com\",\n",
       "                        \"familyName\": \"Conch\\u00far\",\n",
       "                        \"givenName\": \"Christal\",\n",
       "                        \"name\": \"Christal Conch\\u00far\",\n",
       "                        \"sourcedId\": \"b3d662a1-40f3-11e9-b6a6-024283bd1de6\",\n",
       "                        \"userId\": \"LTIBCU_3\"\n",
       "                    },\n",
       "                    \"role\": [\n",
       "                        \"http://purl.imsglobal.org/vocab/lis/v2/membership#Learner\"\n",
       "                    ],\n",
       "                    \"status\": \"liss:Active\"\n",
       "                },\n",
       "                {\n",
       "                    \"member\": {\n",
       "                        \"@type\": \"LISPerson\",\n",
       "                        \"email\": \"Ebba.Elisa@example.com\",\n",
       "                        \"familyName\": \"Elisa\",\n",
       "                        \"givenName\": \"Ebba\",\n",
       "                        \"name\": \"Ebba Elisa\",\n",
       "                        \"sourcedId\": \"b3d662a8-40f3-11e9-b6a6-024283bd1de6\",\n",
       "                        \"userId\": \"LTIBCU_10\"\n",
       "                    },\n",
       "                    \"role\": [\n",
       "                        \"http://purl.imsglobal.org/vocab/lis/v2/membership#Learner\"\n",
       "                    ],\n",
       "                    \"status\": \"liss:Active\"\n",
       "                },\n",
       "                {\n",
       "                    \"member\": {\n",
       "                        \"@type\": \"LISPerson\",\n",
       "                        \"email\": \"Saul.Tigh@example.com\",\n",
       "                        \"familyName\": \"Tigh\",\n",
       "                        \"givenName\": \"Saul\",\n",
       "                        \"name\": \"Saul Tigh\",\n",
       "                        \"sourcedId\": \"b3d662af-40f3-11e9-b6a6-024283bd1de6\",\n",
       "                        \"userId\": \"LTIBCU_17\"\n",
       "                    },\n",
       "                    \"role\": [\n",
       "                        \"http://purl.imsglobal.org/vocab/lis/v2/membership#Learner\"\n",
       "                    ],\n",
       "                    \"status\": \"liss:Active\"\n",
       "                },\n",
       "                {\n",
       "                    \"member\": {\n",
       "                        \"@type\": \"LISPerson\",\n",
       "                        \"email\": \"Gaius.Baltar@example.com\",\n",
       "                        \"familyName\": \"Baltar\",\n",
       "                        \"givenName\": \"Gaius\",\n",
       "                        \"name\": \"Gaius Baltar\",\n",
       "                        \"sourcedId\": \"b3d662ad-40f3-11e9-b6a6-024283bd1de6\",\n",
       "                        \"userId\": \"LTIBCU_15\"\n",
       "                    },\n",
       "                    \"role\": [\n",
       "                        \"http://purl.imsglobal.org/vocab/lis/v2/membership#Learner\"\n",
       "                    ],\n",
       "                    \"status\": \"liss:Active\"\n",
       "                },\n",
       "                {\n",
       "                    \"member\": {\n",
       "                        \"@type\": \"LISPerson\",\n",
       "                        \"email\": \"Galen.Tyrol@example.com\",\n",
       "                        \"familyName\": \"Tyrol\",\n",
       "                        \"givenName\": \"Galen\",\n",
       "                        \"name\": \"Galen Tyrol\",\n",
       "                        \"sourcedId\": \"b3d662b0-40f3-11e9-b6a6-024283bd1de6\",\n",
       "                        \"userId\": \"LTIBCU_18\"\n",
       "                    },\n",
       "                    \"role\": [\n",
       "                        \"http://purl.imsglobal.org/vocab/lis/v2/membership#Learner\"\n",
       "                    ],\n",
       "                    \"status\": \"liss:Active\"\n",
       "                },\n",
       "                {\n",
       "                    \"member\": {\n",
       "                        \"@type\": \"LISPerson\",\n",
       "                        \"email\": \"Kyou.Yevheniya@example.com\",\n",
       "                        \"familyName\": \"Yevheniya\",\n",
       "                        \"givenName\": \"Kyou\",\n",
       "                        \"name\": \"Kyou Yevheniya\",\n",
       "                        \"sourcedId\": \"b3d662b3-40f3-11e9-b6a6-024283bd1de6\",\n",
       "                        \"userId\": \"LTIBCU_21\"\n",
       "                    },\n",
       "                    \"role\": [\n",
       "                        \"http://purl.imsglobal.org/vocab/lis/v2/membership#Learner\"\n",
       "                    ],\n",
       "                    \"status\": \"liss:Active\"\n",
       "                },\n",
       "                {\n",
       "                    \"member\": {\n",
       "                        \"@type\": \"LISPerson\",\n",
       "                        \"email\": \"Esther.Raphael@example.com\",\n",
       "                        \"familyName\": \"Raphael\",\n",
       "                        \"givenName\": \"Esther\",\n",
       "                        \"name\": \"Esther Raphael\",\n",
       "                        \"sourcedId\": \"b3d662a6-40f3-11e9-b6a6-024283bd1de6\",\n",
       "                        \"userId\": \"LTIBCU_8\"\n",
       "                    },\n",
       "                    \"role\": [\n",
       "                        \"http://purl.imsglobal.org/vocab/lis/v2/membership#Learner\"\n",
       "                    ],\n",
       "                    \"status\": \"liss:Active\"\n",
       "                },\n",
       "                {\n",
       "                    \"member\": {\n",
       "                        \"@type\": \"LISPerson\",\n",
       "                        \"email\": \"Sharon.Valerii@example.com\",\n",
       "                        \"familyName\": \"Valerii\",\n",
       "                        \"givenName\": \"Sharon\",\n",
       "                        \"name\": \"Sharon Valerii\",\n",
       "                        \"sourcedId\": \"b3d662ae-40f3-11e9-b6a6-024283bd1de6\",\n",
       "                        \"userId\": \"LTIBCU_16\"\n",
       "                    },\n",
       "                    \"role\": [\n",
       "                        \"http://purl.imsglobal.org/vocab/lis/v2/membership#Learner\"\n",
       "                    ],\n",
       "                    \"status\": \"liss:Active\"\n",
       "                }\n",
       "            ]\n",
       "        }\n",
       "    }\n",
       "}```"
      ],
      "text/plain": [
       "<IPython.core.display.Markdown object>"
      ]
     },
     "metadata": {},
     "output_type": "display_data"
    }
   ],
   "source": [
    "## Get An Access Token\n",
    "\n",
    "membership_token = get_token(scope('contextmembership.readonly', s='nrps'))\n",
    "\n",
    "## Request the enrollment\n",
    "\n",
    "headers = {'Content-Type': 'application/vnd.ims.lis.v2.membershipcontainer+json'}\n",
    "add_authorization(headers, membership_token['access_token'])\n",
    "membership_url = student_launch[fc('namesroleservice', s='nrps')]['context_memberships_url']\n",
    "\n",
    "r = requests.get(membership_url.encode(), headers=headers, verify=False)\n",
    "\n",
    "r.raise_for_status()\n",
    "\n",
    "roster = r.json();\n",
    "\n",
    "md('#### Successfully retrieved course roster:')\n",
    "md('```json\\n'+ json.dumps(roster, indent=4)+'```')\n"
   ]
  },
  {
   "cell_type": "markdown",
   "metadata": {},
   "source": [
    "## Task 2: Get all changes since previous sync\n",
    "\n",
    "Some platforms will include in their membership payload a `differences` url. This url, when present, allows the tool to update the roster based on the changes since last time the membership was returned, avoiding to transfer the full roster each time.\n",
    "\n",
    "Use the differences url above to check for updates in roster.\n",
    "\n"
   ]
  },
  {
   "cell_type": "code",
   "execution_count": 69,
   "metadata": {},
   "outputs": [
    {
     "data": {
      "text/markdown": [
       "#### Successfully retrieved roster update:"
      ],
      "text/plain": [
       "<IPython.core.display.Markdown object>"
      ]
     },
     "metadata": {},
     "output_type": "display_data"
    },
    {
     "data": {
      "text/markdown": [
       "```json\n",
       "{\n",
       "    \"@context\": [\n",
       "        \"http://purl.imsglobal.org/ctx/lis/v2/MembershipContainer\",\n",
       "        {\n",
       "            \"lism\": \"http://purl.imsglobal.org/vocab/lis/v2/membership#\",\n",
       "            \"liss\": \"http://purl.imsglobal.org/vocab/lis/v2/status#\"\n",
       "        }\n",
       "    ],\n",
       "    \"@id\": \"http://localhost:5000/bbb9abec-40f3-11e9-b6a6-024283bd1de6/memberships\",\n",
       "    \"@type\": \"Page\",\n",
       "    \"differences\": \"http://localhost:5000/bbb9abec-40f3-11e9-b6a6-024283bd1de6/memberships?since=1551977448\",\n",
       "    \"pageOf\": {\n",
       "        \"@type\": \"LISMembershipContainer\",\n",
       "        \"membershipSubject\": {\n",
       "            \"@type\": \"Context\",\n",
       "            \"contextId\": \"bbb9abec-40f3-11e9-b6a6-024283bd1de6\",\n",
       "            \"membership\": []\n",
       "        }\n",
       "    }\n",
       "}```"
      ],
      "text/plain": [
       "<IPython.core.display.Markdown object>"
      ]
     },
     "metadata": {},
     "output_type": "display_data"
    }
   ],
   "source": [
    "r = requests.get(roster['differences'].encode(), headers=headers, verify=False)\n",
    "\n",
    "r.raise_for_status()\n",
    "\n",
    "roster_updates = r.json();\n",
    "\n",
    "md('#### Successfully retrieved roster update:')\n",
    "md('```json\\n'+ json.dumps(roster_updates, indent=4)+'```')\n"
   ]
  },
  {
   "cell_type": "markdown",
   "metadata": {},
   "source": [
    "## Task 3: get all students and paging\n",
    "\n",
    "The service allows also to filter by roles using the `role` parameter. Both short and long version of roles can be used to filter (for example `Learner` and `http://purl.imsglobal.org/vocab/lis/v2/membership#Learner`). So let's limit the results to 3 students using the `limit` parameter."
   ]
  },
  {
   "cell_type": "code",
   "execution_count": 70,
   "metadata": {
    "scrolled": false
   },
   "outputs": [
    {
     "data": {
      "text/markdown": [
       "#### Students only:"
      ],
      "text/plain": [
       "<IPython.core.display.Markdown object>"
      ]
     },
     "metadata": {},
     "output_type": "display_data"
    },
    {
     "data": {
      "text/markdown": [
       "```json\n",
       "{\n",
       "    \"@context\": [\n",
       "        \"http://purl.imsglobal.org/ctx/lis/v2/MembershipContainer\",\n",
       "        {\n",
       "            \"lism\": \"http://purl.imsglobal.org/vocab/lis/v2/membership#\",\n",
       "            \"liss\": \"http://purl.imsglobal.org/vocab/lis/v2/status#\"\n",
       "        }\n",
       "    ],\n",
       "    \"@id\": \"http://localhost:5000/bbb9abec-40f3-11e9-b6a6-024283bd1de6/memberships\",\n",
       "    \"@type\": \"Page\",\n",
       "    \"differences\": \"http://localhost:5000/bbb9abec-40f3-11e9-b6a6-024283bd1de6/memberships?since=1551977451\",\n",
       "    \"nextPage\": \"http://localhost:5000/bbb9abec-40f3-11e9-b6a6-024283bd1de6/memberships?limit=3&from=3&role=Learner\",\n",
       "    \"pageOf\": {\n",
       "        \"@type\": \"LISMembershipContainer\",\n",
       "        \"membershipSubject\": {\n",
       "            \"@type\": \"Context\",\n",
       "            \"contextId\": \"bbb9abec-40f3-11e9-b6a6-024283bd1de6\",\n",
       "            \"membership\": [\n",
       "                {\n",
       "                    \"member\": {\n",
       "                        \"@type\": \"LISPerson\",\n",
       "                        \"email\": \"Lucia.Colette@example.com\",\n",
       "                        \"familyName\": \"Colette\",\n",
       "                        \"givenName\": \"Lucia\",\n",
       "                        \"name\": \"Lucia Colette\",\n",
       "                        \"sourcedId\": \"b3d662a2-40f3-11e9-b6a6-024283bd1de6\",\n",
       "                        \"userId\": \"LTIBCU_4\"\n",
       "                    },\n",
       "                    \"role\": [\n",
       "                        \"http://purl.imsglobal.org/vocab/lis/v2/membership#Learner\"\n",
       "                    ],\n",
       "                    \"status\": \"liss:Active\"\n",
       "                },\n",
       "                {\n",
       "                    \"member\": {\n",
       "                        \"@type\": \"LISPerson\",\n",
       "                        \"email\": \"Sander.Donald@example.com\",\n",
       "                        \"familyName\": \"Donald\",\n",
       "                        \"givenName\": \"Sander\",\n",
       "                        \"name\": \"Sander Donald\",\n",
       "                        \"sourcedId\": \"b3d662a4-40f3-11e9-b6a6-024283bd1de6\",\n",
       "                        \"userId\": \"LTIBCU_6\"\n",
       "                    },\n",
       "                    \"role\": [\n",
       "                        \"http://purl.imsglobal.org/vocab/lis/v2/membership#Learner\"\n",
       "                    ],\n",
       "                    \"status\": \"liss:Active\"\n",
       "                },\n",
       "                {\n",
       "                    \"member\": {\n",
       "                        \"@type\": \"LISPerson\",\n",
       "                        \"email\": \"Horatio.Maya@example.com\",\n",
       "                        \"familyName\": \"Maya\",\n",
       "                        \"givenName\": \"Horatio\",\n",
       "                        \"name\": \"Horatio Maya\",\n",
       "                        \"sourcedId\": \"b3d662a7-40f3-11e9-b6a6-024283bd1de6\",\n",
       "                        \"userId\": \"LTIBCU_9\"\n",
       "                    },\n",
       "                    \"role\": [\n",
       "                        \"http://purl.imsglobal.org/vocab/lis/v2/membership#Learner\"\n",
       "                    ],\n",
       "                    \"status\": \"liss:Active\"\n",
       "                }\n",
       "            ]\n",
       "        }\n",
       "    }\n",
       "}```"
      ],
      "text/plain": [
       "<IPython.core.display.Markdown object>"
      ]
     },
     "metadata": {},
     "output_type": "display_data"
    }
   ],
   "source": [
    "params = {'role':'Learner', 'limit': 3}\n",
    "\n",
    "r = requests.get(membership_url.encode(), params=params, headers=headers, verify=False)\n",
    "\n",
    "r.raise_for_status()\n",
    "\n",
    "roster = r.json();\n",
    "\n",
    "md('#### Students only:')\n",
    "md('```json\\n'+ json.dumps(roster, indent=4)+'```')"
   ]
  },
  {
   "cell_type": "markdown",
   "metadata": {},
   "source": [
    "# Substitution parameters - tailor your launch\n",
    "\n",
    "Substitution parameters allow to have custom parameters resolve at runtime information from the platform. For example, if you would like to know the context history, i.e. from which course this course is a copy from, there is the substitution parameter: `$Context.id.history`. Substitution parameters always start will $ . If the platform supports it, the value will be substituted at runtime, otherwise it will remain `$Context.id.history`.\n",
    "\n",
    "Substitution parameters really allow the tool to tailor its launches based on its particular needs. Substitution parameters may be set during the tool deployment. But it really shines with Deep Linking where the custom parameters can express the substitution parameters to resolve for the added LTI Link.\n",
    "\n",
    "## Task 1: create an LTI Link with a line item and due date support\n",
    "\n",
    "In this exercise, we're going to ask the platform to give us the due date of the activity (when a student is last authorized to submit) `$ResourceLink.submission.endDateTime` and the context history `$Context.id.history`. Since we're at it, we're also going to communicate an initial due date time using the `submission.endDateTime` property in the deep linking item.\n"
   ]
  },
  {
   "cell_type": "code",
   "execution_count": 72,
   "metadata": {},
   "outputs": [
    {
     "data": {
      "text/html": [
       "<iframe id=\"deep_linking_sub_params\" name=\"deep_linking_sub_params\" style=\"height: 300px; width:100%\"></iframe>"
      ],
      "text/plain": [
       "<IPython.core.display.HTML object>"
      ]
     },
     "metadata": {},
     "output_type": "display_data"
    },
    {
     "data": {
      "application/javascript": [
       "$.getScript(\"https://code.jquery.com/jquery-3.3.1.min.js\", function () {\n",
       "\n",
       "                var ltiForm = $('<form>');                \n",
       "                ltiForm.attr('action', 'http://localhost:5000/auth');\n",
       "                ltiForm.attr('method', 'POST');\n",
       "                ltiForm.attr('target', 'deep_linking_sub_params');\n",
       "                $('<input>').attr({\n",
       "                    type: 'hidden',\n",
       "                    name: 'scope',\n",
       "                    value: 'open_id'\n",
       "                }).appendTo(ltiForm);\n",
       "                $('<input>').attr({\n",
       "                    type: 'hidden',\n",
       "                    name: 'response_type',\n",
       "                    value: 'id_token'\n",
       "                }).appendTo(ltiForm);\n",
       "                $('<input>').attr({\n",
       "                    type: 'hidden',\n",
       "                    name: 'client_id',\n",
       "                    value: '0'\n",
       "                }).appendTo(ltiForm);\n",
       "                $('<input>').attr({\n",
       "                    type: 'hidden',\n",
       "                    name: 'login_hint',\n",
       "                    value: 'instructor'\n",
       "                }).appendTo(ltiForm);\n",
       "                $('<input>').attr({\n",
       "                    type: 'hidden',\n",
       "                    name: 'lti_message_hint',\n",
       "                    value: 'deeplink'\n",
       "                }).appendTo(ltiForm);\n",
       "                $('<input>').attr({\n",
       "                    type: 'hidden',\n",
       "                    name: 'response_mode',\n",
       "                    value: 'form_post'\n",
       "                }).appendTo(ltiForm);\n",
       "                $('<input>').attr({\n",
       "                    type: 'hidden',\n",
       "                    name: 'nonce',\n",
       "                    value: 'XSRF_session_bound_value_69190'\n",
       "                }).appendTo(ltiForm);\n",
       "                $('<input>').attr({\n",
       "                    type: 'hidden',\n",
       "                    name: 'state',\n",
       "                    value: 'XSRF_session_bound_value_69190'\n",
       "                }).appendTo(ltiForm);\n",
       "                $('<input>').attr({\n",
       "                    type: 'hidden',\n",
       "                    name: 'redirect_uri',\n",
       "                    value: 'http://localhost:8888/auth'\n",
       "                }).appendTo(ltiForm);\n",
       "                \n",
       "                $('#deep_linking_sub_params').before(ltiForm);\n",
       "                ltiForm.submit();\n",
       "                ltiForm.remove();\n",
       "                });\n"
      ],
      "text/plain": [
       "<IPython.core.display.Javascript object>"
      ]
     },
     "metadata": {},
     "output_type": "display_data"
    }
   ],
   "source": [
    "# Prentending this is what we received from the Platform to initiate the deep linking flow\n",
    "init_login_request = {\n",
    "    'iss': platform_url,\n",
    "    'login_hint': 'instructor', #value is opaque to tool, ex: tie to end user's platform's session\n",
    "    'lti_message_hint': 'deeplink', #value is opaque to tool, optional\n",
    "    'target_link_uri': 'https://ltibc.dummy/deeplink' #actual URL to launch at the end of the auth flow\n",
    "}\n",
    "\n",
    "orig_state = 'XSRF_session_bound_value_{r}'.format(r=randint(0, 100000))\n",
    "\n",
    "# Using the same value for the nonce\n",
    "nonce = orig_state\n",
    "\n",
    "auth_request_params = {\n",
    "    'scope': 'open_id', #we only use the flow for OIDC, not to get an access token\n",
    "    'response_type': 'id_token',\n",
    "    'client_id': tool_info['client_id'],\n",
    "    'login_hint': init_login_request['login_hint'],\n",
    "    'lti_message_hint': init_login_request['lti_message_hint'],\n",
    "    'response_mode': 'form_post', # with LTI we expect the user to already have a session in the platform\n",
    "    'nonce': nonce, #a nonce compared to state should fail if replayed\n",
    "    'state': orig_state, #state is optional\n",
    "    'redirect_uri': redirect_uri\n",
    "}\n",
    "\n",
    "autopost_iframe('deep_linking_sub_params', tool_info['oidc_auth_endpoint'], auth_request_params)"
   ]
  },
  {
   "cell_type": "code",
   "execution_count": 74,
   "metadata": {
    "scrolled": true
   },
   "outputs": [
    {
     "data": {
      "text/html": [
       "<iframe id=\"deeplinking_frame_2\" name=\"deeplinking_frame_2\" style=\"height: 300px; width:100%\"></iframe>"
      ],
      "text/plain": [
       "<IPython.core.display.HTML object>"
      ]
     },
     "metadata": {},
     "output_type": "display_data"
    },
    {
     "data": {
      "application/javascript": [
       "$.getScript(\"https://code.jquery.com/jquery-3.3.1.min.js\", function () {\n",
       "\n",
       "                var ltiForm = $('<form>');                \n",
       "                ltiForm.attr('action', 'http://localhost:5000/tool/bbb9abec-40f3-11e9-b6a6-024283bd1de6/dlr');\n",
       "                ltiForm.attr('method', 'POST');\n",
       "                ltiForm.attr('target', 'deeplinking_frame_2');\n",
       "                $('<input>').attr({\n",
       "                    type: 'hidden',\n",
       "                    name: 'jws_token',\n",
       "                    value: 'eyJ0eXAiOiJKV1QiLCJhbGciOiJSUzI1NiJ9.eyJpc3MiOiIwIiwiYXVkIjoiaHR0cDovL2xvY2FsaG9zdDo1MDAwIiwiZXhwIjoxNTUyMjI1NDIzLCJpYXQiOjE1NTIyMjUzNjMsImh0dHBzOi8vcHVybC5pbXNnbG9iYWwub3JnL3NwZWMvbHRpL2NsYWltL21lc3NhZ2VfdHlwZSI6IkRlZXBMaW5raW5nUmVzcG9uc2UiLCJodHRwczovL3B1cmwuaW1zZ2xvYmFsLm9yZy9zcGVjL2x0aS9jbGFpbS92ZXJzaW9uIjoiMS4zLjAiLCJodHRwczovL3B1cmwuaW1zZ2xvYmFsLm9yZy9zcGVjL2x0aS1kbC9jbGFpbS9jb250ZW50X2l0ZW1zIjpbeyJ0eXBlIjoibHRpbGluayIsInVybCI6Imh0dHA6Ly9sdGkuYm9vdGNhbXAvaXRlbTExMSIsInRpdGxlIjoiQXNzaWdubWVudCB3aXRoIERhdGVzIiwidGV4dCI6IkRvIHRoZSBhc3NpZ25tZW50IGJlZm9yZSB0aGUgZHVlIGRhdGUiLCJpY29uIjp7InVybCI6Imh0dHA6Ly9sdGkuZXhhbXBsZS5jb20vaW1hZ2UuanBnIiwid2lkdGgiOjEwMCwiaGVpZ2h0IjoxMDB9LCJjdXN0b20iOnsibGFiIjoic2ltM2IiLCJkdWVEYXRlIjoiJFJlc291cmNlTGluay5zdWJtaXNzaW9uLmVuZERhdGVUaW1lIiwiY29udGV4dEhpc3RvcnkiOiIkQ29udGV4dC5pZC5oaXN0b3J5In0sImxpbmVJdGVtIjp7InNjb3JlTWF4aW11bSI6MzQsImxhYmVsIjoiQ2hlbWljYWwgbGFiIHNpbSIsInJlc291cmNlSWQiOiJzaW0zYSIsInRhZyI6ImZpbmFsX2dyYWRlIn0sInN1Ym1pc3Npb24iOnsiZW5kRGF0ZVRpbWUiOiIyMDE5LTAzLTE3VDEzOjQyOjQzLjEwNjUzMyJ9LCJ3aW5kb3ciOnsidGFyZ2V0TmFtZSI6Imx0aWJvb3RjYW1wLXdpbiJ9LCJpZnJhbWUiOnsiaGVpZ2h0Ijo4OTB9fV19.Xnt2YQO_s1AgIJOLHIFJI3cnMl3SsbcMUcjSVHVxoDlL3r5p0vCw1c1hy5emb5qX-qXSk4dQLO3YmL1W-M_JcoP61j0CipYL-NRwQmnOb-pTone9wTD_RRwITxBlQwWkJ2SdXOQ6GqoeqnlTRyCn3OxHeycgXpyXeF0hMAjKDXLHDtI-jehK7dgSJ0dLpsKPmCqKGQeK3NrwYqwAw9ynjI3WvIYrtZXGlQ1pe23qTNLO4T4LLZ8CcYM0eSNfDwUt3mm_bb_LkjFw0l-yCYBzTpDUhWYcp_HuWyKSZq0iNpdgQTBcgVXHCZqawe7ZcgnEEiSm4pCYGPb33CQVFnpi_Q'\n",
       "                }).appendTo(ltiForm);\n",
       "                $('#deeplinking_frame_2').before(ltiForm);\n",
       "                ltiForm.submit();\n",
       "                ltiForm.remove();\n",
       "                });\n"
      ],
      "text/plain": [
       "<IPython.core.display.Javascript object>"
      ]
     },
     "metadata": {},
     "output_type": "display_data"
    }
   ],
   "source": [
    "\n",
    "# paste id_token here\n",
    "id_token = 'eyJ0eXAiOiJKV1QiLCJhbGciOiJSUzI1NiIsImtpZCI6IjE1NTE5NzUxMDNfMiJ9.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.NiJ1HzefbfCKKj3FVYQlgeDD154iN-UgXKzhrdVEUJtUAyGJjGK8d3-ePz7Rpi-FFq8O8Wep5GzagjbqL-BRI5jBQxC3VMuqSNV1gTrjfhUZem8fvm_mPwr7yMt3l88-YdVZ2eLnfvJOwi6gPca1EEAcb5rWXYj2-N9qXODbkD8sN9LEzjU_x2ILS-2XtOBIoFPyoDvehbtPn7OMWSQpkSc1x60yLGe3TeAUZH9CzRkMGIR709mpG7AJilam_jJjdgxGHr90CpCoKDxWHtaHFDT1ZZOwTuctiAyU-rNkZ-G04kO-65w2I2kioFDJltTX_72nroyod405Hm-W43BPkA' \n",
    "jwt_headers = jwt.get_unverified_header(id_token)\n",
    "\n",
    "content_item_message = jwt.decode(id_token, \n",
    "                                  platform_keys[jwt_headers['kid']], \n",
    "                                  jwt_headers['alg'],\n",
    "                                  audience = tool_info['client_id'])\n",
    "\n",
    "# Adding an LTI link with a line item and end date\n",
    "\n",
    "due_date = datetime.utcnow() + timedelta(days=7)\n",
    "\n",
    "duedate_assignment_link =  {\n",
    "      \"type\": \"ltilink\",\n",
    "      \"url\": \"http://lti.bootcamp/item111\",\n",
    "      \"title\": \"Assignment with Dates\",\n",
    "      \"text\": \"Do the assignment before the due date\",\n",
    "      \"icon\": {\n",
    "        \"url\": \"http://lti.example.com/image.jpg\",\n",
    "        \"width\": 100,\n",
    "        \"height\": 100\n",
    "      },\n",
    "      \"custom\": {\n",
    "        \"lab\": \"sim3b\",\n",
    "        \"dueDate\": \"$ResourceLink.submission.endDateTime\",\n",
    "        \"contextHistory\": \"$Context.id.history\"\n",
    "      },\n",
    "      \"lineItem\": {\n",
    "        \"scoreMaximum\": 34,\n",
    "        \"label\": \"Chemical lab sim\",\n",
    "        \"resourceId\": \"sim3a\",\n",
    "        \"tag\": \"final_grade\"\n",
    "      },\n",
    "      \"submission\": {\n",
    "          \"endDateTime\": due_date.isoformat()\n",
    "      },\n",
    "      \"window\": {\n",
    "        \"targetName\": \"ltibootcamp-win\"\n",
    "      },\n",
    "      \"iframe\": {\n",
    "        \"height\": 890\n",
    "      }\n",
    "}\n",
    "\n",
    "now = int(time())\n",
    "\n",
    "\n",
    "deep_linking_response = {\n",
    "    \"iss\": tool_info['client_id'],\n",
    "    \"aud\": content_item_message['iss'],\n",
    "    \"exp\": now + 60,\n",
    "    \"iat\": now,\n",
    "    fc(\"message_type\"): \"DeepLinkingResponse\",\n",
    "    fc(\"version\"): \"1.3.0\",\n",
    "    fc(\"content_items\", s='dl'): [\n",
    "        duedate_assignment_link\n",
    "    ]\n",
    "    \n",
    "}\n",
    "\n",
    "# and return to the platform with the selection\n",
    "\n",
    "deep_linking_response_token = jwt.encode(deep_linking_response, notebook_private_key, 'RS256').decode()\n",
    "\n",
    "autosubmit_js = \"\"\"\n",
    "                var ltiForm = $('<form>');                \n",
    "                ltiForm.attr('action', '{url}');\n",
    "                ltiForm.attr('method', 'POST');\n",
    "                ltiForm.attr('target', 'deeplinking_frame_2');\n",
    "                $('<input>').attr({{\n",
    "                    type: 'hidden',\n",
    "                    name: 'jws_token',\n",
    "                    value: '{token}'\n",
    "                }}).appendTo(ltiForm);\n",
    "                $('#deeplinking_frame_2').before(ltiForm);\n",
    "                ltiForm.submit();\n",
    "                ltiForm.remove();\n",
    "                \"\"\"\n",
    "\n",
    "autosubmit_js = autosubmit_js.format(url=deep_linking_return_url, token=deep_linking_response_token)\n",
    "\n",
    "display(HTML('<iframe id=\"deeplinking_frame_2\" name=\"deeplinking_frame_2\" style=\"height: 300px; width:100%\"></iframe>'))\n",
    "display(Javascript(data=autosubmit_js, \n",
    "                   lib=\"https://code.jquery.com/jquery-3.3.1.min.js\"))"
   ]
  },
  {
   "cell_type": "markdown",
   "metadata": {},
   "source": [
    "## Task 2: launch the activity and verify substitution parameters\n",
    "\n",
    "Now that we have created a link, let's get a student launch and see if on launch we can get the current due date time. Those could indeed have been changed on the platform, or that student may benefit from an actual extension."
   ]
  },
  {
   "cell_type": "code",
   "execution_count": 75,
   "metadata": {},
   "outputs": [
    {
     "data": {
      "text/html": [
       "<iframe id=\"resourcelink_with_dates\" name=\"resourcelink_with_dates\" style=\"height: 300px; width:100%\"></iframe>"
      ],
      "text/plain": [
       "<IPython.core.display.HTML object>"
      ]
     },
     "metadata": {},
     "output_type": "display_data"
    },
    {
     "data": {
      "application/javascript": [
       "$.getScript(\"https://code.jquery.com/jquery-3.3.1.min.js\", function () {\n",
       "\n",
       "                var ltiForm = $('<form>');                \n",
       "                ltiForm.attr('action', 'http://localhost:5000/auth');\n",
       "                ltiForm.attr('method', 'POST');\n",
       "                ltiForm.attr('target', 'resourcelink_with_dates');\n",
       "                $('<input>').attr({\n",
       "                    type: 'hidden',\n",
       "                    name: 'scope',\n",
       "                    value: 'open_id'\n",
       "                }).appendTo(ltiForm);\n",
       "                $('<input>').attr({\n",
       "                    type: 'hidden',\n",
       "                    name: 'response_type',\n",
       "                    value: 'id_token'\n",
       "                }).appendTo(ltiForm);\n",
       "                $('<input>').attr({\n",
       "                    type: 'hidden',\n",
       "                    name: 'client_id',\n",
       "                    value: '0'\n",
       "                }).appendTo(ltiForm);\n",
       "                $('<input>').attr({\n",
       "                    type: 'hidden',\n",
       "                    name: 'login_hint',\n",
       "                    value: 'student'\n",
       "                }).appendTo(ltiForm);\n",
       "                $('<input>').attr({\n",
       "                    type: 'hidden',\n",
       "                    name: 'lti_message_hint',\n",
       "                    value: 'bbb9abec-40f3-11e9-b6a6-024283bd1de6rlid617052aa-433a-11e9-b6a6-024283bd1de6'\n",
       "                }).appendTo(ltiForm);\n",
       "                $('<input>').attr({\n",
       "                    type: 'hidden',\n",
       "                    name: 'response_mode',\n",
       "                    value: 'form_post'\n",
       "                }).appendTo(ltiForm);\n",
       "                $('<input>').attr({\n",
       "                    type: 'hidden',\n",
       "                    name: 'nonce',\n",
       "                    value: 'XSRF_session_bound_value_72508'\n",
       "                }).appendTo(ltiForm);\n",
       "                $('<input>').attr({\n",
       "                    type: 'hidden',\n",
       "                    name: 'state',\n",
       "                    value: 'XSRF_session_bound_value_72508'\n",
       "                }).appendTo(ltiForm);\n",
       "                $('<input>').attr({\n",
       "                    type: 'hidden',\n",
       "                    name: 'redirect_uri',\n",
       "                    value: 'http://localhost:8888/auth'\n",
       "                }).appendTo(ltiForm);\n",
       "                \n",
       "                $('#resourcelink_with_dates').before(ltiForm);\n",
       "                ltiForm.submit();\n",
       "                ltiForm.remove();\n",
       "                });\n"
      ],
      "text/plain": [
       "<IPython.core.display.Javascript object>"
      ]
     },
     "metadata": {},
     "output_type": "display_data"
    }
   ],
   "source": [
    "# paste the id here of the assignment with dates\n",
    "resource_link_id='617052aa-433a-11e9-b6a6-024283bd1de6' \n",
    "\n",
    "message_hint = '{0}rlid{1}'.format(context_id, resource_link_id)\n",
    "\n",
    "init_login_request = {\n",
    "    'iss': platform_url,\n",
    "    'login_hint': 'student', #value is opaque to tool, ex: tie to end user's platform's session\n",
    "    'lti_message_hint': message_hint,\n",
    "    'target_link_uri': 'https://lti.bootcamp/assignment1' #actual URL to launch at the end of the flow, would be the url provided in LtiResourceLink payload if provided\n",
    "}\n",
    "\n",
    "orig_state = 'XSRF_session_bound_value_{r}'.format(r=randint(0, 100000))\n",
    "\n",
    "# Using the same value for the nonce\n",
    "nonce = orig_state\n",
    "\n",
    "auth_request_params = {\n",
    "    'scope': 'open_id', #we only use the flow for OIDC, not to get an access token\n",
    "    'response_type': 'id_token',\n",
    "    'client_id': tool_info['client_id'],\n",
    "    'login_hint': init_login_request['login_hint'],\n",
    "    'lti_message_hint': init_login_request['lti_message_hint'],\n",
    "    'response_mode': 'form_post', # with LTI we expect the user to already have a session in the platform\n",
    "    'nonce': nonce, #a nonce compared to state should fail if replayed\n",
    "    'state': orig_state, #state is optional\n",
    "    'redirect_uri': redirect_uri\n",
    "}\n",
    "\n",
    "autopost_iframe('resourcelink_with_dates', tool_info['oidc_auth_endpoint'], auth_request_params)"
   ]
  },
  {
   "cell_type": "code",
   "execution_count": 76,
   "metadata": {},
   "outputs": [
    {
     "data": {
      "text/markdown": [
       "Student `Kyou Yevheniya` assignment is due on `2019-03-17T13:42:43.106533`"
      ],
      "text/plain": [
       "<IPython.core.display.Markdown object>"
      ]
     },
     "metadata": {},
     "output_type": "display_data"
    },
    {
     "data": {
      "text/markdown": [
       "The history of this course context is `$Context.id.history`"
      ],
      "text/plain": [
       "<IPython.core.display.Markdown object>"
      ]
     },
     "metadata": {},
     "output_type": "display_data"
    }
   ],
   "source": [
    "# Paste id_token here\n",
    "id_token='eyJ0eXAiOiJKV1QiLCJhbGciOiJSUzI1NiIsImtpZCI6IjE1NTE5NzUxMDNfMCJ9.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.ncogCSO-dxO7CmxwdGO15JgFb9Zsrh_z7Q227dgT4VlrnrTDKH_k1MtFJ7yGkq3gZMRtnt5YWiz3-b6zydAYbmsDiev1yGXGx7ksj6qf-ZAoBx3HZc8h6BxfSKD9ooqiF5OCagPf_kcP2KHEI4Ji6YICmCjXwT63SZCjelv78l-rizRuCmJ4JKhLoRgDp3xbu9E1V5TT4kXyDy045fO3t91nsghDvs0HGm9UCavByENxlk61VmCw8D65_1btPNKxQ7YPAcmyhO0L4XIh7FTt3VAvm0vDb5K-fYmy3GF0USM3pwIZsdOawtWWFo8ri038SSgUdpV02IVMZbCfBNfAfw'\n",
    "\n",
    "jwt_headers = jwt.get_unverified_header(id_token)\n",
    "\n",
    "launch = jwt.decode(id_token, \n",
    "                            platform_keys[jwt_headers['kid']], \n",
    "                            jwt_headers['alg'],\n",
    "                            audience = tool_info['client_id'])\n",
    "\n",
    "md('Student `{0}` assignment is due on `{1}`'.format(launch['name'], launch[fc('custom')]['dueDate']))\n",
    "md('The history of this course context is `{0}`'.format(launch[fc('custom')]['contextHistory']))\n"
   ]
  },
  {
   "cell_type": "code",
   "execution_count": null,
   "metadata": {},
   "outputs": [],
   "source": []
  },
  {
   "cell_type": "code",
   "execution_count": null,
   "metadata": {},
   "outputs": [],
   "source": []
  }
 ],
 "metadata": {
  "kernelspec": {
   "display_name": "Python 3",
   "language": "python",
   "name": "python3"
  },
  "language_info": {
   "codemirror_mode": {
    "name": "ipython",
    "version": 3
   },
   "file_extension": ".py",
   "mimetype": "text/x-python",
   "name": "python",
   "nbconvert_exporter": "python",
   "pygments_lexer": "ipython3",
   "version": "3.6.7"
  }
 },
 "nbformat": 4,
 "nbformat_minor": 2
}
