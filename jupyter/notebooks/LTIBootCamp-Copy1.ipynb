{
 "cells": [
  {
   "cell_type": "markdown",
   "metadata": {},
   "source": [
    "<img src=\"assets/bootcamp.png\">\n",
    "\n",
    "# **LTI&trade; Advantage** bootcamp notebook for Tool\n",
    "\n",
    "Ping me if you have any question or feedback: claude.vervoort@gmail.com\n",
    "\n",
    "This bootcamp code is available on: https://github.com/claudevervoort-perso/ltibootcamp, if you want to run it on your local laptop/network.\n",
    "\n",
    "\n",
    "## Introduction\n",
    "\n",
    "The notebook shows how to interact with the LTI Advantage ecosystem from a learning tool implementer viewpoint. It interacts with an actual test server acting as an LTI Platform simumlator to support this notebook. \n",
    "\n",
    "\n",
    "## Limitation\n",
    "\n",
    "<img src=\"assets/bootcamp_arch.png\" width=\"60%\">\n",
    "\n",
    "The test tool platform cannot launch into the bootcamp. So we will initiate the LTI launches directly rather than having those triggered by a call from the platform on a 3rd party initiated login end point."
   ]
  },
  {
   "cell_type": "code",
   "execution_count": 15,
   "metadata": {},
   "outputs": [],
   "source": [
    "# This notebook queries an actual tool platform test server. It needs its location:\n",
    "platform_url='http://localhost:5000'"
   ]
  },
  {
   "cell_type": "markdown",
   "metadata": {},
   "source": [
    "# Setup\n",
    "\n",
    "Here we just import the libraries that will be needed in this notebook, define some utility functions and constants."
   ]
  },
  {
   "cell_type": "code",
   "execution_count": 11,
   "metadata": {},
   "outputs": [],
   "source": [
    "import requests\n",
    "import json\n",
    "import jwt\n",
    "import base64\n",
    "import re\n",
    "from random import randint\n",
    "from time import time, sleep\n",
    "from datetime import datetime, timedelta\n",
    "from cryptography.hazmat.primitives.asymmetric.rsa import RSAPublicNumbers\n",
    "from cryptography.hazmat.primitives.asymmetric import rsa\n",
    "from cryptography.hazmat.backends import default_backend\n",
    "from cryptography.hazmat.primitives import serialization\n",
    "from cryptography.hazmat.primitives.serialization import Encoding, PublicFormat\n",
    "from IPython.display import display, Markdown, HTML, Javascript\n",
    "\n",
    "def decode_int(b64value):\n",
    "    return int.from_bytes(base64.urlsafe_b64decode(b64value), byteorder='big')\n",
    "\n",
    "# for concise code, return full claim \n",
    "def fc(claim, s=None):\n",
    "    suffix = ('-'+s) if s else ''\n",
    "    return 'https://purl.imsglobal.org/spec/lti{0}/claim/{1}'.format(suffix, claim)\n",
    "\n",
    "def scope(scope, s=None):\n",
    "    suffix = ('-'+s) if s else ''\n",
    "    return 'https://purl.imsglobal.org/spec/lti{0}/scope/{1}'.format(suffix, scope)\n",
    "    \n",
    "def md(mdt):\n",
    "    display(Markdown(mdt))\n",
    "    \n",
    "def mdjson(j):\n",
    "    md(\"```{0}```\".format(j))\n",
    "    \n",
    "md_buffer = ''\n",
    "\n",
    "def mdb(mdt=None):\n",
    "    global md_buffer\n",
    "    if mdt:\n",
    "        md_buffer = md_buffer + '\\n' + mdt\n",
    "    else:\n",
    "        md(md_buffer)\n",
    "        md_buffer = ''\n",
    "        \n",
    "# In LTI (and OIDC flows) End user's browser gets redirected from \n",
    "# the platform to the tool (or vice versa) using Autopost forms\n",
    "# i.e pages that add a form and submits it right away.\n",
    "# Since we cannot redirect the full notebook, those interactions\n",
    "# happen in IFrames.\n",
    "def autopost_iframe(name, url, params):\n",
    "    inputs = ''\n",
    "    for key in params.keys():\n",
    "        input = \"\"\"$('<input>').attr({{\n",
    "                    type: 'hidden',\n",
    "                    name: '{name}',\n",
    "                    value: '{value}'\n",
    "                }}).appendTo(ltiForm);\n",
    "                \"\"\".format(name=key, value=params[key])\n",
    "        inputs = inputs + input\n",
    "        autosubmit_js = \"\"\"\n",
    "                var ltiForm = $('<form>');                \n",
    "                ltiForm.attr('action', '{url}');\n",
    "                ltiForm.attr('method', 'POST');\n",
    "                ltiForm.attr('target', '{name}');\n",
    "                {inputs}\n",
    "                $('#{name}').before(ltiForm);\n",
    "                ltiForm.submit();\n",
    "                ltiForm.remove();\n",
    "                \"\"\"\n",
    "\n",
    "    autosubmit_js = autosubmit_js.format(name=name, url=url, inputs=inputs)\n",
    "\n",
    "    #md(autosubmit_js)\n",
    "    display(HTML('<iframe id=\"{name}\" name=\"{name}\" style=\"height: 300px; width:100%\"></iframe>'.format(name=name)))\n",
    "    display(Javascript(data=autosubmit_js, \n",
    "                   lib=\"https://code.jquery.com/jquery-3.3.1.min.js\"))\n",
    "\n"
   ]
  },
  {
   "cell_type": "markdown",
   "metadata": {},
   "source": [
    "## Optional: allow back end to connect to notebook's kernel (and skip copy/paste!)\n",
    "\n",
    "When the platform sends us the actual launch data below, this allows the data to be set directly in this notebook kernel by sharing the connect info to the request handler. This is optional; you can always just copy/paste the data from the server response into a cell.\n"
   ]
  },
  {
   "cell_type": "code",
   "execution_count": 2,
   "metadata": {},
   "outputs": [
    {
     "name": "stdout",
     "output_type": "stream",
     "text": [
      "{\n",
      "  \"shell_port\": 48075,\n",
      "  \"iopub_port\": 35943,\n",
      "  \"stdin_port\": 50111,\n",
      "  \"control_port\": 47777,\n",
      "  \"hb_port\": 41075,\n",
      "  \"ip\": \"127.0.0.1\",\n",
      "  \"key\": \"3e45fe49-dcf927582897470a72cd6e11\",\n",
      "  \"transport\": \"tcp\",\n",
      "  \"signature_scheme\": \"hmac-sha256\",\n",
      "  \"kernel_name\": \"\"\n",
      "}\n",
      "\n",
      "Paste the above JSON into a file, and connect with:\n",
      "    $> jupyter <app> --existing <file>\n",
      "or, if you are local, you can connect with just:\n",
      "    $> jupyter <app> --existing kernel-2876e458-75a5-42bc-927a-645d87c210ed.json\n",
      "or even just:\n",
      "    $> jupyter <app> --existing\n",
      "if this is the most recent Jupyter kernel you have started.\n"
     ]
    }
   ],
   "source": [
    "%connect_info"
   ]
  },
  {
   "cell_type": "code",
   "execution_count": 3,
   "metadata": {},
   "outputs": [
    {
     "name": "stdout",
     "output_type": "stream",
     "text": [
      "Back end response: Registered litbc-50304\n",
      "connect_id: Connect id is not set - use copy/paste!\n"
     ]
    }
   ],
   "source": [
    "# paste connect info from this notebook instance to allow back end to communicate with it\n",
    "connect_id=''\n",
    "\n",
    "connect_info={\n",
    "  \"shell_port\": 48075,\n",
    "  \"iopub_port\": 35943,\n",
    "  \"stdin_port\": 50111,\n",
    "  \"control_port\": 47777,\n",
    "  \"hb_port\": 41075,\n",
    "  \"ip\": \"127.0.0.1\",\n",
    "  \"key\": \"3e45fe49-dcf927582897470a72cd6e11\",\n",
    "  \"transport\": \"tcp\",\n",
    "  \"signature_scheme\": \"hmac-sha256\",\n",
    "  \"kernel_name\": \"\"\n",
    "}\n",
    "\n",
    "\n",
    "notebook_config = {\n",
    "    'id': 'litbc-{0}'.format(randint(0, 99999)),\n",
    "    'ci': connect_info\n",
    "}\n",
    "\n",
    "from notebook import notebookapp\n",
    "servers = list(notebookapp.list_running_servers())\n",
    "notebook_url=servers[0]['url']\n",
    "\n",
    "r = requests.post(notebook_url + 'setci', json=notebook_config)\n",
    "print(\"Back end response: {0}\".format(r.text))\n"
   ]
  },
  {
   "cell_type": "code",
   "execution_count": 6,
   "metadata": {},
   "outputs": [
    {
     "name": "stdout",
     "output_type": "stream",
     "text": [
      "connect_id: litbc-50304\n"
     ]
    }
   ],
   "source": [
    "print(\"connect_id: {0}\".format(connect_id))"
   ]
  },
  {
   "cell_type": "code",
   "execution_count": 8,
   "metadata": {},
   "outputs": [
    {
     "data": {
      "text/markdown": [
       "Authentication hanlder ready to set responses in Kernel"
      ],
      "text/plain": [
       "<IPython.core.display.Markdown object>"
      ]
     },
     "metadata": {},
     "output_type": "display_data"
    }
   ],
   "source": [
    "if connect_id:\n",
    "    md('Authentication hanlder ready to set responses in Kernel')\n",
    "else:\n",
    "    md('Authentication handler not ready, you will have to copy/paste')\n"
   ]
  },
  {
   "cell_type": "markdown",
   "metadata": {},
   "source": [
    "# Registering a new tool\n",
    "\n",
    "## Deploying tool and establishing keys\n",
    "\n",
    "### get the tool deployment info to use in this notebook\n",
    "\n",
    "First we need to get a new tool deployment from the server for this notebook instance to use.\n",
    "Each tool must have a `client_id` and a private key that will be used to interact with the platform services and send messages back to the platform. The `client_id` is used to for security purposes. A trust may be shared across multiple deployments of the same tool in a platform, so a `deployment_id` is also communicated to identify the actual deployment of that tool.\n",
    "\n",
    "It also needs the keyset URL that exposes the platform public keys needed to validate the incoming messages.\n",
    "\n",
    "While this information is required for each tool, how it is obtained by the tool is NOT currently part of the LTI specifications.\n",
    "\n",
    "<img src=\"assets/security.png\" width=\"70%\">"
   ]
  },
  {
   "cell_type": "markdown",
   "metadata": {},
   "source": [
    "#### Compute a Private/Public key pair for this notebook"
   ]
  },
  {
   "cell_type": "code",
   "execution_count": 12,
   "metadata": {},
   "outputs": [
    {
     "data": {
      "text/markdown": [
       "\n",
       "Private key asserts the **identity** of the tool. It should be stored securely and \n",
       "ideally it should not be possible for a human to even see it, even less share it!\n",
       "However the public key can be shared around, here is the public in the common\n",
       "PEM format that identifies this notebook instance:"
      ],
      "text/plain": [
       "<IPython.core.display.Markdown object>"
      ]
     },
     "metadata": {},
     "output_type": "display_data"
    },
    {
     "data": {
      "text/markdown": [
       "```-----BEGIN PUBLIC KEY-----\n",
       "MIIBIjANBgkqhkiG9w0BAQEFAAOCAQ8AMIIBCgKCAQEA4sFYTj20d0AeJsAZTL/v\n",
       "NEkykNuzOl2uCaI02o07q2+MtICPsqjnV9E61UUNwsCgjA27l9F5cvFrRA4psWE3\n",
       "Z2lXXckvg+F2GUHEfu24TWrz3dv6LA1PjEt75II3YovvyfXZRy6V2C8N12ubMH80\n",
       "nC+cvQJPDCgyElDKW1+8tU7jewpTNj18Pcbi37vClk1AXopejwU1YVE5nIG0Ab3h\n",
       "PnGQcXwS8BIbrzABCwW259Fj44N5+8NmQ9sQ+uPuRM6/WFlK13bwG5XQME+GO8P3\n",
       "uXqbCG2NCPz+iI6ReI1u1yB+25ibC2UT38cfomthQPZNF0nHWsdkB07c5tnSRi9z\n",
       "3QIDAQAB\n",
       "-----END PUBLIC KEY-----\n",
       "```"
      ],
      "text/plain": [
       "<IPython.core.display.Markdown object>"
      ]
     },
     "metadata": {},
     "output_type": "display_data"
    }
   ],
   "source": [
    "notebook_private_key = rsa.generate_private_key(\n",
    "    public_exponent=65537,\n",
    "    key_size=2048,\n",
    "    backend=default_backend()\n",
    ")\n",
    "\n",
    "notebook_public_key = notebook_private_key.public_key()\n",
    "\n",
    "public_key_pem = notebook_public_key.public_bytes(\n",
    "    encoding=serialization.Encoding.PEM,\n",
    "    format=serialization.PublicFormat.SubjectPublicKeyInfo)\n",
    "\n",
    "\n",
    "mdb(\"Private key asserts the **identity** of the tool. It should be stored securely and \")\n",
    "mdb(\"ideally it should not be possible for a human to even see it, even less share it!\")\n",
    "mdb(\"However the public key can be shared around, here is the public in the common\")\n",
    "mdb(\"PEM format that identifies this notebook instance:\")\n",
    "mdb()\n",
    "mdjson(public_key_pem.decode('utf-8'))"
   ]
  },
  {
   "cell_type": "markdown",
   "metadata": {},
   "source": [
    "#### Redirect URI\n",
    "\n",
    "We need to register the Redirect URI to where the OpenId Connect response can be returned. While this notebook only register a single `redirect_uri` it is common for tools to register more than one as platforms are discouraged to allow pattern matching for those (i.e. a platform should always check for an exact match)\n",
    "\n",
    "This URL is specific to this notebook instance so that the id_token and state may directly be set in the kernel of this book, by passing the client id we got from registering the connection info above. Without it, you would have to copy paste the response from the server to the notebook cell."
   ]
  },
  {
   "cell_type": "code",
   "execution_count": 13,
   "metadata": {},
   "outputs": [
    {
     "data": {
      "text/markdown": [
       "redirect URI is http://localhost:8888/setandshow?ciid=litbc-50304"
      ],
      "text/plain": [
       "<IPython.core.display.Markdown object>"
      ]
     },
     "metadata": {},
     "output_type": "display_data"
    }
   ],
   "source": [
    "redirect_uri = \"{0}setandshow?ciid={1}\".format(notebook_url, connect_id)\n",
    "\n",
    "md(\"redirect URI is \"+redirect_uri)"
   ]
  },
  {
   "cell_type": "code",
   "execution_count": 16,
   "metadata": {
    "scrolled": false
   },
   "outputs": [
    {
     "data": {
      "text/markdown": [
       "### Tool registration information"
      ],
      "text/plain": [
       "<IPython.core.display.Markdown object>"
      ]
     },
     "metadata": {},
     "output_type": "display_data"
    },
    {
     "data": {
      "text/markdown": [
       "Here is the tool information generated for this notebook. It is stored in ```tool_info``` variable."
      ],
      "text/plain": [
       "<IPython.core.display.Markdown object>"
      ]
     },
     "metadata": {},
     "output_type": "display_data"
    },
    {
     "data": {
      "text/markdown": [
       "```{\n",
       "    \"accesstoken_endpoint\": \"http://localhost:5000/auth/token\",\n",
       "    \"client_id\": \"0\",\n",
       "    \"keyset_url\": \"http://localhost:5000/.well-known/jwks.json\",\n",
       "    \"oidc_auth_endpoint\": \"http://localhost:5000/auth\"\n",
       "}```"
      ],
      "text/plain": [
       "<IPython.core.display.Markdown object>"
      ]
     },
     "metadata": {},
     "output_type": "display_data"
    }
   ],
   "source": [
    "registration_data = {\n",
    "    'public_key_pem':public_key_pem,\n",
    "    'redirect_uris': redirect_uri #comma separated list of redirect_uris\n",
    "}\n",
    "\n",
    "r = requests.post(platform_url + '/newtool', data=registration_data)\n",
    "tool_info = json.loads(r.text)\n",
    "\n",
    "md('### Tool registration information')\n",
    "md('Here is the tool information generated for this notebook. It is stored in ```tool_info``` variable.')\n",
    "mdjson(json.dumps(tool_info, indent=4))"
   ]
  },
  {
   "cell_type": "markdown",
   "metadata": {},
   "source": [
    "### Getting the public keys from the platform\n",
    "\n",
    "In order to validate the various messages we will receive from the platform, we need to get the key sets. We'll also transform the keys to the `PEM` format that is used by the `jwt` module to decode the messages.\n",
    "\n",
    "The test platform exposes its keys in a keyset format at a well-know location (.well-known/jwks.json). Other platform might just communicate the keyset url as part of the tool deployment information."
   ]
  },
  {
   "cell_type": "code",
   "execution_count": 17,
   "metadata": {
    "scrolled": true
   },
   "outputs": [
    {
     "data": {
      "text/markdown": [
       "#### Platform keyset"
      ],
      "text/plain": [
       "<IPython.core.display.Markdown object>"
      ]
     },
     "metadata": {},
     "output_type": "display_data"
    },
    {
     "data": {
      "text/markdown": [
       "```{\n",
       "    \"keys\": [\n",
       "        {\n",
       "            \"alg\": \"RS256\",\n",
       "            \"e\": \"AQAB\",\n",
       "            \"kid\": \"1548012953_0\",\n",
       "            \"kty\": \"RSA\",\n",
       "            \"n\": \"ru3bSU8A9ty-lJ-o-viq6oZYff-9fZttpigXu-IP9WGgT2NW3UHdKM_VMa_PbPjhyc-xFGhaVFpOaKR_VY7vgolzY9CTtFCm-juSU2hatGgRIB1VIoQ7_Hl3TH2XOnFDLqHl4i9l8mCl-k90Fu7BgAbhqSIgW4W-2riaPyqRkSABhMdx6394YVt8mdiagKUvg1slwN2uS0LV8z-jL-jERfws8xAUIfDj9umJAylU4vA9ryhoWYahvtalsXOEb8624F4zdGjycBmhwKhD9qeurn8tyFKPzu1gMtzEAhL--YKYeDCxLkiqyCeHV897OZvj7QEKodPbVIW-1OvyqBoGCQ==\",\n",
       "            \"use\": \"sig\"\n",
       "        },\n",
       "        {\n",
       "            \"alg\": \"RS256\",\n",
       "            \"e\": \"AQAB\",\n",
       "            \"kid\": \"1548012953_1\",\n",
       "            \"kty\": \"RSA\",\n",
       "            \"n\": \"qVuFzr6pNAJab19iNdrqFa0gGROYUVi8IKFkOi9dRIRSrQXx31Kf_OC-EnjfBNMGvNNE11BADCirB5dG2kqcLSbq1aPf6VbURXiwN_LVgRgw6fPSV9yPt-QHkHqxa8T5PgNqKYCCgteKPypC1SD8aVV2rFyaBqqBXbhzIKU99mjvgkKnkIrX2jT7z0x8H6fXVrBAYKZ_p7On60S43_De8CcWdcvvMHatLVXRXFvfO0kXiQMN8-YLGv2U1vNFa6YVPOp_RGxevcPyG-59N_EEpfjbdqFGlgh97KpBKXtaPC2hdw2Z2lvcq51DaKeGKijV3pYKWSrXCXNIbaGzwxR1Ow==\",\n",
       "            \"use\": \"sig\"\n",
       "        },\n",
       "        {\n",
       "            \"alg\": \"RS256\",\n",
       "            \"e\": \"AQAB\",\n",
       "            \"kid\": \"1548012953_2\",\n",
       "            \"kty\": \"RSA\",\n",
       "            \"n\": \"iblUKGpH8UK6H-XbBjgZ6Ij1FBleDB8hbIKkt7Z4liCRwryDMeE6TpL-kZo79r66-I9xj0GbOBu1W2GyWL_R8sR4AhO8Twe8aTfhS7DvNFe-McmyjDdetis3cqt8s9ejbltzgFXP6Kc8_rjIg_c8Gw_9voguBU97EbSJIJjpmmkuvidmf7dcRrS3r5COhY0TKOtbAUQHMKMpf9qxPo5ICbfPo1U0QPQT7PodskMa6OhCbnUnoDo7oW4P6V48ZowcMKlETXlSnFCSxiXIDp2fEGgLKSMGLRfmKvCjZcul8WlxSzehxM5ipmGbNz-YqYwVazUoxJ4Pz_g9EKi3dTnD5w==\",\n",
       "            \"use\": \"sig\"\n",
       "        },\n",
       "        {\n",
       "            \"alg\": \"RS256\",\n",
       "            \"e\": \"AQAB\",\n",
       "            \"kid\": \"1548012953_3\",\n",
       "            \"kty\": \"RSA\",\n",
       "            \"n\": \"uW1qmcI8tgH11lael5hzP50-r2QxO_k--fT9A-oj0qr6zij28OQ6sNIfkV9Chksv5JmlphYZ9SaNZQoIIn80K4cf4-DpxJLu68GPKPXdpspJ36MyB5N77fcrs4j-BGO2SkEl_fC3n4Va5v1b6R1ckvZwPvJwsFC0o0vXiYpqy_nfEi2sWvmigjaqSESwWn_DFHhuXyosSX-8kW4q5evjcktcaHadAmK6e8ymJDUHAOecmqViEsyGV0KZ7A-Qja70VO-55814-qj7sg2rtNgrFFEr-fnUqobnxfNWGASuF_trls9NCavQDxeb1MOdJGA0k_pVAY9VpIVEflaw4o4gBQ==\",\n",
       "            \"use\": \"sig\"\n",
       "        }\n",
       "    ]\n",
       "}```"
      ],
      "text/plain": [
       "<IPython.core.display.Markdown object>"
      ]
     },
     "metadata": {},
     "output_type": "display_data"
    }
   ],
   "source": [
    "keyset = json.loads(requests.get(tool_info['keyset_url']).text)\n",
    "\n",
    "md('#### Platform keyset')\n",
    "mdjson(json.dumps(keyset, indent=4))\n",
    "\n",
    "platform_keys = {}\n",
    "\n",
    "# let's transform as a map for ease of use, and just the PEM because this is what is used by JWT lib\n",
    "for key in keyset['keys']:\n",
    "    public_key = RSAPublicNumbers(decode_int(key['e']), decode_int(key['n'])).public_key(default_backend())\n",
    "    pem = public_key.public_bytes(Encoding.PEM, PublicFormat.SubjectPublicKeyInfo)\n",
    "    platform_keys[key['kid']] = pem\n",
    "    \n"
   ]
  },
  {
   "cell_type": "markdown",
   "metadata": {},
   "source": [
    "# Deep Linking - Creating a Link\n",
    "This section will use the deep linking specification to create a Resource Link to the platform. That resource link will be gradable and used in the following sections of that notebook.\n",
    "\n",
    "[Deep Linking](https://www.imsglobal.org/specs/lticiv1p0) is a **UI flow**, it is an important piece that is sometimes missed on 1st reading. The user is redirected from the platform to the tool to pick or create one or multiple piece of content (often, LTI links), and the the tool redirects the UI back to the tool with the actual selection (or an empty payload if nothing was picked or created).\n",
    "\n",
    "So there are 2 messages:\n",
    "\n",
    "1. `LtiDeepLinkingRequest` from the platform to the tool to start the picking/create session. This is a typical platform launch that contains the context and the user information, and what kind of content items may be created in this flow (for example, this flow might indicate it only wants LTI links).\n",
    "1. `LtiDeepLinkingResponse` from the tool back to the plaform using the `content_item_return_url` provided in the request.\n",
    "\n",
    "Once a tool is added to a course, usually the first launch from the platform will be a Deep Linking request.\n",
    "\n",
    "<img src=\"assets/deeplinking.png\" width=\"60%\">"
   ]
  },
  {
   "cell_type": "markdown",
   "metadata": {},
   "source": [
    "### Setup: Getting a Deep Linking Request\n",
    "\n",
    "This notebook is not actually launched by the platform, so it is not getting the initiate login request that usually  bootstraps the LTI message flow. Instead we will just pretend we got that request and the 2 parameters it contains, and just build those locally.\n",
    "\n",
    "We also compute a `state` we will pass along that will serve as the Cross-Site Scripting protection (XSRF). The state must be tied to the end user's browser session."
   ]
  },
  {
   "cell_type": "code",
   "execution_count": 13,
   "metadata": {},
   "outputs": [],
   "source": [
    "# Prentending this is what we received from the Platform to initiate the deep linking flow\n",
    "init_login_request = {\n",
    "    'iss': platform_url,\n",
    "    'login_hint': 'instructor', #value is opaque to tool, ex: tie to end user's platform's session\n",
    "    'lti_message_hint': 'deeplink', #value is opaque to tool, optional\n",
    "    'target_link_uri': 'https://ltibc.dummy/deeplink' #actual URL to launch at the end of the auth flow\n",
    "}\n",
    "\n",
    "orig_state = 'XSRF_session_bound_value_{r}'.format(r=randint(0, 100000))"
   ]
  },
  {
   "cell_type": "markdown",
   "metadata": {},
   "source": [
    "Now that we have the platform's request data and a `state` we can send an auth request, the response will contain the `state` back and the `id_token` which, in addition to carrying the user's identity, contains the information such as course and user's role required to show the proper UI that will allow the user to either pick or create resources to add the course.\n",
    "\n",
    "The launch flow involves a request from the browser to the platform, which bounces back to the tool. To allow this in this notebook, the actual interaction takes place in an IFrame.\n",
    "\n",
    "First we create the auth request URL by appending the required parameters to the auth URL provided by us during registration:\n"
   ]
  },
  {
   "cell_type": "code",
   "execution_count": 14,
   "metadata": {},
   "outputs": [
    {
     "data": {
      "text/html": [
       "<iframe id=\"deeplinking\" name=\"deeplinking\" style=\"height: 300px; width:100%\"></iframe>"
      ],
      "text/plain": [
       "<IPython.core.display.HTML object>"
      ]
     },
     "metadata": {},
     "output_type": "display_data"
    },
    {
     "data": {
      "application/javascript": [
       "$.getScript(\"https://code.jquery.com/jquery-3.3.1.min.js\", function () {\n",
       "\n",
       "                var ltiForm = $('<form>');                \n",
       "                ltiForm.attr('action', 'http://localhost:5000/auth');\n",
       "                ltiForm.attr('method', 'POST');\n",
       "                ltiForm.attr('target', 'deeplinking');\n",
       "                $('<input>').attr({\n",
       "                    type: 'hidden',\n",
       "                    name: 'scope',\n",
       "                    value: 'open_id'\n",
       "                }).appendTo(ltiForm);\n",
       "                $('<input>').attr({\n",
       "                    type: 'hidden',\n",
       "                    name: 'response_type',\n",
       "                    value: 'id_token'\n",
       "                }).appendTo(ltiForm);\n",
       "                $('<input>').attr({\n",
       "                    type: 'hidden',\n",
       "                    name: 'client_id',\n",
       "                    value: '1'\n",
       "                }).appendTo(ltiForm);\n",
       "                $('<input>').attr({\n",
       "                    type: 'hidden',\n",
       "                    name: 'login_hint',\n",
       "                    value: 'instructor'\n",
       "                }).appendTo(ltiForm);\n",
       "                $('<input>').attr({\n",
       "                    type: 'hidden',\n",
       "                    name: 'lti_message_hint',\n",
       "                    value: 'deeplink'\n",
       "                }).appendTo(ltiForm);\n",
       "                $('<input>').attr({\n",
       "                    type: 'hidden',\n",
       "                    name: 'response_mode',\n",
       "                    value: 'form_post'\n",
       "                }).appendTo(ltiForm);\n",
       "                $('<input>').attr({\n",
       "                    type: 'hidden',\n",
       "                    name: 'nonce',\n",
       "                    value: 'XSRF_session_bound_value_26809'\n",
       "                }).appendTo(ltiForm);\n",
       "                $('<input>').attr({\n",
       "                    type: 'hidden',\n",
       "                    name: 'state',\n",
       "                    value: 'XSRF_session_bound_value_26809'\n",
       "                }).appendTo(ltiForm);\n",
       "                $('<input>').attr({\n",
       "                    type: 'hidden',\n",
       "                    name: 'redirect_uri',\n",
       "                    value: 'http://localhost:8888/setandshow?ciid=abc1234'\n",
       "                }).appendTo(ltiForm);\n",
       "                \n",
       "                $('#deeplinking').before(ltiForm);\n",
       "                ltiForm.submit();\n",
       "                ltiForm.remove();\n",
       "                });\n"
      ],
      "text/plain": [
       "<IPython.core.display.Javascript object>"
      ]
     },
     "metadata": {},
     "output_type": "display_data"
    }
   ],
   "source": [
    "auth_request_params = {\n",
    "    'scope': 'open_id', #we only use the flow for OIDC, not to get an access token\n",
    "    'response_type': 'id_token',\n",
    "    'client_id': tool_info['client_id'],\n",
    "    'login_hint': init_login_request['login_hint'],\n",
    "    'lti_message_hint': init_login_request['lti_message_hint'],\n",
    "    'response_mode': 'form_post', # with LTI we expect the user to already have a session in the platform\n",
    "    'nonce': orig_state, #a nonce compared to state should fail if replayed, here our state is also a nonce\n",
    "    'state': orig_state,\n",
    "    'redirect_uri': redirect_uri\n",
    "}\n",
    "\n",
    "autopost_iframe('deeplinking', tool_info['oidc_auth_endpoint'], auth_request_params)"
   ]
  },
  {
   "cell_type": "code",
   "execution_count": 16,
   "metadata": {},
   "outputs": [
    {
     "data": {
      "text/markdown": [
       "Success! The redirect_uri received aut response and the state we received matches the original one (XSRF defence)"
      ],
      "text/plain": [
       "<IPython.core.display.Markdown object>"
      ]
     },
     "metadata": {},
     "output_type": "display_data"
    }
   ],
   "source": [
    "if state and orig_state == state:\n",
    "    md('Success! The redirect_uri received aut response and the state we received matches the original one (XSRF defence)')\n",
    "else:\n",
    "    mdb('Hmmm... No state is set or it does not match.')\n",
    "    mdb('If there were correct values shown in the iframe above, you can just copy the id_token value and create an `id_token` variable')\n",
    "    mdb()\n"
   ]
  },
  {
   "cell_type": "code",
   "execution_count": 17,
   "metadata": {},
   "outputs": [
    {
     "data": {
      "text/markdown": [
       "`id_token=eyJ0eXAiOiJKV1QiLCJhbGciOiJSUzI1NiIsImtpZCI6IjE1NDM1NTkzODNfMiJ9.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.h6kZuh6Va_wgvDzO2SZQ6yA5LrPQmxrimkMDDsxP2hSV53mTVPpuyu3mpkjWGC3hlxPfBFaoawLYHNjEdCYCpQtzvba3QuvKH0nPNz_ztKsl0sgXgEZ-IvVPsDngVt5Jt05a2T1ZjlT2_Wsu0aUX6-BHoItio3eIAxob8_XDeJ0KE_i32Qg7iKNkO-ihBw3Hye0pVXNFq8vD68lDfbIqYvK_s1FKBXsR4qcFE-cipQuXg8iAui-J0YflN18Bcspn-iIDV9eCA3Pa3DtSTNDY0EQ1hW45M4YjyuMPIpwFkUrfaZbRxTuYrNy_7Cw9LjlADwY7cAw7L8ETrvfcyWPwhA`"
      ],
      "text/plain": [
       "<IPython.core.display.Markdown object>"
      ]
     },
     "metadata": {},
     "output_type": "display_data"
    }
   ],
   "source": [
    "# id_token= paste here the value if not set directly in Kernel\n",
    "if id_token:\n",
    "    md('`id_token='+ id_token + '`')\n",
    "else:\n",
    "    md('No `id_token`')"
   ]
  },
  {
   "cell_type": "markdown",
   "metadata": {},
   "source": [
    "### Task 1: Verify the JWT is properly signed\n",
    "\n",
    "The first thing before to display to the user the picker/authoring interface to create the link is to validate this request is properly signed. This is done by decoding the JWT using public key from the platform.\n"
   ]
  },
  {
   "cell_type": "code",
   "execution_count": 18,
   "metadata": {},
   "outputs": [
    {
     "data": {
      "text/markdown": [
       "1543559383_2"
      ],
      "text/plain": [
       "<IPython.core.display.Markdown object>"
      ]
     },
     "metadata": {},
     "output_type": "display_data"
    },
    {
     "data": {
      "text/markdown": [
       "#### Message properly signed! Decoded ContentItemSelectionRequest message:"
      ],
      "text/plain": [
       "<IPython.core.display.Markdown object>"
      ]
     },
     "metadata": {},
     "output_type": "display_data"
    },
    {
     "data": {
      "text/markdown": [
       "```json\n",
       "{\n",
       "    \"https://purl.imsglobal.org/spec/lti-dl/claim/deep_linking_settings\": {\n",
       "        \"accept_types\": [\n",
       "            \"ltiLink\"\n",
       "        ],\n",
       "        \"accept_presentation_document_targets\": [\n",
       "            \"iframe\",\n",
       "            \"window\"\n",
       "        ],\n",
       "        \"accept_multiple\": true,\n",
       "        \"auto_create\": true,\n",
       "        \"data\": \"op=321&v=44\"\n",
       "    },\n",
       "    \"nonce\": \"8374cd56-f469-11e8-86ae-c48e8ffb7857\",\n",
       "    \"iat\": 1543559464,\n",
       "    \"exp\": 1543559524,\n",
       "    \"iss\": \"http://localhost:5000\",\n",
       "    \"aud\": \"1\",\n",
       "    \"https://purl.imsglobal.org/spec/lti/claim/deployment_id\": \"deployment_1\",\n",
       "    \"https://purl.imsglobal.org/spec/lti/claim/message_type\": \"LTIDeepLinkingRequest\",\n",
       "    \"https://purl.imsglobal.org/spec/lti/claim/version\": \"1.3.0\",\n",
       "    \"https://purl.imsglobal.org/spec/lti/claim/launch_presentation\": {\n",
       "        \"document_target\": \"iframe\",\n",
       "        \"return_url\": \"http://localhost:5000/tool/7f18af70-f469-11e8-86ae-c48e8ffb7857/dlr\"\n",
       "    },\n",
       "    \"sub\": \"LTIBCU_2\",\n",
       "    \"given_name\": \"Fleurette\",\n",
       "    \"family_name\": \"Michel\",\n",
       "    \"name\": \"Fleurette Michel\",\n",
       "    \"email\": \"Fleurette.Michel@example.com\",\n",
       "    \"https://purl.imsglobal.org/spec/lti/claim/roles\": [\n",
       "        \"http://purl.imsglobal.org/vocab/lis/v2/membership#Instructor\"\n",
       "    ],\n",
       "    \"https://purl.imsglobal.org/spec/lti/claim/context\": {\n",
       "        \"id\": \"7f18af70-f469-11e8-86ae-c48e8ffb7857\",\n",
       "        \"label\": \"LTI Bootcamp Course\",\n",
       "        \"title\": \"LTI Bootcamp Course\",\n",
       "        \"type\": [\n",
       "            \"CourseSection\"\n",
       "        ]\n",
       "    },\n",
       "    \"https://purl.imsglobal.org/spec/lti-ags/claim/endpoint\": {\n",
       "        \"scope\": [\n",
       "            \"https://purl.imsglobal.org/spec/lti-ags/scope/lineitem\",\n",
       "            \"https://purl.imsglobal.org/spec/lti-ags/scope/score\",\n",
       "            \"https://purl.imsglobal.org/spec/lti-ags/scope/result.readonly\"\n",
       "        ],\n",
       "        \"lineitems\": \"http://localhost:5000/7f18af70-f469-11e8-86ae-c48e8ffb7857/lineitems\"\n",
       "    },\n",
       "    \"https://purl.imsglobal.org/spec/lti-nrps/claim/namesroleservice\": {\n",
       "        \"context_memberships_url\": \"http://localhost:5000/7f18af70-f469-11e8-86ae-c48e8ffb7857/memberships\"\n",
       "    },\n",
       "    \"https://purl.imsglobal.org/spec/lti/claim/tool_platform\": {\n",
       "        \"name\": \"LTI Bootcamp Platform\",\n",
       "        \"guid\": \"ltibc_at_1543559384\"\n",
       "    }\n",
       "}```"
      ],
      "text/plain": [
       "<IPython.core.display.Markdown object>"
      ]
     },
     "metadata": {},
     "output_type": "display_data"
    }
   ],
   "source": [
    "# Let's get the kid so we can get the proper public key\n",
    "\n",
    "# should check ISS first to lookup keyset\n",
    "\n",
    "encoded_jwt = id_token\n",
    "jwt_headers = jwt.get_unverified_header(encoded_jwt)\n",
    "\n",
    "md(jwt_headers['kid'])\n",
    "content_item_message = jwt.decode(encoded_jwt, \n",
    "                                  platform_keys[jwt_headers['kid']], \n",
    "                                  jwt_headers['alg'],\n",
    "                                  audience = tool_info['client_id'])\n",
    "\n",
    "md('#### Message properly signed! Decoded ContentItemSelectionRequest message:')\n",
    "md('```json\\n'+ json.dumps(content_item_message, indent=4)+'```')\n"
   ]
  },
  {
   "cell_type": "markdown",
   "metadata": {},
   "source": [
    "### Task 2: extract the information needed to render the selector/authoring UI\n",
    "\n",
    "If this is the first launch for the user or the course, as a tool you may prompt the user for setup information, including account linking or course setup. Ultimately the user will see the authoring or picking interface that will allow her to create or select the content items to be added to the course.\n",
    "\n",
    "Some key attributes of the `ContentItemSelectionRequest` will drive the experience:"
   ]
  },
  {
   "cell_type": "code",
   "execution_count": null,
   "metadata": {},
   "outputs": [],
   "source": [
    "# fc(claim) prefix the claim with http://imsglobal.org/lti/\n",
    "mdb('1. What is the current course id? {0}'.format(content_item_message[fc('context')]['id']))\n",
    "mdb('1. What is the current user id? {0}'.format(content_item_message['sub']))\n",
    "is_instructor = len(list(filter(lambda x: 'instructor' in x.lower(), content_item_message[fc('roles')])))>0\n",
    "mdb('1. Is this user an instructor? {0}'.format(is_instructor))\n",
    "deep_linking_claim = content_item_message[fc('deep_linking_settings', 'dl')]\n",
    "mdb('1. What kind of content item can be created? {0}'.format(deep_linking_claim['accept_types']))\n",
    "mdb('1. Can I return more than one items to be added? {0}'.format(deep_linking_claim['accept_multiple']))\n",
    "mdb('1. Will the user be prompted before to actually save the items? {0}'.format(not deep_linking_claim['auto_create']))\n",
    "deep_linking_return_url = content_item_message[fc('launch_presentation')]['return_url']\n",
    "mdb('1. Where should I redirect the browser too when done? {0}'.format(deep_linking_return_url))\n",
    "mdb('1. Is there any data I must pass back to platform when I return? {0}'.format('data' in deep_linking_claim))\n",
    "mdb()"
   ]
  },
  {
   "cell_type": "markdown",
   "metadata": {},
   "source": [
    "### Task 3: building the response token\n",
    "\n",
    "After the end of the interaction, so user is sent back to the platform throught a browser redirection using an HTTP POST containing the JWT `ContentItemResponse` message. In this case, we will return 2 LTI links, one being graded (since the request supports multiple content items).\n",
    "\n",
    "Here we're creating the actual response token."
   ]
  },
  {
   "cell_type": "code",
   "execution_count": null,
   "metadata": {},
   "outputs": [],
   "source": [
    "## First let's create our 2 content items\n",
    "## Note that the URLs are phony as for now there is now way to launch in the notebook anyway...\n",
    "simple_link =  {\n",
    "      \"type\": \"ltilink\",\n",
    "      \"url\": \"http://lti.bootcamp/item111\",\n",
    "      \"window\": {\n",
    "        \"targetName\": \"bootcamp-win\"\n",
    "      },\n",
    "      \"iframe\": {\n",
    "        \"height\": 890\n",
    "      },\n",
    "      \"title\": \"A simple content item\",\n",
    "      \"text\": \"Some long text\",\n",
    "      \"icon\": {\n",
    "        \"url\": \"http://lti.example.com/image.jpg\",\n",
    "        \"width\": 100,\n",
    "        \"height\": 100\n",
    "      },\n",
    "      \"custom\": {\n",
    "        \"lab\": \"sim4e\"\n",
    "      }\n",
    "}\n",
    "\n",
    "assignment_link =  {\n",
    "      \"type\": \"ltilink\",\n",
    "      \"title\": \"An assignment\",\n",
    "      \"text\": \"Chemical lab sim\",\n",
    "      \"window\": {\n",
    "        \"targetName\": \"examplePublisherContent\"\n",
    "      },\n",
    "      \"iframe\": {\n",
    "        \"height\": 890\n",
    "      },\n",
    "      \"icon\": {\n",
    "        \"url\": \"http://lti.example.com/image.jpg\",\n",
    "        \"width\": 100,\n",
    "        \"height\": 100\n",
    "      },\n",
    "      \"custom\": {\n",
    "        \"lab\": \"sim3a\",\n",
    "        \"level\": \"easy\"\n",
    "      },\n",
    "      \"lineItem\": {\n",
    "        \"scoreMaximum\": 34,\n",
    "        \"label\": \"Chemical lab sim\",\n",
    "        \"resourceId\": \"sim3a\",\n",
    "        \"tag\": \"final_grade\"\n",
    "      }\n",
    "}\n",
    "\n",
    "now = int(time())\n",
    "\n",
    "deep_linking_response = {\n",
    "    \"iss\": tool_info['client_id'],\n",
    "    \"aud\": content_item_message['iss'],\n",
    "    \"exp\": now + 60,\n",
    "    \"iat\": now,\n",
    "    fc('message_type'): \"DeepLinkingResponse\",\n",
    "    fc('version'): \"1.3.0\",\n",
    "    fc('content_items', 'dl'): [\n",
    "        simple_link, assignment_link\n",
    "    ]\n",
    "    \n",
    "}"
   ]
  },
  {
   "cell_type": "markdown",
   "metadata": {},
   "source": [
    "### Task 4: build the signed JWT"
   ]
  },
  {
   "cell_type": "code",
   "execution_count": null,
   "metadata": {},
   "outputs": [],
   "source": [
    "deep_linking_response_token = jwt.encode(deep_linking_response, notebook_private_key, 'RS256').decode()\n",
    "\n",
    "print(deep_linking_response_token)"
   ]
  },
  {
   "cell_type": "markdown",
   "metadata": {},
   "source": [
    "### Task 5: redirect the user back to the platform with the content item selection\n",
    "\n",
    "Now that we the response token, let's do the actual HTML POST redirection to the platform. Note that because the platform supports `autocreate` there will be no prompt. The 2 items will be added directly to the course.\n"
   ]
  },
  {
   "cell_type": "code",
   "execution_count": null,
   "metadata": {},
   "outputs": [],
   "source": [
    "\n",
    "autosubmit_js = \"\"\"\n",
    "                var ltiForm = $('<form>');                \n",
    "                ltiForm.attr('action', '{url}');\n",
    "                ltiForm.attr('method', 'POST');\n",
    "                ltiForm.attr('target', 'deeplinking_frame');\n",
    "                $('<input>').attr({{\n",
    "                    type: 'hidden',\n",
    "                    name: 'jws_token',\n",
    "                    value: '{token}'\n",
    "                }}).appendTo(ltiForm);\n",
    "                $('#deeplinking_frame').before(ltiForm);\n",
    "                ltiForm.submit();\n",
    "                ltiForm.remove();\n",
    "                \"\"\"\n",
    "\n",
    "autosubmit_js = autosubmit_js.format(url=deep_linking_return_url, token=deep_linking_response_token)\n",
    "\n",
    "display(HTML('<iframe id=\"deeplinking_frame\" name=\"deeplinking_frame\" style=\"height: 300px; width:100%\"></iframe>'))\n",
    "display(Javascript(data=autosubmit_js, \n",
    "                   lib=\"https://code.jquery.com/jquery-3.3.1.min.js\"))"
   ]
  },
  {
   "cell_type": "markdown",
   "metadata": {},
   "source": [
    "## Student Resource Link launch\n",
    "\n",
    "Now that we have created resource links, let's handle a student launch from one of them. We're going to use a resource link with a **coupled** line item, so that we can use it to send a score back to the platform.\n",
    "\n",
    "### Setup\n",
    "\n",
    "The first thing we need, as with deep linking, is to get from the test platform the launch token which an actual tool would get in an actual HTML Form Post."
   ]
  },
  {
   "cell_type": "code",
   "execution_count": null,
   "metadata": {},
   "outputs": [],
   "source": [
    "# in automated run, force a sleep for the response above to have been processed\n",
    "sleep(3)\n",
    "\n",
    "# select an id from the ones displayed in the course platform in the IFrame above\n",
    "# if not specified the platform will pick a resource to use\n",
    "\n",
    "resource_link_id = ''\n",
    "context_id = content_item_message[fc('context')]['id']\n",
    "\n",
    "r = requests.get(\"{}/tool/{}/context/{}/studentlaunch?rlid={}\".format(platform_url, \n",
    "                                                           tool_info['client_id'], \n",
    "                                                           context_id, \n",
    "                                                           resource_link_id))\n",
    "\n",
    "post_data = {\n",
    "    'id_token':r.text\n",
    "}\n",
    "\n",
    "md('`id_token='+ r.text+'`')"
   ]
  },
  {
   "cell_type": "markdown",
   "metadata": {},
   "source": [
    "### Task 1: Decode the launch\n",
    "\n",
    "Now, same as with the Deep Linking request, we decode the token:"
   ]
  },
  {
   "cell_type": "code",
   "execution_count": null,
   "metadata": {
    "scrolled": true
   },
   "outputs": [],
   "source": [
    "encoded_jwt = post_data['id_token']\n",
    "jwt_headers = jwt.get_unverified_header(encoded_jwt)\n",
    "\n",
    "student_launch = jwt.decode(encoded_jwt, \n",
    "                            platform_keys[jwt_headers['kid']], \n",
    "                            jwt_headers['alg'],\n",
    "                            audience = tool_info['client_id'])\n",
    "\n",
    "md('```json\\n'+ json.dumps(student_launch, indent=4)+'```')"
   ]
  },
  {
   "cell_type": "markdown",
   "metadata": {},
   "source": [
    "### Task 2: extract information to show the correct activity\n",
    "\n",
    "The launch gives information about the user, her role, the course, but also which actual resource we want to launch into."
   ]
  },
  {
   "cell_type": "code",
   "execution_count": null,
   "metadata": {},
   "outputs": [],
   "source": [
    "# fc(claim) prefix the claim with http://imsglobal.org/lti/\n",
    "mdb('1. Is this a resource link launch? {0}'.format(student_launch[fc('message_type')] == 'LTIResourceLinkLaunch'))\n",
    "mdb('1. What is the id of the resource link that is launched? {0}'.format(student_launch[fc('resource_link')]['id']))\n",
    "mdb('1. What is the name of the resource that is launched? {0}'.format(student_launch[fc('resource_link')]['title']))\n",
    "mdb('1. What is the current course id? {0}'.format(student_launch[fc('context')]['id']))\n",
    "mdb('1. What is the current user id? {0}'.format(student_launch['sub']))\n",
    "is_learner = len(list(filter(lambda x: 'learner' in x.lower(), student_launch[fc('roles')])))>0\n",
    "mdb('1. Is this user a student? {0}'.format(is_learner))\n",
    "return_url = student_launch[fc('launch_presentation')]['return_url']\n",
    "mdb('1. Where should I redirect the browser too when done? {0}'.format(return_url))\n",
    "mdb('1. Which lab should be displayed? {0}'.format(student_launch[fc('custom')]['lab']))\n",
    "ags_claim = student_launch[fc('endpoint', 'ags')]\n",
    "mdb('1. Is there a gradebook column for this resource? {0}'.format('lineitem' in ags_claim))\n",
    "mdb()\n"
   ]
  },
  {
   "cell_type": "markdown",
   "metadata": {},
   "source": [
    "## Assignment and Grade Services: Posting a grade to a coupled line item\n",
    "\n",
    "Now that the student has launched into a grading activity, eventually she will complete it. Let's assume this is an autograded quiz. At the end of the interaction, we're going to send a score.\n",
    "\n",
    "<img src=\"assets/ags.png\" width=\"60%\">\n",
    "\n",
    "The line item (gradebook column) was created declaratively by the platform when the resource link was created (at the end of the deep linking flow). The line item and the resource link are **coupled**. Due to this explicit relationship, the platform passes us directly the associated line item URL, which we will use to send scores. "
   ]
  },
  {
   "cell_type": "markdown",
   "metadata": {},
   "source": [
    "### Task 1: Get an access token\n",
    "\n",
    "To be able to send a grade, or call any service on that matter, we must first get an access token. This is done by using a JWT based client grant flow [RFC-7523](https://tools.ietf.org/html/rfc7523).\n",
    "\n",
    "Here we will re-use the token for the rest of the notebook, so we don't specify scope. If you intend to use the token only for a given operation, it is a good practice to scope it accordingly.\n",
    "\n",
    "The grant type is [client_credentials](https://tools.ietf.org/html/rfc6749#section-1.3.4) as the trust is established between the tool and the platform. The current user and context are not considered.\n"
   ]
  },
  {
   "cell_type": "code",
   "execution_count": null,
   "metadata": {},
   "outputs": [],
   "source": [
    "## Let's define auth functions we can re-use for other calls\n",
    "\n",
    "def get_token(scope):\n",
    "    display(scope)\n",
    "    token_endpoint = tool_info['accesstoken_endpoint']\n",
    "\n",
    "    now = int(time())\n",
    "\n",
    "    assertion = {\n",
    "        \"iss\": tool_info['client_id'],\n",
    "        \"aud\": token_endpoint,\n",
    "        \"exp\": now + 60,\n",
    "        \"iat\": now,\n",
    "        \"jti\": \"{0}-{1}\".format(tool_info['client_id'], now)\n",
    "    }\n",
    "\n",
    "    assertion_jwt = jwt.encode(assertion, tool_info['webkeyPem'], 'RS256').decode()\n",
    "\n",
    "    return json.loads(requests.post(token_endpoint, data = {\n",
    "        'client_assertion': assertion_jwt,\n",
    "        'grant_type': 'client_credentials',\n",
    "        'scope': scope,\n",
    "        'client_assertion_type': 'urn:ietf:params:oauth:client-assertion-type:jwt-bearer'\n",
    "    }).text)\n",
    "\n",
    "# We'll also need to create a proper header, so let's also create a function for that\n",
    "def add_authorization(headers, access_token):\n",
    "    b64token = base64.b64encode(access_token.encode('utf-8')).decode()\n",
    "    headers.update({'Authorization': 'Bearer {0}'.format(b64token)})\n",
    "\n",
    "    \n"
   ]
  },
  {
   "cell_type": "code",
   "execution_count": null,
   "metadata": {},
   "outputs": [],
   "source": [
    "token_info = get_token('{0} {1}'.format(scope('result.readonly', s='ags'), scope('score', s='ags')))\n",
    "md('#### Access token:')\n",
    "md('```json\\n'+ json.dumps(token_info, indent=4)+'```')"
   ]
  },
  {
   "cell_type": "markdown",
   "metadata": {},
   "source": [
    "### Task 2: Publish a score"
   ]
  },
  {
   "cell_type": "code",
   "execution_count": null,
   "metadata": {
    "scrolled": true
   },
   "outputs": [],
   "source": [
    "# Scores in the subpath scores from lineitem.\n",
    "def append_to_path(path, subpath):\n",
    "    p = re.compile('lineitem($|\\?|#)')\n",
    "    return p.sub('lineitem/{0}\\\\1'.format(subpath), path)\n",
    "\n",
    "scores_url = append_to_path(ags_claim['lineitem'], 'scores')\n",
    "\n",
    "score = {\n",
    "    'userId': student_launch['sub'],\n",
    "    'scoreGiven': 9,\n",
    "    'scoreMaximum': 10,\n",
    "    'activityProgress': 'Completed',\n",
    "    'gradingProgress': 'FullyGraded',\n",
    "    'timestamp': datetime.utcnow().isoformat()\n",
    "}\n",
    "\n",
    "headers = {'Content-Type': 'application/vnd.ims.lis.v1.score+json'}\n",
    "add_authorization(headers, token_info['access_token'])\n",
    "\n",
    "r = requests.post(scores_url.encode(), headers=headers, data=json.dumps(score))\n",
    "\n",
    "# let's check it was OK\n",
    "r.raise_for_status()\n",
    "\n",
    "md('The score was processed successfully be the back-end')\n",
    "\n",
    "\n"
   ]
  },
  {
   "cell_type": "markdown",
   "metadata": {},
   "source": [
    "### Task 3: get the results\n",
    "\n",
    "Let's not get the results to see our operation did actually succeed"
   ]
  },
  {
   "cell_type": "code",
   "execution_count": null,
   "metadata": {},
   "outputs": [],
   "source": [
    "results_url = append_to_path(ags_claim['lineitem'], 'results')\n",
    "\n",
    "headers = {'Content-Type': 'application/vnd.ims.lis.v2.resultcontainer+json'}\n",
    "add_authorization(headers, token_info['access_token'])\n",
    "\n",
    "r = requests.get(results_url.encode(), headers=headers)\n",
    "\n",
    "# let's check it was OK\n",
    "r.raise_for_status()\n",
    "\n",
    "md('#### Current results for item')\n",
    "md('```json\\n'+ json.dumps(r.json(), indent=4)+'```')\n",
    "\n"
   ]
  },
  {
   "cell_type": "markdown",
   "metadata": {},
   "source": [
    "### Task 4: marking a score as needing grading\n",
    "Assignment and Grade services allow for more than just passing grade. Let's say we just want to mark a submission was done, and the instructor requires to manually grade the essay. In which case, we can post a Score indicating the status of the activity is completed, and the grading needs manual intervention using the `activityProgress` and `gradingProgress` attributes."
   ]
  },
  {
   "cell_type": "code",
   "execution_count": null,
   "metadata": {},
   "outputs": [],
   "source": [
    "score = {\n",
    "    'userId': student_launch['sub'],\n",
    "    'activityProgress': 'Completed',\n",
    "    'gradingProgress': 'PendingManual',\n",
    "    'timestamp': datetime.utcnow().isoformat()\n",
    "}\n",
    "\n",
    "headers = {'Content-Type': 'application/vnd.ims.lis.v1.score+json'}\n",
    "add_authorization(headers, token_info['access_token'])\n",
    "\n",
    "r = requests.post(scores_url.encode(), headers=headers, data=json.dumps(score))\n",
    "\n",
    "# let's check it was OK\n",
    "r.raise_for_status()\n",
    "\n",
    "md('The score was processed successfully be the back-end')\n"
   ]
  },
  {
   "cell_type": "markdown",
   "metadata": {},
   "source": [
    "We can see it now in the platform gradebook:"
   ]
  },
  {
   "cell_type": "code",
   "execution_count": null,
   "metadata": {},
   "outputs": [],
   "source": [
    "platform_gradebook_url = '{0}/course/{1}/gradebook'.format(platform_url, student_launch[fc('context')]['id'])\n",
    "display(HTML('<iframe src=\"{0}\" style=\"height: 300px; width:100%\"></iframe>'.format(platform_gradebook_url)))"
   ]
  },
  {
   "cell_type": "markdown",
   "metadata": {},
   "source": [
    "## Assignment and Grade Services - Uncoupled\n",
    "\n",
    "The assignment and grade services support an alternate way to create line items: rather than having the platform creates a line item when it creates a link, a tool may use the API to create standalone line items, i.e. uncoupled from any lti link (the API may optionaly include an ltiLinkId to tie the one or many line items to a single resource link, although platforms will often treat this association as weaker than a declarative flow).\n",
    "\n",
    "Let's use the API to add a new line item, send some scores to it, then delete it.\n"
   ]
  },
  {
   "cell_type": "markdown",
   "metadata": {},
   "source": [
    "### Task 1: get a properly scoped token\n",
    "\n",
    "Same as before, we just need to now ask also for the scope to allow line item management."
   ]
  },
  {
   "cell_type": "code",
   "execution_count": null,
   "metadata": {},
   "outputs": [],
   "source": [
    "token_info = get_token(' '.join([scope('lineitem', s='ags'), scope('score', s='ags'), scope('result.readonly', 'ags')]))\n",
    "\n",
    "md('#### Access token with all assignment and grade services scopes:')\n",
    "md('```json\\n'+ json.dumps(token_info, indent=4)+'```')"
   ]
  },
  {
   "cell_type": "markdown",
   "metadata": {},
   "source": [
    "### Task 2: create a new line item and post score\n",
    "\n",
    "The `lineitems` is the URL representating all the line items in the current context bound to our tool. We can do a GET to see all the existing items, and a POST to add a new one. Let's start by adding one:"
   ]
  },
  {
   "cell_type": "code",
   "execution_count": null,
   "metadata": {},
   "outputs": [],
   "source": [
    "# note the specific mediatype\n",
    "headers = {'Content-Type': 'application/vnd.ims.lis.v2.lineitem+json'}\n",
    "add_authorization(headers, token_info['access_token'])\n",
    "\n",
    "lineitem = {\n",
    "    \"resourceId\": \"bootcamp\",\n",
    "    \"tag\": \"participation\",\n",
    "    \"label\": \"Participation in Bootcamp\",\n",
    "    \"scoreMaximum\": 25\n",
    "}\n",
    "\n",
    "r = requests.post(ags_claim['lineitems'], headers=headers, data=json.dumps(lineitem))\n",
    "\n",
    "r.raise_for_status()\n",
    "\n",
    "uncoupled_item = r.json();\n",
    "\n",
    "md('#### Successfully added line item:')\n",
    "md('```json\\n'+ json.dumps(uncoupled_item, indent=4)+'```')\n",
    "\n"
   ]
  },
  {
   "cell_type": "code",
   "execution_count": null,
   "metadata": {},
   "outputs": [],
   "source": [
    "r = requests.get(ags_claim['lineitems'], headers=headers)\n",
    "\n",
    "# let's check it was OK\n",
    "r.raise_for_status()\n",
    "\n",
    "md('#### Current line items for this tool in the context')\n",
    "md('```json\\n'+ json.dumps(r.json(), indent=4)+'```')"
   ]
  },
  {
   "cell_type": "markdown",
   "metadata": {},
   "source": [
    "Sending the score to the uncoupled line item is the same as with the coupled one, the id being the line item URL."
   ]
  },
  {
   "cell_type": "code",
   "execution_count": null,
   "metadata": {},
   "outputs": [],
   "source": [
    "scores_url = append_to_path(uncoupled_item['id'], 'scores')\n",
    "\n",
    "score = {\n",
    "    'userId': student_launch['sub'],\n",
    "    'scoreGiven': 10,\n",
    "    'scoreMaximum': 10,\n",
    "    'activityProgress': 'Completed',\n",
    "    'gradingProgress': 'FullyGraded',\n",
    "    'timestamp': datetime.utcnow().isoformat()\n",
    "}\n",
    "\n",
    "headers = {'Content-Type': 'application/vnd.ims.lis.v1.score+json'}\n",
    "add_authorization(headers, token_info['access_token'])\n",
    "\n",
    "r = requests.post(scores_url.encode(), headers=headers, data=json.dumps(score))\n",
    "\n",
    "# let's check it was OK\n",
    "r.raise_for_status()\n",
    "\n",
    "md('The score was processed successfully be the back-end')\n"
   ]
  },
  {
   "cell_type": "markdown",
   "metadata": {},
   "source": [
    "### Task 3: Updating the line item\n",
    "\n",
    "Update is done by PUTting the updated definition to the line item  URL (id)."
   ]
  },
  {
   "cell_type": "code",
   "execution_count": null,
   "metadata": {},
   "outputs": [],
   "source": [
    "# note the specific mediatype\n",
    "headers = {'Content-Type': 'application/vnd.ims.lis.v2.lineitem+json'}\n",
    "add_authorization(headers, token_info['access_token'])\n",
    "\n",
    "lineitem = {\n",
    "    \"resourceId\": \"bootcamp\",\n",
    "    \"tag\": \"participation\",\n",
    "    \"label\": \"Participation (uncoupled)\",\n",
    "    \"scoreMaximum\": 30\n",
    "}\n",
    "\n",
    "r = requests.put(uncoupled_item['id'], headers=headers, data=json.dumps(lineitem))\n",
    "                           \n",
    "r.raise_for_status()\n",
    "\n",
    "uncoupled_item = r.json();\n",
    "\n",
    "md('#### Successfully updated line item:')\n",
    "md('```json\\n'+ json.dumps(uncoupled_item, indent=4)+'```')\n"
   ]
  },
  {
   "cell_type": "markdown",
   "metadata": {},
   "source": [
    "You can also scroll back up where the platform UI is displayed and check in the gradebook to see the item is present (and scores have been rescaled)."
   ]
  },
  {
   "cell_type": "markdown",
   "metadata": {},
   "source": [
    "### Task 4: Delete the uncoupled line item\n",
    "\n",
    "Deleting is just issuing a DELETE command the line item URL."
   ]
  },
  {
   "cell_type": "code",
   "execution_count": null,
   "metadata": {},
   "outputs": [],
   "source": [
    "# no content type, it's a delete\n",
    "headers = {}\n",
    "add_authorization(headers, token_info['access_token'])\n",
    "\n",
    "r = requests.delete(uncoupled_item['id'], headers=headers)\n",
    "                           \n",
    "r.raise_for_status()\n",
    "\n",
    "md('#### Successfully deleted line item')\n"
   ]
  },
  {
   "cell_type": "markdown",
   "metadata": {},
   "source": [
    "## Names and Role Provisioning Service\n",
    "\n",
    "Or more simply, membership service, lets you get the roster of the course.\n",
    "\n",
    "<img src=\"assets/membership.png\" width=\"60%\">\n",
    "\n",
    "This service does not allow any modification of the course roster. At a minimum, the platform will apply the same privacy restrictions that applies to actual launches.\n",
    "\n",
    "### Task 1: Get the full course roster\n",
    "\n",
    "The Assignment and Grade Service endpoint is communicated in the LTI message under the claim `https://purl.imsglobal.org/lti/claim/arps`. The scope to request is `https://purl.imsglobal.org/lti/scope/nrps`.\n",
    "\n"
   ]
  },
  {
   "cell_type": "code",
   "execution_count": null,
   "metadata": {},
   "outputs": [],
   "source": [
    "## Get An Access Token\n",
    "\n",
    "membership_token = get_token(scope('contextmembership.readonly', s='nrps'))\n",
    "\n",
    "## Request the enrollment\n",
    "\n",
    "headers = {'Content-Type': 'application/vnd.ims.lis.v2.membershipcontainer+json'}\n",
    "add_authorization(headers, membership_token['access_token'])\n",
    "membership_url = student_launch[fc('namesroleservice', s='nrps')]['context_memberships_url']\n",
    "\n",
    "r = requests.get(membership_url.encode(), headers=headers)\n",
    "\n",
    "r.raise_for_status()\n",
    "\n",
    "roster = r.json();\n",
    "\n",
    "md('#### Successfully retrieved course roster:')\n",
    "md('```json\\n'+ json.dumps(roster, indent=4)+'```')\n"
   ]
  },
  {
   "cell_type": "markdown",
   "metadata": {},
   "source": [
    "## Task 2: Get all changes since previous sync\n",
    "\n",
    "Some platforms will include in their membership payload a `differences` url. This url, when present, allows the tool to update the roster based on the changes since last time the membership was returned, avoiding to transfer the full roster each time.\n",
    "\n",
    "Use the differences url above to check for updates in roster.\n",
    "\n"
   ]
  },
  {
   "cell_type": "code",
   "execution_count": null,
   "metadata": {},
   "outputs": [],
   "source": [
    "r = requests.get(roster['differences'].encode(), headers=headers)\n",
    "\n",
    "r.raise_for_status()\n",
    "\n",
    "roster_updates = r.json();\n",
    "\n",
    "md('#### Successfully retrieved roster update:')\n",
    "md('```json\\n'+ json.dumps(roster_updates, indent=4)+'```')\n"
   ]
  },
  {
   "cell_type": "markdown",
   "metadata": {},
   "source": [
    "## Task 3: get all students and paging\n",
    "\n",
    "The service allows also to filter by roles using the `role` parameter. Both short and long version of roles can be used to filter (for example `Learner` and `http://purl.imsglobal.org/vocab/lis/v2/membership#Learner`). So let's limit the results to 3 students using the `limit` parameter."
   ]
  },
  {
   "cell_type": "code",
   "execution_count": null,
   "metadata": {
    "scrolled": false
   },
   "outputs": [],
   "source": [
    "params = {'role':'Learner', 'limit': 3}\n",
    "\n",
    "r = requests.get(membership_url.encode(), params=params, headers=headers)\n",
    "\n",
    "r.raise_for_status()\n",
    "\n",
    "roster = r.json();\n",
    "\n",
    "md('#### Students only:')\n",
    "md('```json\\n'+ json.dumps(roster, indent=4)+'```')"
   ]
  },
  {
   "cell_type": "markdown",
   "metadata": {},
   "source": [
    "# Substitution parameters - tailor your launch\n",
    "\n",
    "Substitution parameters allow to have custom parameters resolve at runtime information from the platform. For example, if you would like to know the context history, i.e. from which course this course is a copy from, there is the substitution parameter: `$Context.id.history`. Substitution parameters always start will $ . If the platform supports it, the value will be substituted at runtime, otherwise it will remain `$Context.id.history`.\n",
    "\n",
    "Substitution parameters really allow the tool to tailor its launches based on its particular needs. Substitution parameters may be set during the tool deployment. But it really shines with Deep Linking where the custom parameters can express the substitution parameters to resolve for the added LTI Link.\n",
    "\n",
    "## Task 1: create an LTI Link with a line item and due date support\n",
    "\n",
    "In this exercise, we're going to ask the platform to give us the due date of the activity (when a student is last authorized to submit) `$ResourceLink.submission.endDateTime` and the context history `$Context.id.history`. Since we're at it, we're also going to communicate an initial due date time using the `submission.endDateTime` property in the deep linking item.\n"
   ]
  },
  {
   "cell_type": "code",
   "execution_count": null,
   "metadata": {
    "scrolled": true
   },
   "outputs": [],
   "source": [
    "# Getting a deep linking request from the platform\n",
    "\n",
    "r = requests.get(\"{}/tool/{}/deeplinkingmessage\".format(platform_url, tool_info['client_id']))\n",
    "\n",
    "post_data = {\n",
    "    'id_token':r.text\n",
    "}\n",
    "encoded_jwt = post_data['id_token']\n",
    "jwt_headers = jwt.get_unverified_header(encoded_jwt)\n",
    "\n",
    "content_item_message = jwt.decode(encoded_jwt, \n",
    "                                  platform_keys[jwt_headers['kid']], \n",
    "                                  jwt_headers['alg'],\n",
    "                                  audience = tool_info['client_id'])\n",
    "\n",
    "# Adding an LTI link with a line item and end date\n",
    "\n",
    "due_date = datetime.utcnow() + timedelta(days=7)\n",
    "\n",
    "duedate_assignment_link =  {\n",
    "      \"type\": \"ltilink\",\n",
    "      \"url\": \"http://lti.bootcamp/item111\",\n",
    "      \"title\": \"Assignment with Dates\",\n",
    "      \"text\": \"Do the assignment before the due date\",\n",
    "      \"icon\": {\n",
    "        \"url\": \"http://lti.example.com/image.jpg\",\n",
    "        \"width\": 100,\n",
    "        \"height\": 100\n",
    "      },\n",
    "      \"custom\": {\n",
    "        \"lab\": \"sim3b\",\n",
    "        \"dueDate\": \"$ResourceLink.submission.endDateTime\",\n",
    "        \"contextHistory\": \"$Context.id.history\"\n",
    "      },\n",
    "      \"lineItem\": {\n",
    "        \"scoreMaximum\": 34,\n",
    "        \"label\": \"Chemical lab sim\",\n",
    "        \"resourceId\": \"sim3a\",\n",
    "        \"tag\": \"final_grade\"\n",
    "      },\n",
    "      \"submission\": {\n",
    "          \"endDateTime\": due_date.isoformat()\n",
    "      },\n",
    "      \"window\": {\n",
    "        \"targetName\": \"ltibootcamp-win\"\n",
    "      },\n",
    "      \"iframe\": {\n",
    "        \"height\": 890\n",
    "      }\n",
    "}\n",
    "\n",
    "now = int(time())\n",
    "\n",
    "\n",
    "deep_linking_response = {\n",
    "    \"iss\": tool_info['client_id'],\n",
    "    \"aud\": content_item_message['iss'],\n",
    "    \"exp\": now + 60,\n",
    "    \"iat\": now,\n",
    "    fc(\"message_type\"): \"DeepLinkingResponse\",\n",
    "    fc(\"version\"): \"1.3.0\",\n",
    "    fc(\"content_items\", s='dl'): [\n",
    "        duedate_assignment_link\n",
    "    ]\n",
    "    \n",
    "}\n",
    "\n",
    "# and return to the platform with the selection\n",
    "\n",
    "deep_linking_response_token = jwt.encode(deep_linking_response, tool_info['webkeyPem'], 'RS256').decode()\n",
    "\n",
    "autosubmit_js = \"\"\"\n",
    "                var ltiForm = $('<form>');                \n",
    "                ltiForm.attr('action', '{url}');\n",
    "                ltiForm.attr('method', 'POST');\n",
    "                ltiForm.attr('target', 'deeplinking_frame_2');\n",
    "                $('<input>').attr({{\n",
    "                    type: 'hidden',\n",
    "                    name: 'jws_token',\n",
    "                    value: '{token}'\n",
    "                }}).appendTo(ltiForm);\n",
    "                $('#deeplinking_frame_2').before(ltiForm);\n",
    "                ltiForm.submit();\n",
    "                ltiForm.remove();\n",
    "                \"\"\"\n",
    "\n",
    "autosubmit_js = autosubmit_js.format(url=deep_linking_return_url, token=deep_linking_response_token)\n",
    "\n",
    "display(HTML('<iframe id=\"deeplinking_frame_2\" name=\"deeplinking_frame_2\" style=\"height: 300px; width:100%\"></iframe>'))\n",
    "display(Javascript(data=autosubmit_js, \n",
    "                   lib=\"https://code.jquery.com/jquery-3.3.1.min.js\"))"
   ]
  },
  {
   "cell_type": "markdown",
   "metadata": {},
   "source": [
    "## Task 2: launch the activity and verify substitution parameters\n",
    "\n",
    "Now that we have created a link, let's get a student launch and see if on launch we can get the current due date time. Those could indeed have been changed on the platform, or that student may benefit from an actual extension."
   ]
  },
  {
   "cell_type": "code",
   "execution_count": null,
   "metadata": {},
   "outputs": [],
   "source": [
    "sleep(3)"
   ]
  },
  {
   "cell_type": "code",
   "execution_count": null,
   "metadata": {},
   "outputs": [],
   "source": [
    "# select an id from the ones displayed in the course platform in the IFrame above\n",
    "# if not specified the platform will pick a resource to use\n",
    "\n",
    "resource_link_id = 'fec7ac2d-562f-11e8-a10d-c48e8ffb7857'\n",
    "context_id = content_item_message[fc('context')]['id']\n",
    "\n",
    "r = requests.get(\"{}/tool/{}/context/{}/studentlaunch?rlid={}&accomodation={}\".format(platform_url, \n",
    "                                                           tool_info['client_id'], \n",
    "                                                           context_id, \n",
    "                                                           resource_link_id, 3))\n",
    "\n",
    "post_data = {\n",
    "    'id_token':r.text\n",
    "}\n",
    "\n",
    "encoded_jwt = post_data['id_token']\n",
    "jwt_headers = jwt.get_unverified_header(encoded_jwt)\n",
    "\n",
    "launch = jwt.decode(encoded_jwt, \n",
    "                            platform_keys[jwt_headers['kid']], \n",
    "                            jwt_headers['alg'],\n",
    "                            audience = tool_info['client_id'])\n",
    "\n",
    "md('Student `{0}` assignment is due on `{1}`'.format(launch['name'], launch[fc('custom')]['dueDate']))\n",
    "md('The history of this course context is `{0}`'.format(launch[fc('custom')]['contextHistory']))\n"
   ]
  },
  {
   "cell_type": "code",
   "execution_count": null,
   "metadata": {},
   "outputs": [],
   "source": []
  }
 ],
 "metadata": {
  "kernelspec": {
   "display_name": "Python 3",
   "language": "python",
   "name": "python3"
  },
  "language_info": {
   "codemirror_mode": {
    "name": "ipython",
    "version": 3
   },
   "file_extension": ".py",
   "mimetype": "text/x-python",
   "name": "python",
   "nbconvert_exporter": "python",
   "pygments_lexer": "ipython3",
   "version": "3.6.7"
  }
 },
 "nbformat": 4,
 "nbformat_minor": 2
}
